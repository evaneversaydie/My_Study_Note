{
 "cells": [
  {
   "cell_type": "markdown",
   "metadata": {},
   "source": [
    "# HW6 學習歷程\n",
    "***巨資三 | 林依樺***\n",
    "\n",
    "# 目錄\n",
    "\n",
    "- [Dijkstra說明 與 Kruskal說明](#🔸Dijkstra說明與Kruskal說明)\n",
    "- [Dijkstra 與 Kruskal流程圖](#🔸Dijkstra與Kruskal流程圖)\n",
    "- [學習歷程](#🔸學習歷程)\n",
    "    - [程式碼撰寫](#🔸程式碼撰寫)\n",
    "    - [最終程式碼](#🔸最終程式碼)\n",
    "- [參考資料](#🔸參考資料)\n"
   ]
  },
  {
   "cell_type": "markdown",
   "metadata": {},
   "source": [
    "# 🔸Dijkstra說明與Kruskal說明\n",
    "\n",
    "##  Kruskal\n",
    "* 以邊為紀錄主體的演算法。\n",
    "* Greedy。\n",
    "* 圖需要符合:\n",
    "    * 「連通圖」:圖上任一點一定有路可以到其他點。\n",
    "* 原理:\n",
    "    * 圖裡有n個點，依序紀錄邊(起終點與權重)。\n",
    "    * 起初每個點都視為獨立的tree。\n",
    "    * 依照權重由小至大依序加入邊，連接起各個節點，並使其中之一的點為parent。\n",
    "    * 加入邊的條件是tree一定要成立，不能有loop。\n",
    "    * 會一直到加入的邊數為(節點數-1)為止。\n",
    "    * PS:如果有兩個不相連的樹，則成為森林。最後演算法完成後就止會有一棵孤獨的樹。\n",
    "* 需要紀錄:\n",
    "    * 邊、起始點、終點、權重。\n",
    "    * 所有點的父節點是誰:可以止極的自己的父節點，但會在搜尋上影響效能與記憶體，將所有父節點直接記為root，就是「壓縮」。\n",
    "    <br>(如圖:這張圖計算完的路徑如下，左邊的樹是止記錄自己的爸爸是誰，右邊為壓縮的)\n",
    "        * ![](https://i.imgur.com/EYIu6F2.png)\n",
    "## Dijkstra\n",
    "> 「最短路徑」不見得是邊最少、點最少的路徑。\n",
    "* 尋找最短路徑的演算法之一。\n",
    "* lebal setting(一定要全部算完才能有答案)\n",
    "* 圖需要符合:\n",
    "    * 「權重(不能為負)」。\n",
    "* 原理:\n",
    "    * 只紀錄目前沒有走訪過、且離根最近的點其「起點到該點的最短路徑」。\n",
    "    * 為已經判定的點貼上「路徑長度」標籤。\n",
    "    * 每一個階段都會產生一個標記已經被setting的點，setting的點是該次為被seting的節點中，與根最短的距離(即流程圖被藍筆圈出來的部分，有數!=有labelled)。\n",
    "    * 未開始之前，所有點與起點的最短路徑為「無限大」。\n",
    "    * 若沒有labelled點會走訪到重覆的節點，則會計算目前路徑的距離，如果這次計算的路徑L<先前的路徑l則會把l取代為L，確保最短路徑。\n",
    "    * 會計算很多很多次路徑，但最後只會紀錄跟節點樹一樣的資訊。\n",
    "    * PS:Dijkstra是一種窮舉的方式，如果說一張圖裡面B非起點，A-B有兩種走法:A-B、A-C-B兩種，假設A-B已經是最短路徑， Dijkstra仍會跑過A-C-B，比較兩種路徑的質材可以確定最短路徑。\n",
    "\n",
    "* 需要紀錄:\n",
    "     * 路徑資訊。\n",
    "     * 起點A到任一點的最短路徑。(迭代更新)\n",
    "     * 已經labelled的點。\n",
    "    \n",
    "# 🔸Dijkstra與Kruskal流程圖\n",
    "* [Dijkstra 原圖請點這裡](https://i.imgur.com/ncA3StM.jpg)\n",
    "* [Kruskal 原圖請點這裡](https://i.imgur.com/Jz6FJnC.jpg)\n",
    "![](https://i.imgur.com/aD09ltG.png)\n",
    "![](https://i.imgur.com/Jz6FJnC.jpg)"
   ]
  },
  {
   "cell_type": "markdown",
   "metadata": {},
   "source": [
    "# 🔸學習歷程\n",
    "使用[這篇文章](http://alrightchiu.github.io/SecondRound/minimum-spanning-treekruskals-algorithm.html)的案例。與作業模板的例子(流程圖所使用的例子)。\n",
    "## 1. addedge()"
   ]
  },
  {
   "cell_type": "code",
   "execution_count": 7,
   "metadata": {},
   "outputs": [],
   "source": [
    "from collections import defaultdict \n",
    "\n",
    "#Class to represent a graph \n",
    "class Graph(): \n",
    "\n",
    "    def __init__(self, vertices): \n",
    "        self.V = vertices \n",
    "#         self.graph = [] \n",
    "        self.graph_matrix = [[0 for column in range(vertices)]  \n",
    "                    for row in range(vertices)] \n",
    "        self.graph = [[0 for column in range(vertices)]\n",
    "            for row in range(vertices)]\n",
    "        self.edges = []\n",
    "    def addEdge(self,u,v,w): \n",
    "        self.graph[u][v] = self.graph[v][u] = w\n",
    "        #建立資料，因為是無像圖對稱矩陣\n",
    "        \n",
    "    def Dijkstra(self, s): \n",
    "        \"\"\"\n",
    "        :type s: int\n",
    "        :rtype: dict\n",
    "        \"\"\"\n",
    "        \n",
    "    def Kruskal(self):\n",
    "        \"\"\"\n",
    "        :rtype: dict\n",
    "        \"\"\""
   ]
  },
  {
   "cell_type": "code",
   "execution_count": 252,
   "metadata": {},
   "outputs": [
    {
     "name": "stdout",
     "output_type": "stream",
     "text": [
      "[[0, 5, 0, 0, 0, 3, 0], [5, 0, 10, 0, 1, 0, 4], [0, 10, 0, 5, 0, 0, 8], [0, 0, 5, 0, 7, 0, 9], [0, 1, 0, 7, 0, 6, 2], [3, 0, 0, 0, 6, 0, 0], [0, 4, 8, 9, 2, 0, 0]]\n"
     ]
    }
   ],
   "source": [
    "def example():   \n",
    "    g = Graph(7)\n",
    "    g.addEdge(0, 1, 5)\n",
    "    g.addEdge(0, 5, 3)\n",
    "    g.addEdge(1, 2, 10)\n",
    "    g.addEdge(1, 4, 1)\n",
    "    g.addEdge(1, 6, 4)\n",
    "\n",
    "    g.addEdge(2, 3, 5)\n",
    "    g.addEdge(2, 6, 8)\n",
    "    g.addEdge(3, 4, 7)\n",
    "    g.addEdge(3, 6, 9)\n",
    "    g.addEdge(4, 5, 6)\n",
    "\n",
    "    g.addEdge(4, 6, 2)\n",
    "    return g\n",
    "print(example().graph)"
   ]
  },
  {
   "cell_type": "code",
   "execution_count": 26,
   "metadata": {},
   "outputs": [],
   "source": [
    "def example1():   \n",
    "    g = Graph(9)\n",
    "    g.graph = [\n",
    "    [0, 4, 0, 0, 0, 0, 0, 8, 0],\n",
    "    [4, 0, 8, 0, 0, 0, 0,11, 0],\n",
    "    [0, 8, 0, 7, 0, 4, 0, 0, 2],\n",
    "    [0, 0, 7, 0, 9,14, 0, 0, 0],\n",
    "    [0, 0, 0, 9, 0,10, 0, 0, 0],\n",
    "    [0, 0, 4,14,10, 0, 2, 0, 0],\n",
    "    [0, 0, 0, 0, 0, 2, 0, 1, 6],\n",
    "    [8,11, 0, 0, 0, 0, 1, 0, 7],\n",
    "    [0, 0, 2, 0, 0, 0, 6, 7, 0]\n",
    "    ]\n",
    "    return g\n",
    "def example2():\n",
    "    g = Graph(4)\n",
    "    g.addEdge(0, 1, 10)\n",
    "    g.addEdge(0, 2, 6)\n",
    "    g.addEdge(0, 3, 5)\n",
    "    g.addEdge(1, 3, 15)\n",
    "    g.addEdge(2, 3, 4)\n",
    "    return g"
   ]
  },
  {
   "cell_type": "code",
   "execution_count": 27,
   "metadata": {},
   "outputs": [
    {
     "name": "stdout",
     "output_type": "stream",
     "text": [
      "7\n"
     ]
    }
   ],
   "source": [
    "print(example().V) #7個點"
   ]
  },
  {
   "cell_type": "markdown",
   "metadata": {},
   "source": [
    "## 2.Dijkstra()"
   ]
  },
  {
   "cell_type": "markdown",
   "metadata": {},
   "source": [
    "### 複習format()"
   ]
  },
  {
   "cell_type": "code",
   "execution_count": 191,
   "metadata": {},
   "outputs": [
    {
     "data": {
      "text/plain": [
       "{'0': 3, '1': 4, '2': 5, '3': 6, '4': 7}"
      ]
     },
     "execution_count": 191,
     "metadata": {},
     "output_type": "execute_result"
    }
   ],
   "source": [
    "def b(n):\n",
    "    return n+3\n",
    "{str(v): b(v) for v in range(5)}"
   ]
  },
  {
   "cell_type": "code",
   "execution_count": 192,
   "metadata": {},
   "outputs": [],
   "source": [
    "?format"
   ]
  },
  {
   "cell_type": "code",
   "execution_count": 193,
   "metadata": {},
   "outputs": [
    {
     "name": "stdout",
     "output_type": "stream",
     "text": [
      "{'1'}\n",
      "1:1\n",
      "{'1:1'}\n",
      "{'{u}': '1'}\n",
      "{'{u}': '[0, 1, 2, 3, 4, 5, 6, 7]'}\n",
      "{'[0, 1, 2, 3, 4, 5, 6, 7]:[0, 1, 2, 3, 4, 5, 6, 7]'}\n",
      "[[0, 1, 2, 3, 4, 5, 6, 7, 8], [1, 2, 3, 4, 5, 6, 7, 8, 9], [2, 3, 4, 5, 6, 7, 8, 9, 10]]\n",
      "{'0-1': 2, '1-2': 3, '2-3': 4}\n"
     ]
    }
   ],
   "source": [
    "print({'{u}'.format(u=str(1))})\n",
    "# print({'{u:u}'.format(u=str(1))}) #erro\n",
    "print('{u}:{u}'.format(u=str(1)))\n",
    "print({'{u}:{u}'.format(u=str(1))})\n",
    "print({'{u}':'{u}'.format(u=str(1))})\n",
    "print({'{u}':'{u}'.format(u=[u for u in range(8)])})\n",
    "print({'{u}:{u}'.format(u=[u for u in range(8)])})\n",
    "# print({'{0}':'{v}'.format(u = u for u in range(9),v = u for u in range(9))}) #erro\n",
    "def a(n):\n",
    "    return n+1\n",
    "def b(n):\n",
    "    return n+3\n",
    "ii =[[i for i in range(9)] , [i+1 for i in range(9)], [i+2 for i in range(9)]]\n",
    "print(ii)\n",
    "print({'{0}-{1}'.format(i[0],i[1]): i[2] for i in ii}) #erro\n",
    "#  {'{0}-{1}'.format(r[0], r[1]): r[2] for r in result}\n"
   ]
  },
  {
   "cell_type": "code",
   "execution_count": 270,
   "metadata": {},
   "outputs": [],
   "source": [
    "from collections import defaultdict \n",
    "\n",
    "#Class to represent a graph \n",
    "class Graph(): \n",
    "\n",
    "    def __init__(self, vertices): \n",
    "        self.V = vertices  #節點個數\n",
    "#         self.graph = [] \n",
    "        self.graph_matrix = [[0 for column in range(vertices)]  \n",
    "                    for row in range(vertices)] \n",
    "        self.graph = [[0 for column in range(vertices)]\n",
    "            for row in range(vertices)]\n",
    "        self.edges = [] #邊的資訊儲存\n",
    "        self.INFINITY = 65536 # Dijkstra:設定無限大的值\n",
    "    def addEdge(self,u,v,w): \n",
    "        self.graph[u][v] = self.graph[v][u] = w\n",
    "        #建立資料，因為是無像圖對稱矩陣\n",
    "        \n",
    "    def Dijkstra(self, s): \n",
    "        cost = [self.INFINITY if i is not s else 0 for i in range(self.V)]\n",
    "        #如果i不是起點，先記為無限大。i-i==0\n",
    "        labelled = [False for i in range(self.V)]\n",
    "        print(cost,labelled)\n",
    "        # return Dict"
   ]
  },
  {
   "cell_type": "code",
   "execution_count": 271,
   "metadata": {},
   "outputs": [
    {
     "name": "stdout",
     "output_type": "stream",
     "text": [
      "[65536, 65536, 65536, 65536, 65536, 65536, 65536, 65536, 65536] [False, False, False, False, False, False, False, False, False]\n"
     ]
    }
   ],
   "source": [
    "example1().Dijkstra(9)"
   ]
  },
  {
   "cell_type": "code",
   "execution_count": 324,
   "metadata": {},
   "outputs": [],
   "source": [
    "from collections import defaultdict \n",
    "\n",
    "#Class to represent a graph \n",
    "class Graph(): \n",
    "\n",
    "    def __init__(self, vertices): \n",
    "        self.V = vertices  #節點個數\n",
    "#         self.graph = [] \n",
    "        self.graph_matrix = [[0 for column in range(vertices)]  \n",
    "                    for row in range(vertices)] \n",
    "        self.graph = [[0 for column in range(vertices)]\n",
    "            for row in range(vertices)]\n",
    "        self.edges = [] #邊的資訊儲存\n",
    "        self.INFINITY = 65536 # Dijkstra:設定無限大的值\n",
    "    def addEdge(self,u,v,w): \n",
    "        self.graph[u][v] = self.graph[v][u] = w\n",
    "        #建立資料，因為是無像圖對稱矩陣\n",
    "        \n",
    "    def Dijkstra(self, s): \n",
    "        cost = [self.INFINITY if i is not s else 0 for i in range(self.V)]\n",
    "        #如果i不是起點，先記為無限大。i-i==0\n",
    "        labelled = [False for i in range(self.V)]\n",
    "        \n",
    "        for i in range(self.V):\n",
    "            minCost = self.INFINITY\n",
    "            minCostNode = -1\n",
    "            \n",
    "            for v in range(self.V):\n",
    "                if not labelled[v]:\n",
    "                    if cost[v] < minCost:\n",
    "                        minCost = cost[v]\n",
    "                        minCostNode = v\n",
    "            print(labelled,cost,minCostNode)\n",
    "                            \n",
    "        return {str(v): cost[v] for v in range(self.V)}\n",
    "        # return Dict\n",
    "    def Kruskal(self):\n",
    "        \"\"\"\n",
    "        :rtype: dict\n",
    "        \"\"\""
   ]
  },
  {
   "cell_type": "code",
   "execution_count": 325,
   "metadata": {},
   "outputs": [
    {
     "name": "stdout",
     "output_type": "stream",
     "text": [
      "[False, False, False, False, False, False, False, False, False] [0, 65536, 65536, 65536, 65536, 65536, 65536, 65536, 65536] 0\n",
      "[False, False, False, False, False, False, False, False, False] [0, 65536, 65536, 65536, 65536, 65536, 65536, 65536, 65536] 0\n",
      "[False, False, False, False, False, False, False, False, False] [0, 65536, 65536, 65536, 65536, 65536, 65536, 65536, 65536] 0\n",
      "[False, False, False, False, False, False, False, False, False] [0, 65536, 65536, 65536, 65536, 65536, 65536, 65536, 65536] 0\n",
      "[False, False, False, False, False, False, False, False, False] [0, 65536, 65536, 65536, 65536, 65536, 65536, 65536, 65536] 0\n",
      "[False, False, False, False, False, False, False, False, False] [0, 65536, 65536, 65536, 65536, 65536, 65536, 65536, 65536] 0\n",
      "[False, False, False, False, False, False, False, False, False] [0, 65536, 65536, 65536, 65536, 65536, 65536, 65536, 65536] 0\n",
      "[False, False, False, False, False, False, False, False, False] [0, 65536, 65536, 65536, 65536, 65536, 65536, 65536, 65536] 0\n",
      "[False, False, False, False, False, False, False, False, False] [0, 65536, 65536, 65536, 65536, 65536, 65536, 65536, 65536] 0\n"
     ]
    },
    {
     "data": {
      "text/plain": [
       "{'0': 0,\n",
       " '1': 65536,\n",
       " '2': 65536,\n",
       " '3': 65536,\n",
       " '4': 65536,\n",
       " '5': 65536,\n",
       " '6': 65536,\n",
       " '7': 65536,\n",
       " '8': 65536}"
      ]
     },
     "execution_count": 325,
     "metadata": {},
     "output_type": "execute_result"
    }
   ],
   "source": [
    "example1().Dijkstra(0)"
   ]
  },
  {
   "cell_type": "markdown",
   "metadata": {},
   "source": [
    "沒有更新資料，所以for一直做重複的事情"
   ]
  },
  {
   "cell_type": "code",
   "execution_count": 336,
   "metadata": {},
   "outputs": [],
   "source": [
    "from collections import defaultdict \n",
    "\n",
    "#Class to represent a graph \n",
    "class Graph(): \n",
    "\n",
    "    def __init__(self, vertices): \n",
    "        self.V = vertices  #節點個數\n",
    "#         self.graph = [] \n",
    "        self.graph_matrix = [[0 for column in range(vertices)]  \n",
    "                    for row in range(vertices)] \n",
    "        self.graph = [[0 for column in range(vertices)]\n",
    "            for row in range(vertices)]\n",
    "        self.edges = [] #邊的資訊儲存\n",
    "        self.INFINITY = 65536 # Dijkstra:設定無限大的值\n",
    "    def addEdge(self,u,v,w): \n",
    "        self.graph[u][v] = self.graph[v][u] = w\n",
    "        #建立資料，因為是無像圖對稱矩陣\n",
    "        \n",
    "    def Dijkstra(self, s): \n",
    "        cost = [self.INFINITY if i is not s else 0 for i in range(self.V)]\n",
    "        #如果i不是起點，先記為無限大。i-i==0\n",
    "        labelled = [False for i in range(self.V)]\n",
    "        \n",
    "        for i in range(self.V):\n",
    "            minCost = self.INFINITY\n",
    "            minCostNode = -1\n",
    "            for v in range(self.V):\n",
    "                if not labelled[v]:\n",
    "                    if cost[v] < minCost:\n",
    "                        minCost = cost[v]\n",
    "                        minCostNode = v\n",
    "#             minCostNode\n",
    "            \n",
    "            if minCostNode >= 0:\n",
    "                labelled[minCostNode] = True\n",
    "                for v in range(self.V):\n",
    "                    if not labelled[v] and self.graph[minCostNode][v] > 0:\n",
    "                        newCost = cost[minCostNode] + self.graph[minCostNode][v]\n",
    "                        if cost[v] > newCost:\n",
    "                            cost[v] = newCost\n",
    "                            \n",
    "        return {str(v): cost[v] for v in range(self.V)}\n",
    "    def Kruskal(self):\n",
    "        \"\"\"\n",
    "        :rtype: dict\n",
    "        \"\"\""
   ]
  },
  {
   "cell_type": "code",
   "execution_count": 337,
   "metadata": {},
   "outputs": [
    {
     "data": {
      "text/plain": [
       "{'0': 0, '1': 4, '2': 12, '3': 19, '4': 21, '5': 11, '6': 9, '7': 8, '8': 14}"
      ]
     },
     "execution_count": 337,
     "metadata": {},
     "output_type": "execute_result"
    }
   ],
   "source": [
    "example1().Dijkstra(0)"
   ]
  },
  {
   "cell_type": "markdown",
   "metadata": {},
   "source": [
    "整理程式碼"
   ]
  },
  {
   "cell_type": "code",
   "execution_count": 338,
   "metadata": {},
   "outputs": [],
   "source": [
    "from collections import defaultdict \n",
    "\n",
    "#Class to represent a graph \n",
    "class Graph(): \n",
    "\n",
    "    def __init__(self, vertices): \n",
    "        self.V = vertices  #節點個數\n",
    "#         self.graph = [] \n",
    "        self.graph_matrix = [[0 for column in range(vertices)]  \n",
    "                    for row in range(vertices)] \n",
    "        self.graph = [[0 for column in range(vertices)]\n",
    "            for row in range(vertices)]\n",
    "        self.edges = [] #邊的資訊儲存\n",
    "        self.INFINITY = 65536 # Dijkstra:設定無限大的值\n",
    "    def addEdge(self,u,v,w): \n",
    "        self.graph[u][v] = self.graph[v][u] = w\n",
    "        #建立資料，因為是無像圖對稱矩陣\n",
    "\n",
    "    def Dijkstra(self, s):\n",
    "        cost = [self.INFINITY if i is not s else 0 for i in range(self.V)]\n",
    "        #如果i不是起點，先記為無限大。i-i==0\n",
    "        labelled = [False for i in range(self.V)]\n",
    "        for i in range(self.V):\n",
    "            next = self.__getMinCost(cost, labelled)\n",
    "            if next >= 0:\n",
    "                self.__update(next, cost, labelled)\n",
    "        return {str(v): cost[v] for v in range(self.V)}\n",
    "\n",
    "    def __getMinCost(self, cost, labelled):\n",
    "        minCost = self.INFINITY\n",
    "        minCostNode = -1\n",
    "        for v in range(self.V):\n",
    "            if not labelled[v]:\n",
    "                if cost[v] < minCost:\n",
    "                    minCost = cost[v]\n",
    "                    minCostNode = v\n",
    "        return minCostNode\n",
    "\n",
    "    def __update(self, next, cost, labelled):\n",
    "        labelled[next] = True\n",
    "        for v in range(self.V):\n",
    "            if not labelled[v] and self.graph[next][v] > 0:\n",
    "                newCost = cost[next] + self.graph[next][v]\n",
    "                if cost[v] > newCost:\n",
    "                    cost[v] = newCost"
   ]
  },
  {
   "cell_type": "code",
   "execution_count": 339,
   "metadata": {},
   "outputs": [
    {
     "data": {
      "text/plain": [
       "True"
      ]
     },
     "execution_count": 339,
     "metadata": {},
     "output_type": "execute_result"
    }
   ],
   "source": [
    "example().Dijkstra(0)=={'0': 0, '1': 5, '2': 15, '3': 13, '4': 6, '5': 3, '6': 8}\n"
   ]
  },
  {
   "cell_type": "code",
   "execution_count": 340,
   "metadata": {},
   "outputs": [
    {
     "data": {
      "text/plain": [
       "True"
      ]
     },
     "execution_count": 340,
     "metadata": {},
     "output_type": "execute_result"
    }
   ],
   "source": [
    "example1().Dijkstra(0) =={'0': 0, '1': 4, '2': 12, '3': 19, '4': 21, '5': 11, '6': 9, '7': 8, '8': 14}"
   ]
  },
  {
   "cell_type": "markdown",
   "metadata": {},
   "source": [
    "## 3. Kruskal"
   ]
  },
  {
   "cell_type": "code",
   "execution_count": 341,
   "metadata": {},
   "outputs": [],
   "source": [
    "from collections import defaultdict \n",
    "\n",
    "#Class to represent a graph \n",
    "class Graph(): \n",
    "\n",
    "    def __init__(self, vertices): \n",
    "        self.V = vertices  #節點個數\n",
    "#         self.graph = [] \n",
    "        self.graph_matrix = [[0 for column in range(vertices)]  \n",
    "                    for row in range(vertices)] \n",
    "        self.graph = [[0 for column in range(vertices)]\n",
    "            for row in range(vertices)]\n",
    "        self.edges = [] #邊的資訊儲存\n",
    "        self.INFINITY = 65536 # Dijkstra:設定無限大的值\n",
    "    def addEdge(self,u,v,w): \n",
    "        self.graph[u][v] = self.graph[v][u] = w\n",
    "        #建立資料，因為是無像圖對稱矩陣\n",
    "\n",
    "    def Dijkstra(self, s):\n",
    "        cost = [self.INFINITY if i is not s else 0 for i in range(self.V)]\n",
    "        #如果i不是起點，先記為無限大。i-i==0\n",
    "        labelled = [False for i in range(self.V)]\n",
    "        for i in range(self.V):\n",
    "            next = self.__getMinCost(cost, labelled)\n",
    "            if next >= 0:\n",
    "#                 print(next)\n",
    "                self.__update(next, cost, labelled)\n",
    "        return {str(v): cost[v] for v in range(self.V)}\n",
    "\n",
    "    def __getMinCost(self, cost, labelled):\n",
    "        minCost = self.INFINITY\n",
    "        minCostNode = -1\n",
    "        for v in range(self.V):\n",
    "            if not labelled[v]:\n",
    "                if cost[v] < minCost:\n",
    "                    minCost = cost[v]\n",
    "                    minCostNode = v\n",
    "        return minCostNode\n",
    "\n",
    "    def __update(self, next, cost, labelled):\n",
    "        labelled[next] = True\n",
    "        for v in range(self.V):\n",
    "            if not labelled[v] and self.graph[next][v] > 0:\n",
    "                newCost = cost[next] + self.graph[next][v]\n",
    "                if cost[v] > newCost:\n",
    "                    cost[v] = newCost\n",
    "\n",
    "                    \n",
    "#     -----------------------------------------------------------------------------------------------------------------                \n",
    "    def Kruskal(self):\n",
    "        \"\"\"\n",
    "        :rtype: dict\n",
    "        \"\"\"\n",
    "        edges = []\n",
    "        for i in range(self.V):\n",
    "            for j in range(i+1, self.V):\n",
    "                if self.graph[i][j] != 0:\n",
    "                    edges.append([i, j, self.graph[i][j]])\n",
    "        edges.sort(key=lambda x: x[2]) #依照權重排序\n",
    "\n",
    "        result = []\n",
    "        rootArray = [-1 for x in range(self.V)]\n",
    "        print(edges)\n",
    "        print(rootArray)\n"
   ]
  },
  {
   "cell_type": "code",
   "execution_count": 342,
   "metadata": {},
   "outputs": [
    {
     "name": "stdout",
     "output_type": "stream",
     "text": [
      "[[2, 3, 4], [0, 3, 5], [0, 2, 6], [0, 1, 10], [1, 3, 15]]\n",
      "[-1, -1, -1, -1]\n"
     ]
    }
   ],
   "source": [
    "example2().Kruskal() #已經排序，各節點為單個樹"
   ]
  },
  {
   "cell_type": "code",
   "execution_count": 244,
   "metadata": {},
   "outputs": [],
   "source": [
    "from collections import defaultdict \n",
    "\n",
    "#Class to represent a graph \n",
    "class Graph(): \n",
    "\n",
    "    def __init__(self, vertices): \n",
    "        self.V = vertices  #節點個數\n",
    "#         self.graph = [] \n",
    "        self.graph_matrix = [[0 for column in range(vertices)]  \n",
    "                    for row in range(vertices)] \n",
    "        self.graph = [[0 for column in range(vertices)]\n",
    "            for row in range(vertices)]\n",
    "        self.edges = [] #邊的資訊儲存\n",
    "        self.INFINITY = 65536 # Dijkstra:設定無限大的值\n",
    "    def addEdge(self,u,v,w): \n",
    "        self.graph[u][v] = self.graph[v][u] = w\n",
    "        #建立資料，因為是無像圖對稱矩陣\n",
    "\n",
    "    def Dijkstra(self, s):\n",
    "        cost = [self.INFINITY if i is not s else 0 for i in range(self.V)]\n",
    "        #如果i不是起點，先記為無限大。i-i==0\n",
    "        labelled = [False for i in range(self.V)]\n",
    "        for i in range(self.V):\n",
    "            next = self.__getMinCost(cost, labelled)\n",
    "            if next >= 0:\n",
    "#                 print(next)\n",
    "                self.__update(next, cost, labelled)\n",
    "        return {str(v): cost[v] for v in range(self.V)}\n",
    "\n",
    "    def __getMinCost(self, cost, labelled):\n",
    "        minCost = self.INFINITY\n",
    "        minCostNode = -1\n",
    "        for v in range(self.V):\n",
    "            if not labelled[v]:\n",
    "                if cost[v] < minCost:\n",
    "                    minCost = cost[v]\n",
    "                    minCostNode = v\n",
    "        return minCostNode\n",
    "\n",
    "    def __update(self, next, cost, labelled):\n",
    "        labelled[next] = True\n",
    "        for v in range(self.V):\n",
    "            if not labelled[v] and self.graph[next][v] > 0:\n",
    "                newCost = cost[next] + self.graph[next][v]\n",
    "                if cost[v] > newCost:\n",
    "                    cost[v] = newCost\n",
    "\n",
    "                    \n",
    "#     -----------------------------------------------------------------------------------------------------------------                \n",
    "    def Kruskal(self):\n",
    "        \"\"\"\n",
    "        :rtype: dict\n",
    "        \"\"\"\n",
    "        edges = []\n",
    "        for i in range(self.V):\n",
    "            for j in range(i+1, self.V):\n",
    "                if self.graph[i][j] != 0:\n",
    "                    edges.append([i, j, self.graph[i][j]])\n",
    "        edges.sort(key=lambda x: x[2]) #依照權重排序\n",
    "\n",
    "        result = []\n",
    "        rootArray = [-1 for x in range(self.V)]\n",
    "        for i in range(len(edges)):\n",
    "            fromNode, toNode, cost = edges[i]\n",
    "            fromRoot = self.__findRoot(fromNode, rootArray) #起點來子哪個爸爸\n",
    "            toRoot = self.__findRoot(toNode, rootArray) #終點來自哪個爸爸\n",
    "            if fromRoot != toRoot:\n",
    "                result.append(edges[i])\n",
    "            print(fromNode,toNode)\n",
    "        print('res',result)\n",
    "    def __findRoot(self, node, rootArray):\n",
    "        while rootArray[node] >= 0:\n",
    "            node = rootArray[node]\n",
    "        return node"
   ]
  },
  {
   "cell_type": "code",
   "execution_count": 245,
   "metadata": {},
   "outputs": [
    {
     "name": "stdout",
     "output_type": "stream",
     "text": [
      "2 3\n",
      "0 3\n",
      "0 2\n",
      "0 1\n",
      "1 3\n",
      "res [[2, 3, 4], [0, 3, 5], [0, 2, 6], [0, 1, 10], [1, 3, 15]]\n"
     ]
    }
   ],
   "source": [
    "example2().Kruskal()"
   ]
  },
  {
   "cell_type": "code",
   "execution_count": 263,
   "metadata": {},
   "outputs": [],
   "source": [
    "from collections import defaultdict \n",
    "\n",
    "#Class to represent a graph \n",
    "class Graph(): \n",
    "\n",
    "    def __init__(self, vertices): \n",
    "        self.V = vertices  #節點個數\n",
    "#         self.graph = [] \n",
    "        self.graph_matrix = [[0 for column in range(vertices)]  \n",
    "                    for row in range(vertices)] \n",
    "        self.graph = [[0 for column in range(vertices)]\n",
    "            for row in range(vertices)]\n",
    "        self.edges = [] #邊的資訊儲存\n",
    "        self.INFINITY = 65536 # Dijkstra:設定無限大的值\n",
    "    def addEdge(self,u,v,w): \n",
    "        self.graph[u][v] = self.graph[v][u] = w\n",
    "        #建立資料，因為是無像圖對稱矩陣\n",
    "\n",
    "    def Dijkstra(self, s):\n",
    "        cost = [self.INFINITY if i is not s else 0 for i in range(self.V)]\n",
    "        #如果i不是起點，先記為無限大。i-i==0\n",
    "        labelled = [False for i in range(self.V)]\n",
    "        for i in range(self.V):\n",
    "            next = self.__getMinCost(cost, labelled)\n",
    "            if next >= 0:\n",
    "#                 print(next)\n",
    "                self.__update(next, cost, labelled)\n",
    "        return {str(v): cost[v] for v in range(self.V)}\n",
    "\n",
    "    def __getMinCost(self, cost, labelled):\n",
    "        minCost = self.INFINITY\n",
    "        minCostNode = -1\n",
    "        for v in range(self.V):\n",
    "            if not labelled[v]:\n",
    "                if cost[v] < minCost:\n",
    "                    minCost = cost[v]\n",
    "                    minCostNode = v\n",
    "        return minCostNode\n",
    "\n",
    "    def __update(self, next, cost, labelled):\n",
    "        labelled[next] = True\n",
    "        for v in range(self.V):\n",
    "            if not labelled[v] and self.graph[next][v] > 0:\n",
    "                newCost = cost[next] + self.graph[next][v]\n",
    "                if cost[v] > newCost:\n",
    "                    cost[v] = newCost\n",
    "\n",
    "                    \n",
    "#     -----------------------------------------------------------------------------------------------------------------                \n",
    "\n",
    "    def Kruskal(self):\n",
    "        \"\"\"\n",
    "        :rtype: dict\n",
    "        \"\"\"\n",
    "        edges = []\n",
    "        for i in range(self.V):\n",
    "            for j in range(i+1, self.V):\n",
    "                if self.graph[i][j] != 0:\n",
    "                    edges.append([i, j, self.graph[i][j]])\n",
    "        edges.sort(key=lambda x: x[2]) #依照權重排序\n",
    "\n",
    "        result = []\n",
    "        rootArray = [-1 for x in range(self.V)]\n",
    "        for i in range(len(edges)):\n",
    "            fromNode, toNode, cost = edges[i]\n",
    "            fromRoot = self.__findRoot(fromNode, rootArray) #起點來子哪個爸爸\n",
    "            toRoot = self.__findRoot(toNode, rootArray) #終點來自哪個爸爸\n",
    "            if fromRoot != toRoot: \n",
    "                result.append(edges[i])\n",
    "                if rootArray[fromRoot] <= rootArray[toRoot]:\n",
    "                    rootArray[toRoot] = fromRoot  #更改父節點為 邊的起點\n",
    "                    print('v;',rootArray)\n",
    "                else:\n",
    "                    print('e;',rootArray)\n",
    "#                     print(toRoot)\n",
    "#                     print(rootArray[toRoot])\n",
    "                    rootArray[fromRoot] = toRoot #更改父節點為 邊的起點\n",
    "                if len(result) >= self.V - 1:\n",
    "                    break\n",
    "        print(rootArray)\n",
    "        return {'{0}-{1}'.format(r[0], r[1]): r[2] for r in result}\n",
    "\n",
    "    def __findRoot(self, node, rootArray):\n",
    "        while rootArray[node] >= 0:\n",
    "            node = rootArray[node]\n",
    "        return node"
   ]
  },
  {
   "cell_type": "code",
   "execution_count": 264,
   "metadata": {},
   "outputs": [
    {
     "name": "stdout",
     "output_type": "stream",
     "text": [
      "v; [-1, -1, -1, 2]\n",
      "v; [-1, -1, 0, 2]\n",
      "v; [-1, 0, 0, 2]\n",
      "[-1, 0, 0, 2]\n"
     ]
    },
    {
     "data": {
      "text/plain": [
       "True"
      ]
     },
     "execution_count": 264,
     "metadata": {},
     "output_type": "execute_result"
    }
   ],
   "source": [
    "example2().Kruskal() =={'2-3': 4, '0-3': 5, '0-1': 10}"
   ]
  },
  {
   "cell_type": "code",
   "execution_count": 266,
   "metadata": {},
   "outputs": [
    {
     "name": "stdout",
     "output_type": "stream",
     "text": [
      "v; [-1, -1, -1, -1, 1, -1, -1]\n",
      "v; [-1, -1, -1, -1, 1, -1, 1]\n",
      "v; [-1, -1, -1, -1, 1, 0, 1]\n",
      "v; [-1, 0, -1, -1, 1, 0, 1]\n",
      "v; [-1, 0, -1, 2, 1, 0, 1]\n",
      "v; [2, 0, -1, 2, 1, 0, 1]\n",
      "[2, 0, -1, 2, 1, 0, 1]\n"
     ]
    },
    {
     "data": {
      "text/plain": [
       "True"
      ]
     },
     "execution_count": 266,
     "metadata": {},
     "output_type": "execute_result"
    }
   ],
   "source": [
    "example().Kruskal() =={'1-4': 1, '4-6': 2, '0-5': 3, '0-1': 5, '2-3': 5, '3-4': 7}"
   ]
  },
  {
   "cell_type": "code",
   "execution_count": 268,
   "metadata": {},
   "outputs": [],
   "source": [
    "from collections import defaultdict \n",
    "\n",
    "#Class to represent a graph \n",
    "class Graph(): \n",
    "\n",
    "    def __init__(self, vertices): \n",
    "        self.V = vertices  #節點個數\n",
    "#         self.graph = [] \n",
    "        self.graph_matrix = [[0 for column in range(vertices)]  \n",
    "                    for row in range(vertices)] \n",
    "        self.graph = [[0 for column in range(vertices)]\n",
    "            for row in range(vertices)]\n",
    "        self.edges = [] #邊的資訊儲存\n",
    "        self.INFINITY = 65536 # Dijkstra:設定無限大的值\n",
    "    def addEdge(self,u,v,w): \n",
    "        self.graph[u][v] = self.graph[v][u] = w\n",
    "        #建立資料，因為是無像圖對稱矩陣\n",
    "\n",
    "    def Dijkstra(self, s):\n",
    "        cost = [self.INFINITY if i is not s else 0 for i in range(self.V)]\n",
    "        #如果i不是起點，先記為無限大。i-i==0\n",
    "        labelled = [False for i in range(self.V)]\n",
    "        for i in range(self.V):\n",
    "            next = self.__getMinCost(cost, labelled)\n",
    "            if next >= 0:\n",
    "#                 print(next)\n",
    "                self.__update(next, cost, labelled)\n",
    "        return {str(v): cost[v] for v in range(self.V)}\n",
    "\n",
    "    def __getMinCost(self, cost, labelled):\n",
    "        minCost = self.INFINITY\n",
    "        minCostNode = -1\n",
    "        for v in range(self.V):\n",
    "            if not labelled[v]:\n",
    "                if cost[v] < minCost:\n",
    "                    minCost = cost[v]\n",
    "                    minCostNode = v\n",
    "        return minCostNode\n",
    "\n",
    "    def __update(self, next, cost, labelled):\n",
    "        labelled[next] = True\n",
    "        for v in range(self.V):\n",
    "            if not labelled[v] and self.graph[next][v] > 0:\n",
    "                newCost = cost[next] + self.graph[next][v]\n",
    "                if cost[v] > newCost:\n",
    "                    cost[v] = newCost\n",
    "\n",
    "                    \n",
    "#     -----------------------------------------------------------------------------------------------------------------                \n",
    "\n",
    "    def Kruskal(self):\n",
    "        \"\"\"\n",
    "        :rtype: dict\n",
    "        \"\"\"\n",
    "        edges = []\n",
    "        for i in range(self.V):\n",
    "            for j in range(i+1, self.V):\n",
    "                if self.graph[i][j] != 0:\n",
    "                    edges.append([i, j, self.graph[i][j]])\n",
    "        edges.sort(key=lambda x: x[2]) #依照權重排序\n",
    "\n",
    "        result = []\n",
    "        rootArray = [-1 for x in range(self.V)]\n",
    "        for i in range(len(edges)):\n",
    "            fromNode, toNode, cost = edges[i]\n",
    "            fromRoot = self.__findRoot(fromNode, rootArray) #起點來子哪個爸爸\n",
    "            toRoot = self.__findRoot(toNode, rootArray) #終點來自哪個爸爸\n",
    "            if fromRoot != toRoot: \n",
    "                result.append(edges[i])\n",
    "                if rootArray[fromRoot] <= rootArray[toRoot]:\n",
    "                    rootArray[toRoot] = fromRoot  #更改父節點為 邊的起點\n",
    "#                     print('v;',rootArray)\n",
    "                else:\n",
    "                    print('e;',rootArray)\n",
    "#                     print(toRoot)\n",
    "#                     print(rootArray[toRoot])\n",
    "                    rootArray[fromRoot] = toRoot #更改父節點為 邊的起點\n",
    "                if len(result) >= self.V - 1:\n",
    "                    break\n",
    "#         print(rootArray)\n",
    "        return {'{0}-{1}'.format(r[0], r[1]): r[2] for r in result}\n",
    "\n",
    "    def __findRoot(self, node, rootArray):\n",
    "        while rootArray[node] >= 0:\n",
    "            node = rootArray[node]\n",
    "        return node"
   ]
  },
  {
   "cell_type": "code",
   "execution_count": 269,
   "metadata": {},
   "outputs": [
    {
     "data": {
      "text/plain": [
       "True"
      ]
     },
     "execution_count": 269,
     "metadata": {},
     "output_type": "execute_result"
    }
   ],
   "source": [
    "example().Kruskal() =={'1-4': 1, '4-6': 2, '0-5': 3, '0-1': 5, '2-3': 5, '3-4': 7}"
   ]
  },
  {
   "cell_type": "markdown",
   "metadata": {},
   "source": [
    "# 參考資料\n",
    "* Homewrok\n",
    "    * [Homework example](https://colab.research.google.com/notebooks/welcome.ipynb#recent=true)\n",
    "    * [PPT in Class](https://docs.google.com/presentation/d/e/2PACX-1vTgHO5AkHJS6iN6bnnBMMdHv6E4rabnrC0KwyTRfjad8Ab3IQjbnGvZuQOjDC9t7nKqeroiwcuasJrI/pub?start=false&loop=false&delayms=3000&slide=id.g7b9afdb0e7_0_9)\n",
    "* Minimum Spanning Tree:\n",
    "    * [Minimum Spanning Tree：Intro(簡介)\n",
    "](http://alrightchiu.github.io/SecondRound/minimum-spanning-treeintrojian-jie.html) \n",
    "    * [Minimum Spanning Tree：Kruskal's Algorithm](http://alrightchiu.github.io/SecondRound/minimum-spanning-treekruskals-algorithm.html)\n",
    "* Dijkstra\n",
    "* [演算法筆記](http://www.csie.ntnu.edu.tw/~u91029/Path.html)\n",
    "\n",
    "\n",
    "* [Dijkstra 原圖請點這裡](https://i.imgur.com/ncA3StM.jpg)\n",
    "* [Kruskal 原圖請點這裡](https://i.imgur.com/Jz6FJnC.jpg)\n",
    "* [壓縮](https://i.imgur.com/EYIu6F2.png)\n",
    "\n",
    "* [如何使用 Python 進行字串格式化](https://blog.techbridge.cc/2019/05/03/how-to-use-python-string-format-method/)"
   ]
  }
 ],
 "metadata": {
  "kernelspec": {
   "display_name": "Python 3",
   "language": "python",
   "name": "python3"
  },
  "language_info": {
   "codemirror_mode": {
    "name": "ipython",
    "version": 3
   },
   "file_extension": ".py",
   "mimetype": "text/x-python",
   "name": "python",
   "nbconvert_exporter": "python",
   "pygments_lexer": "ipython3",
   "version": "3.7.3"
  }
 },
 "nbformat": 4,
 "nbformat_minor": 2
}
