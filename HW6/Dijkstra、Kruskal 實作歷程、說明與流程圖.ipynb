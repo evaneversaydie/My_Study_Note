{
 "cells": [
  {
   "cell_type": "markdown",
   "metadata": {},
   "source": [
    "# HW6 學習歷程\n",
    "***巨資三 | 林依樺***\n",
    "\n",
    "# 目錄\n",
    "\n",
    "- [Dijkstra說明 與 Kruskal說明](#🔸Dijkstra說明與Kruskal說明)\n",
    "- [Dijkstra 與 Kruskal流程圖](#🔸Dijkstra與Kruskal流程圖)\n",
    "- [學習歷程](#🔸學習歷程)\n",
    "    - [程式碼撰寫](#🔸程式碼撰寫)\n",
    "    - [最終程式碼](#🔸最終程式碼)\n",
    "- [參考資料](#🔸參考資料)\n"
   ]
  },
  {
   "cell_type": "markdown",
   "metadata": {},
   "source": [
    "# 🔸Dijkstra說明與Kruskal說明\n",
    "# 🔸Dijkstra與Kruskal流程圖"
   ]
  },
  {
   "cell_type": "markdown",
   "metadata": {},
   "source": [
    "# 🔸學習歷程"
   ]
  },
  {
   "cell_type": "code",
   "execution_count": 1,
   "metadata": {},
   "outputs": [],
   "source": [
    "from collections import defaultdict \n",
    "\n",
    "#Class to represent a graph \n",
    "class Graph(): \n",
    "\n",
    "    def __init__(self, vertices): \n",
    "        self.V = vertices \n",
    "        self.graph = [] \n",
    "        self.graph_matrix = [[0 for column in range(vertices)]  \n",
    "                    for row in range(vertices)] \n",
    "    def addEdge(self,u,v,w): \n",
    "        \"\"\"\n",
    "        :type u,v,w: int\n",
    "        :rtype: None\n",
    "        \"\"\"\n",
    "    def Dijkstra(self, s): \n",
    "        \"\"\"\n",
    "        :type s: int\n",
    "        :rtype: dict\n",
    "        \"\"\"\n",
    "    def Kruskal(self):\n",
    "        \"\"\"\n",
    "        :rtype: dict\n",
    "        \"\"\""
   ]
  },
  {
   "cell_type": "markdown",
   "metadata": {},
   "source": [
    "# 參考資料\n",
    "* Homewrok\n",
    "    * [Homework example](https://colab.research.google.com/notebooks/welcome.ipynb#recent=true)\n",
    "    * [PPT in Class](https://docs.google.com/presentation/d/e/2PACX-1vTgHO5AkHJS6iN6bnnBMMdHv6E4rabnrC0KwyTRfjad8Ab3IQjbnGvZuQOjDC9t7nKqeroiwcuasJrI/pub?start=false&loop=false&delayms=3000&slide=id.g7b9afdb0e7_0_9)\n"
   ]
  }
 ],
 "metadata": {
  "kernelspec": {
   "display_name": "Python 3",
   "language": "python",
   "name": "python3"
  },
  "language_info": {
   "codemirror_mode": {
    "name": "ipython",
    "version": 3
   },
   "file_extension": ".py",
   "mimetype": "text/x-python",
   "name": "python",
   "nbconvert_exporter": "python",
   "pygments_lexer": "ipython3",
   "version": "3.7.3"
  }
 },
 "nbformat": 4,
 "nbformat_minor": 2
}
