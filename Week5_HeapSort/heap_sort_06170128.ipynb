{
 "cells": [
  {
   "cell_type": "code",
   "execution_count": 5,
   "metadata": {},
   "outputs": [],
   "source": [
    "class Solution(object):\n",
    "    def heap_sort(self, nums):\n",
    "        self.nums=nums\n",
    "        return Solution.swap(nums)\n",
    "\n",
    "    \n",
    "    def max_heap(nums):\n",
    "        for i in range((len(nums)-1)//2,-1,-1):\n",
    "            Solution.let_max_heap(nums,i)\n",
    "        return nums\n",
    "    #倒敘排成max heap\n",
    "    \n",
    "        \n",
    "    def let_max_heap(nums,i):\n",
    "        root = i\n",
    "        r= 2*i+1\n",
    "        l= 2*(i+1)\n",
    "        #刪掉到找子節點的def改成宣告\n",
    "        if r<len(nums) and nums[r] > nums[root]:  \n",
    "            nums[root],nums[r]=nums[r],nums[root]\n",
    "            Solution.let_max_heap(nums,r)\n",
    "        if l<len(nums) and nums[l] > nums[root]:\n",
    "            nums[root],nums[l]=nums[l],nums[root]\n",
    "            Solution.let_max_heap(nums,l)\n",
    "        #改成不用max()，葉子大於跟就交換\n",
    "        return(nums)\n",
    "            \n",
    "\n",
    "    \n",
    "    def swap(nums):\n",
    "        place=len(nums)\n",
    "        while place>0:\n",
    "            if nums[0:place]==Solution.max_heap(nums[:place]):\n",
    "                #符合maxheap且place>=1(不用作nums[0],nums[0]交換)\n",
    "                nums[0],nums[place-1]=nums[place-1],nums[0]\n",
    "                #換了就會破壞maxheap\n",
    "                place-=1\n",
    "            elif nums[:place] != Solution.max_heap(nums[:place]):\n",
    "                #不符合的就把nums[:place+1]變成maxheap\n",
    "                nums[:place],nums[place:] = Solution.max_heap(nums[:place]),nums[place:]\n",
    "        return nums\n",
    "    \n",
    "    \n",
    "    \n",
    "    \n",
    "    \n",
    "# 找父節點=>用不到我隱藏了:\n",
    "#    def f(i):\n",
    "#        if i>0:\n",
    "#            return (i-1)//2"
   ]
  }
 ],
 "metadata": {
  "kernelspec": {
   "display_name": "Python 3",
   "language": "python",
   "name": "python3"
  },
  "language_info": {
   "codemirror_mode": {
    "name": "ipython",
    "version": 3
   },
   "file_extension": ".py",
   "mimetype": "text/x-python",
   "name": "python",
   "nbconvert_exporter": "python",
   "pygments_lexer": "ipython3",
   "version": "3.6.5"
  }
 },
 "nbformat": 4,
 "nbformat_minor": 2
}
