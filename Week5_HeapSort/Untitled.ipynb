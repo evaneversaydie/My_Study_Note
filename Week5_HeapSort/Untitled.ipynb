{
 "cells": [
  {
   "cell_type": "code",
   "execution_count": 1,
   "metadata": {},
   "outputs": [],
   "source": [
    "def MaxHeapify(array,n,i):\n",
    "    l = 2*i+1\n",
    "    r = 2*i+2\n",
    "    largest = i\n",
    "    if l<=n and array[l]>array[largest]:\n",
    "        largest = l\n",
    "    if r<=n and array[r]>array[largest]:\n",
    "        largest = r\n",
    "    if largest != i:\n",
    "        array[largest],array[i] = array[i],array[largest]\n",
    "        MaxHeapify(array,n,largest)\n",
    "\n",
    "def HeapSort(array):\n",
    "    n = len(array)\n",
    "    for i in reversed(range(n//2)):\n",
    "        MaxHeapify(array,n-1,i)\n",
    "    for i in reversed(range(1,len(array))):\n",
    "        array[i],array[0] = array[0],array[i]\n",
    "        n -= 1\n",
    "        MaxHeapify(array,n-1,0)\n",
    "    return array"
   ]
  },
  {
   "cell_type": "code",
   "execution_count": null,
   "metadata": {},
   "outputs": [],
   "source": [
    "5,8,7"
   ]
  }
 ],
 "metadata": {
  "kernelspec": {
   "display_name": "Python 3",
   "language": "python",
   "name": "python3"
  },
  "language_info": {
   "codemirror_mode": {
    "name": "ipython",
    "version": 3
   },
   "file_extension": ".py",
   "mimetype": "text/x-python",
   "name": "python",
   "nbconvert_exporter": "python",
   "pygments_lexer": "ipython3",
   "version": "3.6.5"
  }
 },
 "nbformat": 4,
 "nbformat_minor": 2
}
