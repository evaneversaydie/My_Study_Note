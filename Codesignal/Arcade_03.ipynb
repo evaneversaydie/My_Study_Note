{
 "cells": [
  {
   "cell_type": "markdown",
   "metadata": {},
   "source": [
    "[題目](https://app.codesignal.com/arcade/intro/level-1/s5PbmwxfECC52PWyQ)\n"
   ]
  },
  {
   "cell_type": "markdown",
   "metadata": {},
   "source": [
    "Given the string, check if it is a palindrome.\n",
    "\n",
    "# Example\n",
    "\n",
    ">For inputString = \"aabaa\", the output should be\n",
    "checkPalindrome(inputString) = true;\n",
    "For inputString = \"abac\", the output should be\n",
    "checkPalindrome(inputString) = false;\n",
    "For inputString = \"a\", the output should be\n",
    "checkPalindrome(inputString) = true.\n",
    "Input/Output\n",
    "\n",
    "* [execution time limit] 4 seconds (py3)\n",
    "\n",
    "* [input] string inputString\n",
    "    * A non-empty string consisting of lowercase characters.\n",
    "    * Guaranteed constraints:\n",
    "        * 1 ≤ inputString.length ≤ 105.\n",
    "\n",
    "* [output] boolean\n",
    "    *true if inputString is a palindrome, false otherwise.\n",
    "\n",
    "# [Python3] Syntax Tips\n",
    "\n",
    "#Prints help message to the console\n",
    "#Returns a string\n",
    ">def helloWorld(name):\n",
    "    print(\"This prints to the console when you Run Tests\")\n",
    "    return \"Hello, \" + name\n"
   ]
  },
  {
   "cell_type": "code",
   "execution_count": 2,
   "metadata": {},
   "outputs": [],
   "source": [
    "def checkPalindrome(inputString):\n",
    "    return inputString[::-1] == inputString\n",
    "\n",
    "'''字串反轉:\n",
    "1.使用切片\n",
    "2.內建reserve()只適用於list。\n",
    "'''\n",
    "\n",
    "'''\n",
    "palindrome:可以回文的字句。\n",
    "'''"
   ]
  },
  {
   "cell_type": "code",
   "execution_count": null,
   "metadata": {},
   "outputs": [],
   "source": []
  }
 ],
 "metadata": {
  "kernelspec": {
   "display_name": "Python 3",
   "language": "python",
   "name": "python3"
  },
  "language_info": {
   "codemirror_mode": {
    "name": "ipython",
    "version": 3
   },
   "file_extension": ".py",
   "mimetype": "text/x-python",
   "name": "python",
   "nbconvert_exporter": "python",
   "pygments_lexer": "ipython3",
   "version": "3.7.3"
  }
 },
 "nbformat": 4,
 "nbformat_minor": 2
}
