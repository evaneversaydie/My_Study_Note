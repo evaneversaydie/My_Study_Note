{
 "cells": [
  {
   "cell_type": "markdown",
   "metadata": {},
   "source": [
    "#https://app.codesignal.com/arcade/intro/level-1/jwr339Kq6e3LQTsfa"
   ]
  },
  {
   "cell_type": "markdown",
   "metadata": {},
   "source": [
    "# Write a function that returns the sum of two numbers.\n",
    "\n",
    "> Example\n",
    "For param1 = 1 and param2 = 2, \n",
    "the output should be add(param1, param2) = 3.\n",
    "\n",
    "> Input/Output\n",
    "[execution time limit] 4 seconds (py3)\n",
    "[input] integer param1\n",
    "\n",
    "> Guaranteed constraints:\n",
    "-1000 ≤ param1 ≤ 1000.\n",
    "\n",
    "\n",
    ">[input] integer param2\n",
    "Guaranteed constraints:-1000 ≤ param2 ≤ 1000.\n",
    "\n",
    "> [output] integer\n",
    "\n",
    ">The sum of the two inputs.\n",
    "\n",
    "# [Python3] Syntax Tips\n",
    "\n",
    "1.Prints help message to the console\n",
    "2.Returns a string\n",
    ">def helloWorld(name):\n",
    "    print(\"This prints to the console when you Run Tests\")\n",
    "    return \"Hello, \" + name"
   ]
  },
  {
   "cell_type": "code",
   "execution_count": 2,
   "metadata": {},
   "outputs": [],
   "source": [
    "def add(param1, param2):\n",
    "\n",
    "    return param1+param2\n",
    "\n",
    "\"\"\"注意:return 之功能:\n",
    "return 有【退出函式】的功能，執行到return(後面沒有回傳值再python 是允許的，默認傳回None)\n",
    "\"\"\""
   ]
  },
  {
   "cell_type": "code",
   "execution_count": null,
   "metadata": {},
   "outputs": [],
   "source": []
  }
 ],
 "metadata": {
  "kernelspec": {
   "display_name": "Python 3",
   "language": "python",
   "name": "python3"
  },
  "language_info": {
   "codemirror_mode": {
    "name": "ipython",
    "version": 3
   },
   "file_extension": ".py",
   "mimetype": "text/x-python",
   "name": "python",
   "nbconvert_exporter": "python",
   "pygments_lexer": "ipython3",
   "version": "3.6.5"
  }
 },
 "nbformat": 4,
 "nbformat_minor": 2
}
