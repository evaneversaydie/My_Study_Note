{
 "cells": [
  {
   "cell_type": "code",
   "execution_count": null,
   "metadata": {},
   "outputs": [],
   "source": [
    "class Solution:\n",
    "    def reverseVowels(self, s: str) -> str:\n",
    "        data = []\n",
    "        dataindex = []\n",
    "        for i in range(len(s)):\n",
    "            if s[i] in ['a','e','i','o','u',\"A\",\"E\",\"I\",\"O\",\"U\"]:\n",
    "                data.append(s[i])\n",
    "                dataindex.append(i)\n",
    "        data = data[::-1]\n",
    "        for i in range(len(dataindex)):\n",
    "\n",
    "            s=s[:dataindex[i]]+data[i]+s[dataindex[i]+1:]\n",
    "        return s"
   ]
  }
 ],
 "metadata": {
  "kernelspec": {
   "display_name": "Python 3",
   "language": "python",
   "name": "python3"
  },
  "language_info": {
   "codemirror_mode": {
    "name": "ipython",
    "version": 3
   },
   "file_extension": ".py",
   "mimetype": "text/x-python",
   "name": "python",
   "nbconvert_exporter": "python",
   "pygments_lexer": "ipython3",
   "version": "3.7.3"
  }
 },
 "nbformat": 4,
 "nbformat_minor": 2
}
