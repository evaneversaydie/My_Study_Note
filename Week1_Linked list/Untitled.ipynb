{
 "cells": [
  {
   "cell_type": "code",
   "execution_count": null,
   "metadata": {},
   "outputs": [],
   "source": [
    "class node:\n",
    "    def __init__(self,val):\n",
    "        self.val= val\n",
    "        self.next=None\n",
    "class evaLinkedlist:\n",
    "    def insert(self,node,val):\n",
    "        if node.next == None:\n",
    "            node.next = node(val)\n",
    "        else:\n",
    "            return insert(node.next,val)\n",
    "    def "
   ]
  },
  {
   "cell_type": "code",
   "execution_count": null,
   "metadata": {},
   "outputs": [],
   "source": [
    "#leetcode\n",
    "class MyLinkedlist:\n",
    "    \n",
    "    def __init__(self,val):\n",
    "        self.val= val\n",
    "        self.next=None\n",
    "        slef.head=None\n",
    "        \n",
    "    def get(self,index:int):\n",
    "        if :\n",
    "            return -1\n",
    "        if node.next == None:\n",
    "            node.next = node(val)\n",
    "        else:\n",
    "            return insert(node.next,val)\n",
    "    def addAtHead(self,val:int)->None:\n",
    "        if self.head\n",
    "    def addAtTail(self,val:int)->None:\n",
    "\n",
    "    def deleteAtTail(self,val:int)->None:"
   ]
  },
  {
   "cell_type": "code",
   "execution_count": null,
   "metadata": {},
   "outputs": [],
   "source": [
    "class evaLinkedlist()\n",
    "    def node:\n",
    "        node.append"
   ]
  },
  {
   "cell_type": "code",
   "execution_count": null,
   "metadata": {},
   "outputs": [],
   "source": []
  },
  {
   "cell_type": "code",
   "execution_count": null,
   "metadata": {},
   "outputs": [],
   "source": []
  },
  {
   "cell_type": "code",
   "execution_count": null,
   "metadata": {},
   "outputs": [],
   "source": []
  },
  {
   "cell_type": "code",
   "execution_count": null,
   "metadata": {},
   "outputs": [],
   "source": []
  }
 ],
 "metadata": {
  "kernelspec": {
   "display_name": "Python 3",
   "language": "python",
   "name": "python3"
  },
  "language_info": {
   "codemirror_mode": {
    "name": "ipython",
    "version": 3
   },
   "file_extension": ".py",
   "mimetype": "text/x-python",
   "name": "python",
   "nbconvert_exporter": "python",
   "pygments_lexer": "ipython3",
   "version": "3.7.3"
  }
 },
 "nbformat": 4,
 "nbformat_minor": 2
}
