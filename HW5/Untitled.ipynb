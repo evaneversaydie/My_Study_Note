{
 "cells": [
  {
   "cell_type": "code",
   "execution_count": 3,
   "metadata": {},
   "outputs": [],
   "source": [
    "\n",
    "\n",
    "from Crypto.Hash import MD5\n",
    "class ListNode:\n",
    "    def __init__(self, val):\n",
    "        self.val = val\n",
    "        self.next = None\n",
    "\n",
    "class MyHashSet:\n",
    "    def __init__(self, capacity=5):\n",
    "        self.capacity = capacity\n",
    "        self.data = [None] * capacity\n",
    "        self.group = []\n",
    "\n",
    "    def crydata(self,key):\n",
    "        k = MD5.new()\n",
    "        k.update(key.encode('utf-8'))\n",
    "        kDex = int(k.hexdigest(), 16)  # 十進位\n",
    "        return str(kDex)\n",
    "    def groupindex(self,key):\n",
    "        k = MD5.new()\n",
    "        k.update(key.encode('utf-8'))\n",
    "        kDex = int(k.hexdigest(), 16)  # 十進位\n",
    "        kgroup = kDex % self.capacity\n",
    "        return kgroup\n",
    "\n",
    "    def add(self, key):\n",
    "        add = ListNode(self.crydata(key))  # 這是需要添加的資料要先放在if loop之前!!!!!\n",
    "        kgroup = self.groupindex(key)\n",
    "        if kgroup not in self.group:  # 沒有在之前的bucket中\n",
    "            self.group.append(kgroup)\n",
    "            self.data[kgroup] = add\n",
    "            # self.capacity+=1\n",
    "        elif kgroup in self.group:\n",
    "            self.help_addinlist(self.data[kgroup],add,key)\n",
    "\n",
    "    def help_addinlist(self, node, addinto,key):\n",
    "        if node.next != None:\n",
    "            self.help_addinlist(node.next, addinto,key)\n",
    "        elif node.next == None:\n",
    "            if self.contains(key):\n",
    "                return\n",
    "            else:\n",
    "                node.next = addinto\n",
    "\n",
    "    def remove(self, key):\n",
    "        dkgroup = self.groupindex(key)\n",
    "        if self.contains(key):  # 有找到所以要找到他在哪裡並刪掉=>可以設計一個方法回傳值在哪個bucket也可以直接刪掉\n",
    "            self.removehelp(dkgroup, key, self.data[dkgroup])\n",
    "\n",
    "    def removehelp(self, keygroup, key, node, prenode=None):\n",
    "        if node:\n",
    "            if prenode:\n",
    "                if node.val == self.crydata(key):\n",
    "                    prenode.next = node.next\n",
    "                    del node\n",
    "                else:\n",
    "                    self.removehelp(keygroup, key, node.next, node)\n",
    "            else:  # 是head，要刪掉capacity中的值\n",
    "                if node.val == self.crydata(key):\n",
    "                    if node.next:\n",
    "                        self.data[keygroup] = node.next\n",
    "                        del node\n",
    "                    else:\n",
    "                        self.data[keygroup] = None\n",
    "                else:\n",
    "                    self.removehelp(keygroup, key, node.next, node)\n",
    "\n",
    "    def contains(self, key):\n",
    "        ckgroup = self.groupindex(key)\n",
    "        if ckgroup not in self.group:  # bucket不存在=>Key不存在不用查\n",
    "            return False\n",
    "        elif ckgroup in self.group:  # bucket存在=>遍訪linked list\n",
    "            return self.containsinshelp(key, self.data[ckgroup])\n",
    "\n",
    "    def containsinshelp(self, key, node):\n",
    "        if node:\n",
    "            if node.val == self.crydata(key):\n",
    "                return True\n",
    "            else:\n",
    "                if node.next == None:\n",
    "                    return False\n",
    "                elif node.next:\n",
    "                    return self.containsinshelp(key, node.next)\n",
    "        else:\n",
    "            return False\n"
   ]
  },
  {
   "cell_type": "code",
   "execution_count": 4,
   "metadata": {},
   "outputs": [],
   "source": [
    "t1 = MyHashSet()"
   ]
  },
  {
   "cell_type": "code",
   "execution_count": 5,
   "metadata": {},
   "outputs": [],
   "source": [
    "t1.add('ji3')"
   ]
  },
  {
   "cell_type": "code",
   "execution_count": 13,
   "metadata": {},
   "outputs": [
    {
     "data": {
      "text/plain": [
       "[None, None, None, None, <__main__.ListNode at 0x25d8f7b8da0>]"
      ]
     },
     "execution_count": 13,
     "metadata": {},
     "output_type": "execute_result"
    }
   ],
   "source": [
    "t1.data"
   ]
  },
  {
   "cell_type": "code",
   "execution_count": 14,
   "metadata": {},
   "outputs": [
    {
     "data": {
      "text/plain": [
       "'140659775043592920190628162829967911699'"
      ]
     },
     "execution_count": 14,
     "metadata": {},
     "output_type": "execute_result"
    }
   ],
   "source": [
    "t1.data[4].val"
   ]
  },
  {
   "cell_type": "code",
   "execution_count": 15,
   "metadata": {},
   "outputs": [
    {
     "data": {
      "text/plain": [
       "'140659775043592920190628162829967911699'"
      ]
     },
     "execution_count": 15,
     "metadata": {},
     "output_type": "execute_result"
    }
   ],
   "source": [
    "t1.crydata('ji3')"
   ]
  },
  {
   "cell_type": "code",
   "execution_count": null,
   "metadata": {},
   "outputs": [],
   "source": []
  }
 ],
 "metadata": {
  "kernelspec": {
   "display_name": "Python 3",
   "language": "python",
   "name": "python3"
  },
  "language_info": {
   "codemirror_mode": {
    "name": "ipython",
    "version": 3
   },
   "file_extension": ".py",
   "mimetype": "text/x-python",
   "name": "python",
   "nbconvert_exporter": "python",
   "pygments_lexer": "ipython3",
   "version": "3.7.3"
  }
 },
 "nbformat": 4,
 "nbformat_minor": 2
}
