{
 "cells": [
  {
   "cell_type": "markdown",
   "metadata": {
    "slideshow": {
     "slide_type": "subslide"
    }
   },
   "source": [
    "# HW5 學習歷程\n",
    "***巨資三 | 林依樺***\n",
    "<br>"
   ]
  },
  {
   "cell_type": "markdown",
   "metadata": {
    "slideshow": {
     "slide_type": "subslide"
    }
   },
   "source": [
    "<font color=#9E7A7A>最近發現之前寫的筆記發現比較難複習，希望可以寫的更好複習一點點> <。</font>"
   ]
  },
  {
   "cell_type": "markdown",
   "metadata": {
    "slideshow": {
     "slide_type": "subslide"
    }
   },
   "source": [
    "# 目錄\n",
    "\n",
    "- [BFS說明、DFS說明](#🔸BFS說明、DFS說明)\n",
    "- [BFS、DFS流程圖、原理比較](#🔸BFS、DFS流程圖、原理比較)\n",
    "- [學習歷程](#🔸學習歷程)\n",
    "    - [程式碼撰寫](#🔸程式碼撰寫)\n",
    "    - [最終程式碼](#🔸最終程式碼)\n",
    "- [參考資料](#🔸參考資料)"
   ]
  },
  {
   "cell_type": "markdown",
   "metadata": {
    "slideshow": {
     "slide_type": "subslide"
    }
   },
   "source": [
    "# 🔸BFS說明、DFS說明\n",
    "深度優先搜尋(DFS)與廣度優先搜尋(BFS)這兩種搜尋法，作用在於圖的「走訪」(traversal)。\n",
    "> 走訪是從圖的某一個點開始拜訪其餘的點，且每一個點都址拜訪一次的過程。\n",
    "\n",
    "### 圖的定義:\n",
    "<br>是由`邊(edge)`和`點(vertex)`組成的，會注重點雨點之間的連接關係，像是`單向`或`雙向`。\n",
    "圖的組成十分自由與多樣，樹也是一種圖，其中若兩個圖的點與其連接關係一樣，則會稱為`「同構」`。\n",
    "簡單整理一下圖會怎麼表現點雨點之間的聯接關係:\n",
    "* Edge List:記錄所有點與點之間的邊。\n",
    "    * `adjacency matrix`:一個矩陣，用來紀錄兩個點是否有連接。\n",
    "    <br>舉例:第(0,1)個內容代表編號0、1這兩個點是否聯接。紀錄的內容可能是邊的權重，也可能是邊的個數。\n",
    "    ***注意:因為有有像圖，所以不一定是對稱矩陣。***\n",
    "    * `adjacency lists` :可能是一個linked list 或是 dictionary 等等的資料結構。主要是紀錄(某個點A=>所有跟點A有聯接的點)。\n",
    "\n",
    "### 為什麼要有走訪?\n",
    "由於圖的結構較為多變複雜，走訪可以確保我們以有效率的方式拜訪每個節點、確認全部截點的內容且沒有遺漏。同時，也因為圖允許「loop」，走訪的演算法必須避開「訪問相同的點」、「陷入loop」的問題。\n",
    "\n",
    "### BFS&BFS\n",
    "<br>&emsp;&emsp;而BFS與DFS就是其中的演算法。其不同點在於走訪順序不同，但皆可以完成走訪。\n",
    "以樹舉例，深度優先搜尋(DFS)是紅色的蠟筆的部分，而廣度優先搜尋(BFS)是綠色的蠟筆。\n",
    "* DFS:走訪的順序會以起點碰到的「子節點及其小孩」一直走下去，直到沒有小孩才繼續走訪起點的其他子節點。\n",
    "* BFS:走訪的順序會以起點可以碰到的「所有子節點」為優先，再找「起點的子節點會碰到的所有小孩走訪」。\n",
    "樹的走訪，起點通常是root，子節點就是相鄰的點。圖則可以指定任意起點。(圖就需要注意有沒有loop，但只拜訪沒有拜訪過的點就可以解決)。\n",
    "![image](https://github.com/evaneversaydie/My_Study_Note/blob/master/_img/HW3_1.jpg?raw=true)\n",
    "\n",
    "\n",
    "<br>\n",
    "<br>\n",
    "BFS、DFS很相似，唯一比較大的差別是拜訪的順序。\n",
    "***BFS、DFS實作需要的工具:***\n",
    "* Adjency list\n",
    "* 儲存找到但還沒拜訪的資料。\n",
    "* 要記得剪枝:記下有拜訪過的點。\n",
    "\n",
    "在找資料的時候看到一個很可愛的比喻:<font color=#9E7A7A>DFS像是走迷宮，一直搜尋直到沒有退路在回到起點。BFS像是多拉A夢的大雄眼鏡掉了在找眼鏡，會從近的地方開始找，找不到才找遠的地方。</font>\n",
    "* DFS=>使用Stack=>迷宮中往往前一步，看到新的路就先拜訪，直到遇到死路=>比較後面看到的比較先拜訪\n",
    "* BFS =>使用QUEUE=>四周看到先拜訪，先看到的先拿出來\n",
    "\n",
    "BFS時，我們將起點放進去Queue，拜訪了起點(把起點刪掉放到拜訪過的紀錄中)，再把臨邊表的點放到Queue中，先拜訪先看到的點(依照林邊表順序)......直到沒有點可以拜訪。加入林邊表的數據時，要檢查有沒有拜訪過。\n",
    "<br>\n",
    "DFS時，我們將起點放進去Stack，拜訪了起點(把起點刪掉)，再把臨邊表的點放到Stack中，先拜訪最後看到的點(依照林邊表順序)......直到沒有點可以拜訪。加入臨邊表的數據時，要檢查有沒有拜訪過。\n"
   ]
  },
  {
   "cell_type": "markdown",
   "metadata": {
    "slideshow": {
     "slide_type": "subslide"
    }
   },
   "source": [
    "# 🔸BFS、DFS流程圖、原理比較\n",
    "## BFS、DFS流程圖\n",
    "[原圖請點這裡](https://i.imgur.com/L7SOBsx.jpg)\n",
    "![](https://i.imgur.com/L7SOBsx.jpg)\n",
    "## 比較\n",
    "複雜度會依據有沒有適用遞迴、是使用Adjency List還是矩陣有所差異。 \n",
    "以下為使用Adjency list 的複雜度:\n"
   ]
  },
  {
   "cell_type": "markdown",
   "metadata": {},
   "source": [
    "\n",
    "|項目|BFS|DFS|備註|\n",
    "|---|---|---|---|\n",
    "|走訪|以同一深度為優先()|以可以走到最深路徑為優先||\n",
    "|最差時間複雜度|O(v+e)|O(v+e)|1.找完全部點與邊<br>2.使用矩陣O(V^2)) <br>3.例外:稀疏圖(點多邊少)、密集圖(邊多點少)的複雜度偏重點或編的數量|\n",
    "|最佳時間複雜度\t|O(1)|O(1)|一找就中|\n",
    "|平均時間複雜度\t|O(v+e)|O(v+e)|\n",
    "|最差時間複雜度\t|O(v+e)|O(v+e)|\n",
    "|實作|Stack|Queue||\n",
    "|應用|路徑的邊的數量(轉機問題)|走迷宮、拓樸排序、路徑的權重和|\n"
   ]
  },
  {
   "cell_type": "markdown",
   "metadata": {},
   "source": [
    "# 🔸學習歷程\n",
    "&emsp;&emsp;今天(2019/12/06)上課時，老師再次提到了**<font color=#9E7A7A>「將寫過的東西留下來，之後可以重複使用」</font>** 的觀念，也提及同學「利用之前練習的linked list協助完成Hash Table」的例子。雖然這學期花了很多時間看linked list應用在binary search tree，但在寫HW3、HW4幾乎都是從頭開始寫起，寫得過程往往是linked list(或是其他已經教過的資料結構)和作業主題的錯誤輾轉反覆出現QAQ。上課時BFS、DFS都有使用到、Stack、Queue，所以這次作業想引用之前寫leetcode的程式碼，試著練練習使用自己的程式碼開始。</sub>\n",
    "<br>以下網址是Queue、Stack寫的筆記與歷程。\n",
    "* [Stack和Queue理解與筆記](https://github.com/evaneversaydie/My_Study_Note/blob/master/Week2_Stack%26Queue/week2_Stack%26Queue.md)\n",
    "* [leetcode_stack](https://github.com/evaneversaydie/My_Study_Note/blob/master/leetcode/155.%20Min%20Stack.md)\n",
    "* [leetcode_Queue](https://github.com/evaneversaydie/My_Study_Note/blob/master/leetcode/232%20Implement%20Queue%20using%20Stacks.md)"
   ]
  },
  {
   "cell_type": "code",
   "execution_count": 71,
   "metadata": {
    "slideshow": {
     "slide_type": "subslide"
    }
   },
   "outputs": [],
   "source": [
    "class MinStack:\n",
    "\n",
    "    def __init__(self):\n",
    "        \"\"\"\n",
    "        initialize your data structure here.\n",
    "        \"\"\"\n",
    "        self.t = []\n",
    "\n",
    "    def push(self, x: int) -> None:\n",
    "        self.t.append(x)\n",
    "\n",
    "    def pop(self) -> None:\n",
    "        self.t=self.t[:-1]\n",
    "\n",
    "    def top(self) -> int:\n",
    "        return self.t[-1]\n",
    "\n",
    "    def getMin(self) -> int:\n",
    "        return sorted(self.t)[0]\n",
    "    \n",
    "class MyQueue:\n",
    "\n",
    "    def __init__(self):\n",
    "        \"\"\"\n",
    "        Initialize your data structure here.\n",
    "        \"\"\"\n",
    "        self.data=[]\n",
    "        self.data1=self.data[::-1]\n",
    "\n",
    "    def push(self, x: int) -> None:\n",
    "        \"\"\"\n",
    "        Push element x to the back of queue.\n",
    "        \"\"\"\n",
    "        self.data.append(x)\n",
    "\n",
    "\n",
    "    def pop(self) -> int:\n",
    "        \"\"\"\n",
    "        Removes the element from in front of queue and returns that element.\n",
    "        \"\"\"\n",
    "        a =  self.data[0]\n",
    "        self.data = self.data[1:]\n",
    "        return a\n",
    "\n",
    "    def peek(self) -> int:\n",
    "        \"\"\"\n",
    "        Get the front element.\n",
    "        \"\"\"\n",
    "        return self.data[0]\n",
    "\n",
    "    def empty(self) -> bool:\n",
    "        \"\"\"\n",
    "        Returns whether the queue is empty.\n",
    "        \"\"\"\n",
    "        if len(self.data)==0:\n",
    "            return True\n",
    "        else:\n",
    "            return False\n"
   ]
  },
  {
   "cell_type": "markdown",
   "metadata": {
    "slideshow": {
     "slide_type": "subslide"
    }
   },
   "source": [
    "## ✍程式碼撰寫"
   ]
  },
  {
   "cell_type": "markdown",
   "metadata": {
    "slideshow": {
     "slide_type": "subslide"
    }
   },
   "source": [
    "### 1.import 測試:\n",
    "如果直接用之前的寫的Stack和Queue兩個物件，如果只有import Graph這個class的話會不會有錯誤(沒有import MinStack、MyQueue)，城市是否有錯誤。以下是測試程式碼+結果:\n",
    "```Python\n",
    "#測試程式碼:檔名te.py\n",
    "class B:\n",
    "    def t1(self):\n",
    "        print('ClassA正在使用ClassB中的t1')\n",
    "    def t2(slef,a):\n",
    "        print('我是ClassB中的t2')\n",
    "        return a\n",
    "    \n",
    "    \n",
    "class A:\n",
    "    def call(self):\n",
    "        print(\"我在ClassA裡面\")\n",
    "    def call2(self,a):\n",
    "        print(B().t2(a))\n",
    "        print('ClassA正在使用ClassB中的t2')\n",
    "\n",
    "\n",
    "#另外一檔案import\n",
    "from te import A\n",
    "#print('-'*5,'A().call2(2)','-'*5)\n",
    "A().call2('2')\n",
    "print('-'*5+'A().call()'+'-'*5)\n",
    "A().call()\n",
    "print('-'*5+'B().t2()'+'-'*5)\n",
    "B().t2()\n",
    "#print('-'*5+'t2()'+'-'*5)\n",
    "#t2()\n",
    "\n",
    "```"
   ]
  },
  {
   "cell_type": "markdown",
   "metadata": {
    "slideshow": {
     "slide_type": "subslide"
    }
   },
   "source": [
    "![](https://i.imgur.com/xNVCkbM.png)\n",
    "[圖片原圖請點這裡](https://i.imgur.com/xNVCkbM.png)"
   ]
  },
  {
   "cell_type": "markdown",
   "metadata": {
    "slideshow": {
     "slide_type": "subslide"
    }
   },
   "source": [
    "#### 測試結果:Class A裡面使用沒有import的 Class B，也可以正常運作。但是沒有import B的話，新開檔案不能取用class b的defination。\n",
    "### 2.How to use defaultdict ?\n",
    "一般預設的python dictionary，如果直接呼叫一個沒有新增的KEY，會有KEY Eroor:"
   ]
  },
  {
   "cell_type": "code",
   "execution_count": 4,
   "metadata": {
    "slideshow": {
     "slide_type": "subslide"
    }
   },
   "outputs": [
    {
     "name": "stdout",
     "output_type": "stream",
     "text": [
      "{'a': 'a'}\n"
     ]
    },
    {
     "ename": "KeyError",
     "evalue": "'b'",
     "output_type": "error",
     "traceback": [
      "\u001b[1;31m---------------------------------------------------------------------------\u001b[0m",
      "\u001b[1;31mKeyError\u001b[0m                                  Traceback (most recent call last)",
      "\u001b[1;32m<ipython-input-4-50aa8ea403d3>\u001b[0m in \u001b[0;36m<module>\u001b[1;34m\u001b[0m\n\u001b[0;32m      2\u001b[0m \u001b[0ma\u001b[0m\u001b[1;33m[\u001b[0m\u001b[1;34m'a'\u001b[0m\u001b[1;33m]\u001b[0m\u001b[1;33m=\u001b[0m\u001b[1;34m'a'\u001b[0m\u001b[1;33m\u001b[0m\u001b[1;33m\u001b[0m\u001b[0m\n\u001b[0;32m      3\u001b[0m \u001b[0mprint\u001b[0m\u001b[1;33m(\u001b[0m\u001b[0ma\u001b[0m\u001b[1;33m)\u001b[0m\u001b[1;33m\u001b[0m\u001b[1;33m\u001b[0m\u001b[0m\n\u001b[1;32m----> 4\u001b[1;33m \u001b[0ma\u001b[0m\u001b[1;33m[\u001b[0m\u001b[1;34m'b'\u001b[0m\u001b[1;33m]\u001b[0m\u001b[1;33m\u001b[0m\u001b[1;33m\u001b[0m\u001b[0m\n\u001b[0m",
      "\u001b[1;31mKeyError\u001b[0m: 'b'"
     ]
    }
   ],
   "source": [
    "a ={}\n",
    "a['a']='a'\n",
    "print(a)\n",
    "a['b']"
   ]
  },
  {
   "cell_type": "markdown",
   "metadata": {
    "slideshow": {
     "slide_type": "subslide"
    }
   },
   "source": [
    "使用defaultdict 可以解決這個問題!!()套件會直接新增一個KEY，然後VALUE預設為[]。"
   ]
  },
  {
   "cell_type": "code",
   "execution_count": 13,
   "metadata": {
    "slideshow": {
     "slide_type": "subslide"
    }
   },
   "outputs": [
    {
     "name": "stdout",
     "output_type": "stream",
     "text": [
      "a的key: dict_keys([])\n",
      "叫一個不在keys()裡面的key: []\n",
      "加進來了: dict_keys(['a'])\n"
     ]
    }
   ],
   "source": [
    "from collections import defaultdict \n",
    "a = defaultdict(list)\n",
    "print('a的key:',a.keys())\n",
    "print('叫一個不在keys()裡面的key:',a['a'])#沒有key erro\n",
    "print('加進來了:',a.keys())"
   ]
  },
  {
   "cell_type": "markdown",
   "metadata": {
    "slideshow": {
     "slide_type": "subslide"
    }
   },
   "source": [
    "### 3.來寫程式碼\n",
    "* 了解基本格式。"
   ]
  },
  {
   "cell_type": "markdown",
   "metadata": {
    "slideshow": {
     "slide_type": "subslide"
    }
   },
   "source": [
    "* 如果要新增adjacency list的話，dict會有資料{'起點': ['點A', '點B']}"
   ]
  },
  {
   "cell_type": "code",
   "execution_count": 3,
   "metadata": {
    "slideshow": {
     "slide_type": "subslide"
    }
   },
   "outputs": [],
   "source": [
    "from collections import defaultdict \n",
    "class Graph:\n",
    "    def __init__(self): \n",
    "        self.graph = defaultdict(list) #預設為一個空的dict\n",
    "    def addEdge(self,u,v): \n",
    "        self.graph[u].append(v) #如果要新增adjacency list的話，dict會有資料{'起點': ['點A', '點B']}\n"
   ]
  },
  {
   "cell_type": "code",
   "execution_count": 4,
   "metadata": {
    "slideshow": {
     "slide_type": "subslide"
    }
   },
   "outputs": [
    {
     "name": "stdout",
     "output_type": "stream",
     "text": [
      "defaultdict(<class 'list'>, {0: [1, 2], 1: [2], 2: [0, 3], 3: [3]})\n"
     ]
    }
   ],
   "source": [
    "g = Graph()\n",
    "g.addEdge(0,1)\n",
    "g.addEdge(0,2)\n",
    "g.addEdge(1,2)\n",
    "g.addEdge(2,0)\n",
    "g.addEdge(2,3)\n",
    "g.addEdge(3,3)\n",
    "print(g.graph)"
   ]
  },
  {
   "cell_type": "markdown",
   "metadata": {
    "slideshow": {
     "slide_type": "subslide"
    }
   },
   "source": [
    "### 改寫stack、queue，並試試看實作BFS。\n",
    "```Python \n",
    "       \n",
    "class MinStack:\n",
    "    def __init__(self):\n",
    "        self.data = []\n",
    "\n",
    "    def push(self, x: int) -> None:\n",
    "        self.data.append(x)\n",
    "\n",
    "    def pop(self) -> None:\n",
    "        self.data=self.data[:-1]\n",
    "\n",
    "    def top(self) -> int:\n",
    "        if len(self.data)>=1:\n",
    "            return self.data[0]\n",
    "        return None \n",
    "    def empty(self) -> bool:\n",
    "        if len(self.data)==0:\n",
    "            return True\n",
    "        else:\n",
    "            return False\n",
    "    \n",
    "class MyQueue:\n",
    "    def __init__(self):\n",
    "        self.data=[]\n",
    "        self.data1=self.data[::-1]\n",
    "\n",
    "    def push(self, x: int) -> None:\n",
    "        self.data.append(x)\n",
    "\n",
    "    def pop(self) -> int:\n",
    "        \n",
    "        self.data = self.data[1:]\n",
    "        #a =  self.data[0]\n",
    "        #return a\n",
    "        \n",
    "    def top(self):\n",
    "        if len(self.data)>=1:\n",
    "            return self.data[0]\n",
    "        return \n",
    "    def empty(self) -> bool:\n",
    "        if len(self.data)==0:\n",
    "            return True\n",
    "        else:\n",
    "            return False\n",
    "```\n",
    "* 把兩種Stack、Queue 的函式名稱修改成相同的值。\n",
    "* 更改empty()、top()之回傳值。(如:沒有self.data[0]也有回傳值)\n",
    "```Python \n",
    "    def BFS(self, s): \n",
    "        \"\"\"\n",
    "        :type s: int\n",
    "        :rtype: list\n",
    "        \"\"\"\n",
    "        visited = []\n",
    "        Q = MyQueue()\n",
    "        \n",
    "        now = s#起點\n",
    "        Q.push(s)\n",
    "        while not Q.empty():\n",
    "            for i in self.graph[now]:\n",
    "                if i not in visited:\n",
    "                    Q.push(i)\n",
    "            \n",
    "            add = Q.top()\n",
    "            Q.pop()\n",
    "            if add not in visited: #\n",
    "                visited.append(add)\n",
    "            now = Q.top()\n",
    "        return visited\n",
    "```\n",
    "* 🔴遇到的覺得卡住的地方是:\n",
    "    <br>1. 不知道怎設起始值。\n",
    "(while not Q.empty():的條件設使得若不加入起點就無法開始寫迴圈。\n",
    "<br>2.且需要加入第68行:if add not in visited:，\n",
    "<br>不然的會重複顯示其他的點可以走訪的點)如下:\n"
   ]
  },
  {
   "cell_type": "code",
   "execution_count": 66,
   "metadata": {
    "slideshow": {
     "slide_type": "subslide"
    }
   },
   "outputs": [
    {
     "name": "stdout",
     "output_type": "stream",
     "text": [
      "[2, 0, 3, 1, 3]\n"
     ]
    }
   ],
   "source": [
    "from collections import defaultdict \n",
    "class Graph:\n",
    "    def __init__(self): \n",
    "        self.graph = defaultdict(list) #預設為一個空的dict\n",
    "    def addEdge(self,u,v): \n",
    "        self.graph[u].append(v) #如果要新增adjacency list的話，dict會有資料\n",
    "\n",
    "    def BFS(self, s): \n",
    "        \"\"\"\n",
    "        :type s: int\n",
    "        :rtype: list\n",
    "        \"\"\"\n",
    "        visited = []\n",
    "        Q = MyQueue()\n",
    "        \n",
    "        now = s#起點\n",
    "        Q.push(s)\n",
    "        while not Q.empty():\n",
    "            for i in self.graph[now]:\n",
    "                if i not in visited:\n",
    "                    Q.push(i)\n",
    "            \n",
    "            add = Q.top()\n",
    "            Q.pop()\n",
    "            visited.append(add)\n",
    "            now = Q.top()\n",
    "        return visited\n",
    "        \n",
    "        \n",
    "class MinStack:\n",
    "    def __init__(self):\n",
    "        self.data = []\n",
    "    def push(self, x: int) -> None:\n",
    "        self.data.append(x)\n",
    "    def pop(self) -> None:\n",
    "        self.data=self.data[:-1]\n",
    "    def top(self) -> int:\n",
    "        if len(self.data)>=1:\n",
    "            return self.data[0]\n",
    "        return None \n",
    "    def empty(self) -> bool:\n",
    "        if len(self.data)==0:\n",
    "            return True\n",
    "        else:\n",
    "            return False    \n",
    "class MyQueue:\n",
    "    def __init__(self):\n",
    "        self.data=[]\n",
    "        self.data1=self.data[::-1]\n",
    "    def push(self, x: int) -> None:\n",
    "        self.data.append(x)\n",
    "    def pop(self) -> int:        \n",
    "        self.data = self.data[1:]\n",
    "        #a =  self.data[0]\n",
    "        #return a       \n",
    "    def top(self):\n",
    "        if len(self.data)>=1:\n",
    "            return self.data[0]\n",
    "        return \n",
    "    def empty(self) -> bool:\n",
    "        if len(self.data)==0:\n",
    "            return True\n",
    "        else:\n",
    "            return False\n",
    "        \n",
    "g = Graph()\n",
    "g.addEdge(0,1)\n",
    "g.addEdge(0,2)\n",
    "g.addEdge(1,2)\n",
    "g.addEdge(2,0)\n",
    "g.addEdge(2,3)\n",
    "g.addEdge(3,3)\n",
    "#print(g.graph)\n",
    "print(g.BFS(2))#[2, 0, 3, 1]\n",
    "#print(g.DFS(2))#[2, 3, 0, 1]\n"
   ]
  },
  {
   "cell_type": "code",
   "execution_count": 67,
   "metadata": {
    "slideshow": {
     "slide_type": "subslide"
    }
   },
   "outputs": [
    {
     "name": "stdout",
     "output_type": "stream",
     "text": [
      "[2, 0, 3, 1]\n"
     ]
    }
   ],
   "source": [
    "from collections import defaultdict \n",
    "class Graph:\n",
    "    def __init__(self): \n",
    "        self.graph = defaultdict(list) #預設為一個空的dict\n",
    "    def addEdge(self,u,v): \n",
    "        self.graph[u].append(v) #如果要新增adjacency list的話，dict會有資料\n",
    "\n",
    "    def BFS(self, s): \n",
    "        \"\"\"\n",
    "        :type s: int\n",
    "        :rtype: list\n",
    "        \"\"\"\n",
    "        visited = []\n",
    "        Q = MyQueue()\n",
    "        \n",
    "        now = s#起點\n",
    "        Q.push(s)\n",
    "        while not Q.empty():\n",
    "            for i in self.graph[now]:\n",
    "                if i not in visited:\n",
    "                    Q.push(i)\n",
    "            \n",
    "            add = Q.top()\n",
    "            Q.pop()\n",
    "            if add not in visited: #避免重複\n",
    "                visited.append(add)\n",
    "            now = Q.top()\n",
    "        return visited\n",
    "    \n",
    "    \n",
    "    def DFS(self, s):\n",
    "        \"\"\"\n",
    "        :type s: int\n",
    "        :rtype: list\n",
    "        \"\"\"\n",
    "        return\n",
    "        \n",
    "        \n",
    "        \n",
    "class MinStack:\n",
    "    def __init__(self):\n",
    "        self.data = []\n",
    "\n",
    "    def push(self, x: int) -> None:\n",
    "        self.data.append(x)\n",
    "\n",
    "    def pop(self) -> None:\n",
    "        self.data=self.data[:-1]\n",
    "\n",
    "    def top(self) -> int:\n",
    "        if len(self.data)>=1:\n",
    "            return self.data[0]\n",
    "        return None \n",
    "    def empty(self) -> bool:\n",
    "        if len(self.data)==0:\n",
    "            return True\n",
    "        else:\n",
    "            return False\n",
    "    \n",
    "class MyQueue:\n",
    "    def __init__(self):\n",
    "        self.data=[]\n",
    "        self.data1=self.data[::-1]\n",
    "\n",
    "    def push(self, x: int) -> None:\n",
    "        self.data.append(x)\n",
    "\n",
    "    def pop(self) -> int:\n",
    "        \n",
    "        self.data = self.data[1:]\n",
    "        #a =  self.data[0]\n",
    "        #return a\n",
    "        \n",
    "    def top(self):\n",
    "        if len(self.data)>=1:\n",
    "            return self.data[0]\n",
    "        return \n",
    "    def empty(self) -> bool:\n",
    "        if len(self.data)==0:\n",
    "            return True\n",
    "        else:\n",
    "            return False\n",
    "g = Graph()\n",
    "g.addEdge(0,1)\n",
    "g.addEdge(0,2)\n",
    "g.addEdge(1,2)\n",
    "g.addEdge(2,0)\n",
    "g.addEdge(2,3)\n",
    "g.addEdge(3,3)\n",
    "#print(g.graph)\n",
    "print(g.BFS(2))#[2, 0, 3, 1]\n",
    "#print(g.DFS(2))#[2, 3, 0, 1]\n"
   ]
  },
  {
   "cell_type": "code",
   "execution_count": 68,
   "metadata": {
    "slideshow": {
     "slide_type": "subslide"
    }
   },
   "outputs": [
    {
     "name": "stdout",
     "output_type": "stream",
     "text": [
      "[0, 2, 1, 3, 4, 5]\n",
      "None\n"
     ]
    }
   ],
   "source": [
    "g = Graph()\n",
    "g.addEdge(0,2)\n",
    "g.addEdge(0,1)\n",
    "g.addEdge(1,2)\n",
    "g.addEdge(1,3)\n",
    "g.addEdge(2,3)\n",
    "g.addEdge(3,4)\n",
    "g.addEdge(4,0)\n",
    "g.addEdge(4,5)\n",
    "g.addEdge(5,5)\n",
    "#print(g.graph)\n",
    "print(g.BFS(0)) #[0, 2, 1, 3, 4, 5]\n",
    "print(g.DFS(0)) #[0,1,3,4,5,2]"
   ]
  },
  {
   "cell_type": "code",
   "execution_count": 69,
   "metadata": {
    "slideshow": {
     "slide_type": "subslide"
    }
   },
   "outputs": [
    {
     "name": "stdout",
     "output_type": "stream",
     "text": [
      "[1, 2, 3, 4, 5, 6, 7, 8, 9]\n",
      "None\n"
     ]
    }
   ],
   "source": [
    "g = Graph()\n",
    "g.addEdge(1,2)\n",
    "g.addEdge(1,3)\n",
    "g.addEdge(1,4)\n",
    "\n",
    "g.addEdge(2,1)\n",
    "g.addEdge(2,5)\n",
    "\n",
    "g.addEdge(3,1)\n",
    "g.addEdge(3,5)\n",
    "g.addEdge(3,6)\n",
    "g.addEdge(3,7)\n",
    "g.addEdge(3,8)\n",
    "\n",
    "g.addEdge(4,1)\n",
    "g.addEdge(4,8)\n",
    "\n",
    "g.addEdge(5,2)\n",
    "g.addEdge(5,3)\n",
    "g.addEdge(5,6)\n",
    "\n",
    "g.addEdge(6,3)\n",
    "g.addEdge(6,5)\n",
    "g.addEdge(6,9)\n",
    "\n",
    "g.addEdge(7,3)\n",
    "g.addEdge(7,8)\n",
    "g.addEdge(7,9)\n",
    "\n",
    "g.addEdge(8,3)\n",
    "g.addEdge(8,4)\n",
    "g.addEdge(8,7)\n",
    "\n",
    "g.addEdge(9,6)\n",
    "g.addEdge(9,7)\n",
    "\n",
    "#print(g.graph)\n",
    "print(g.BFS(1)) #[1, 2, 3, 4, 5, 6, 7, 8, 9]\n",
    "print(g.DFS(1)) #[1,4,8,7,9,3,5,2]"
   ]
  },
  {
   "cell_type": "code",
   "execution_count": 70,
   "metadata": {
    "slideshow": {
     "slide_type": "subslide"
    }
   },
   "outputs": [
    {
     "name": "stdout",
     "output_type": "stream",
     "text": [
      "[0, 2, 1, 3, 4, 5]\n",
      "None\n"
     ]
    }
   ],
   "source": [
    "g = Graph()\n",
    "g.addEdge(0,2)\n",
    "g.addEdge(0,1)\n",
    "g.addEdge(1,2)\n",
    "g.addEdge(1,3)\n",
    "g.addEdge(2,3)\n",
    "g.addEdge(3,4)\n",
    "g.addEdge(4,0)\n",
    "g.addEdge(4,5)\n",
    "g.addEdge(5,5)\n",
    "#print(g.graph)\n",
    "print(g.BFS(0)) #[0, 2, 1, 3, 4, 5]\n",
    "print(g.DFS(0)) #[0,1,3,4,5,2]"
   ]
  },
  {
   "cell_type": "markdown",
   "metadata": {
    "slideshow": {
     "slide_type": "subslide"
    }
   },
   "source": [
    "上面的BFS都跑出了自首算的結果\\OvO/\n",
    "#### 加入DFS:把Q改成Stack\n",
    "```Python\n",
    "    def DFS(self, s):\n",
    "        \"\"\"\n",
    "        :type s: int\n",
    "        :rtype: list\n",
    "        \"\"\"\n",
    "        visited = []\n",
    "        S = MinStack()\n",
    "        #起點\n",
    "        now = s\n",
    "        S.push(s)\n",
    "        while not S.empty():\n",
    "            for i in self.graph[now]:\n",
    "                if i not in visited :\n",
    "                    S.push(i)\n",
    "            \n",
    "            add = S.top()\n",
    "            S.pop()\n",
    "            if add not in visited: #\n",
    "                visited.append(add)\n",
    "            now = S.top()\n",
    "        return visited\n",
    "    \n",
    "            ```\n",
    "#####  🔴遇到的錯誤\n",
    "1. 忘記檢查stack、Queue中是否有已經有鄰邊表的值，導致走訪重複\n",
    "2. 因為MINSTACK().top()不符合後進先出的規則，導致無窮迴圈"
   ]
  },
  {
   "cell_type": "code",
   "execution_count": 17,
   "metadata": {
    "slideshow": {
     "slide_type": "subslide"
    }
   },
   "outputs": [],
   "source": [
    "from collections import defaultdict \n",
    "class Graph:\n",
    "    def __init__(self): \n",
    "        self.graph = defaultdict(list) #預設為一個空的dict\n",
    "    def addEdge(self,u,v): \n",
    "        self.graph[u].append(v) #如果要新增adjacency list的話，dict會有資料\n",
    "\n",
    "    def BFS(self, s): \n",
    "\n",
    "        visited = []\n",
    "        Q = MyQueue()\n",
    "        #起點\n",
    "        now = s\n",
    "        Q.push(s)\n",
    "        while not Q.empty():\n",
    "            for i in self.graph[now]:\n",
    "                if i not in visited and i not in Q.data:\n",
    "                    Q.push(i)\n",
    "            \n",
    "            add = Q.top()\n",
    "            Q.pop()\n",
    "            if add not in visited: #\n",
    "                visited.append(add)\n",
    "            now = Q.top()\n",
    "        return visited\n",
    "    \n",
    "    \n",
    "    def DFS(self, s):\n",
    "        \"\"\"\n",
    "        :type s: int\n",
    "        :rtype: list\n",
    "        \"\"\"\n",
    "        visited = []\n",
    "        S = MinStack()\n",
    "        #起點\n",
    "        now = s\n",
    "        S.push(s)\n",
    "        while not S.empty():\n",
    "            for i in self.graph[now]:\n",
    "                if i not in visited :\n",
    "                    S.push(i)\n",
    "            \n",
    "            add = S.top()\n",
    "            S.pop()\n",
    "            if add not in visited: #\n",
    "                visited.append(add)\n",
    "            now = S.top()\n",
    "        return visited\n",
    "    \n",
    "        \n",
    "        \n",
    "class MinStack:\n",
    "    def __init__(self):\n",
    "        self.data = []\n",
    "\n",
    "    def push(self, x: int) -> None:\n",
    "        self.data.append(x)\n",
    "\n",
    "    def pop(self) -> None:\n",
    "        self.data=self.data[:-1]\n",
    "\n",
    "    def top(self) -> int:\n",
    "        if len(self.data)>=1:\n",
    "            return self.data[-1]\n",
    "        return None \n",
    "    def empty(self) -> bool:\n",
    "        if len(self.data)==0:\n",
    "            return True\n",
    "        else:\n",
    "            return False\n",
    "    \n",
    "class MyQueue:\n",
    "    def __init__(self):\n",
    "        self.data=[]\n",
    "        self.data1=self.data[::-1]\n",
    "\n",
    "    def push(self, x: int) -> None:\n",
    "        self.data.append(x)\n",
    "\n",
    "    def pop(self) -> int:\n",
    "        \n",
    "        self.data = self.data[1:]\n",
    "        #a =  self.data[0]\n",
    "        #return a\n",
    "        \n",
    "    def top(self):\n",
    "        if len(self.data)>=1:\n",
    "            return self.data[0]\n",
    "        return \n",
    "    def empty(self) -> bool:\n",
    "        if len(self.data)==0:\n",
    "            return True\n",
    "        else:\n",
    "            return False\n",
    "\n"
   ]
  },
  {
   "cell_type": "code",
   "execution_count": 18,
   "metadata": {
    "slideshow": {
     "slide_type": "subslide"
    }
   },
   "outputs": [
    {
     "name": "stdout",
     "output_type": "stream",
     "text": [
      "defaultdict(<class 'list'>, {0: [1, 2], 1: [2], 2: [0, 3], 3: [3]})\n",
      "[2, 0, 3, 1]\n",
      "[3, 2, 1, 0]\n"
     ]
    }
   ],
   "source": [
    "g = Graph()\n",
    "g.addEdge(0,1)\n",
    "g.addEdge(0,2)\n",
    "g.addEdge(1,2)\n",
    "g.addEdge(2,0)\n",
    "g.addEdge(2,3)\n",
    "g.addEdge(3,3)\n",
    "print(g.graph)\n",
    "print(g.BFS(2))#[2, 0, 3, 1]\n",
    "print(g.DFS(2))#[2, 3, 0, 1]\n"
   ]
  },
  {
   "cell_type": "markdown",
   "metadata": {
    "slideshow": {
     "slide_type": "subslide"
    }
   },
   "source": [
    "#### 發現邏輯錯誤\n",
    "####  🔴遇到的錯誤\n",
    "#### <font color=#9E7A7A>宣告順序導致流程錯誤:變成錯誤的走訪。</font>\n",
    "![](https://i.imgur.com/DMt7xix.jpg)\n",
    "[錯誤示意圖原圖請點這裡](https://i.imgur.com/DMt7xix.jpg)\n",
    "#### 修正邏輯"
   ]
  },
  {
   "cell_type": "code",
   "execution_count": 11,
   "metadata": {
    "slideshow": {
     "slide_type": "subslide"
    }
   },
   "outputs": [],
   "source": [
    "from collections import defaultdict \n",
    "class Graph:\n",
    "    def __init__(self): \n",
    "        self.graph = defaultdict(list) #預設為一個空的dict\n",
    "    def addEdge(self,u,v): \n",
    "        self.graph[u].append(v) #如果要新增adjacency list的話，dict會有資料\n",
    "\n",
    "    def BFS(self, s): \n",
    "\n",
    "        visited = []\n",
    "        Q = MyQueue()\n",
    "        #起點\n",
    "        now = s\n",
    "        Q.push(s)\n",
    "        while not Q.empty():\n",
    "            for i in self.graph[now]:\n",
    "                if i not in visited and i not in Q.data:\n",
    "                    Q.push(i)\n",
    "            \n",
    "            add = Q.top()\n",
    "            Q.pop()\n",
    "            if add not in visited: #\n",
    "                visited.append(add)\n",
    "            now = Q.top()\n",
    "        return visited\n",
    "    \n",
    "    \n",
    "    def DFS(self, s):\n",
    "        visited = []\n",
    "        S = MinStack()\n",
    "        now = s\n",
    "        S.push(s)\n",
    "        while not S.empty():  \n",
    "            now = S.top()\n",
    "            add = S.top()\n",
    "            S.pop()\n",
    "            if add not in visited:\n",
    "                visited.append(add)\n",
    "            for i in self.graph[now]:\n",
    "                if i not in visited and i not in S.data :\n",
    "                    S.push(i)\n",
    "        return visited\n",
    "    def DFS1(self, s):\n",
    "        \"\"\"\n",
    "        :type s: int\n",
    "        :rtype: list\n",
    "        \"\"\"\n",
    "        visited = []\n",
    "        S = MinStack()\n",
    "        #起點\n",
    "        now = s\n",
    "        S.push(s)\n",
    "        while not S.empty():\n",
    "            for i in self.graph[now]:\n",
    "                if i not in visited :\n",
    "                    S.push(i)\n",
    "            \n",
    "            add = S.top()\n",
    "            S.pop()\n",
    "            if add not in visited: #\n",
    "                visited.append(add)\n",
    "            now = S.top()\n",
    "        return visited\n",
    "    \n",
    "            \n",
    "        \n",
    "        \n",
    "class MinStack:\n",
    "    def __init__(self):\n",
    "        self.data = []\n",
    "\n",
    "    def push(self, x: int) -> None:\n",
    "        self.data.append(x)\n",
    "\n",
    "    def pop(self) -> None:\n",
    "        self.data=self.data[:-1]\n",
    "\n",
    "    def top(self) -> int:\n",
    "        if len(self.data)>=1:\n",
    "            return self.data[-1]\n",
    "        return None \n",
    "    def empty(self) -> bool:\n",
    "        if len(self.data)==0:\n",
    "            return True\n",
    "        else:\n",
    "            return False\n",
    "    \n",
    "class MyQueue:\n",
    "    def __init__(self):\n",
    "        self.data=[]\n",
    "        self.data1=self.data[::-1]\n",
    "\n",
    "    def push(self, x: int) -> None:\n",
    "        self.data.append(x)\n",
    "\n",
    "    def pop(self) -> int:\n",
    "        \n",
    "        self.data = self.data[1:]\n",
    "        #a =  self.data[0]\n",
    "        #return a\n",
    "        \n",
    "    def top(self):\n",
    "        if len(self.data)>=1:\n",
    "            return self.data[0]\n",
    "        return \n",
    "    def empty(self) -> bool:\n",
    "        if len(self.data)==0:\n",
    "            return True\n",
    "        else:\n",
    "            return False\n",
    "\n"
   ]
  },
  {
   "cell_type": "code",
   "execution_count": 13,
   "metadata": {
    "slideshow": {
     "slide_type": "subslide"
    }
   },
   "outputs": [
    {
     "name": "stdout",
     "output_type": "stream",
     "text": [
      "True\n",
      "True\n",
      "True\n",
      "True\n",
      "True\n",
      "True\n",
      "True\n",
      "True\n"
     ]
    }
   ],
   "source": [
    "g = Graph()\n",
    "g.addEdge(0,1)\n",
    "g.addEdge(0,2)\n",
    "g.addEdge(1,2)\n",
    "g.addEdge(2,0)\n",
    "g.addEdge(2,3)\n",
    "g.addEdge(3,3)\n",
    "#print(g.graph)\n",
    "print(g.BFS(2)==[2, 0, 3, 1])\n",
    "print(g.DFS(2)==[2, 3, 0, 1])\n",
    "\n",
    "g = Graph()\n",
    "g.addEdge(0,1)\n",
    "g.addEdge(0,2)\n",
    "g.addEdge(1,2)\n",
    "g.addEdge(2,0)\n",
    "g.addEdge(2,3)\n",
    "g.addEdge(3,3)\n",
    "print(g.BFS(2)==[2, 0, 3, 1])\n",
    "print(g.DFS(2)==[2, 3, 0, 1])\n",
    "g = Graph()\n",
    "g.addEdge(0,2)\n",
    "g.addEdge(0,1)\n",
    "g.addEdge(1,2)\n",
    "g.addEdge(1,3)\n",
    "g.addEdge(2,3)\n",
    "g.addEdge(3,4)\n",
    "g.addEdge(4,0)\n",
    "g.addEdge(4,5)\n",
    "g.addEdge(5,5)\n",
    "#print(g.graph)\n",
    "print(g.BFS(0)==[0, 2, 1, 3, 4, 5])\n",
    "print(g.DFS(0)==[0,1,3,4,5,2])\n",
    "g = Graph()\n",
    "g.addEdge(1,2)\n",
    "g.addEdge(1,3)\n",
    "g.addEdge(1,4)\n",
    "\n",
    "g.addEdge(2,1)\n",
    "g.addEdge(2,5)\n",
    "\n",
    "g.addEdge(3,1)\n",
    "g.addEdge(3,5)\n",
    "g.addEdge(3,6)\n",
    "g.addEdge(3,7)\n",
    "g.addEdge(3,8)\n",
    "\n",
    "g.addEdge(4,1)\n",
    "g.addEdge(4,8)\n",
    "\n",
    "g.addEdge(5,2)\n",
    "g.addEdge(5,3)\n",
    "g.addEdge(5,6)\n",
    "\n",
    "g.addEdge(6,3)\n",
    "g.addEdge(6,5)\n",
    "g.addEdge(6,9)\n",
    "\n",
    "g.addEdge(7,3)\n",
    "g.addEdge(7,8)\n",
    "g.addEdge(7,9)\n",
    "\n",
    "g.addEdge(8,3)\n",
    "g.addEdge(8,4)\n",
    "g.addEdge(8,7)\n",
    "\n",
    "g.addEdge(9,6)\n",
    "g.addEdge(9,7)\n",
    "\n",
    "#print(g.graph)\n",
    "print(g.BFS(1)==[1, 2, 3, 4, 5, 6, 7, 8, 9])\n",
    "print(g.DFS(1)==[1,4,8,7,9,6,5,3,2])\n",
    "#print(g.DFS(1))"
   ]
  },
  {
   "cell_type": "markdown",
   "metadata": {
    "slideshow": {
     "slide_type": "subslide"
    }
   },
   "source": [
    "#### BFS、DFS邏輯相同:重新修改程式碼。"
   ]
  },
  {
   "cell_type": "code",
   "execution_count": 14,
   "metadata": {
    "slideshow": {
     "slide_type": "subslide"
    }
   },
   "outputs": [],
   "source": [
    "from collections import defaultdict \n",
    "class Graph:\n",
    "    def __init__(self): \n",
    "        self.graph = defaultdict(list) #預設為一個空的dict\n",
    "    def addEdge(self,u,v): \n",
    "        self.graph[u].append(v) #如果要新增adjacency list的話，dict會有資料\n",
    "        \n",
    "    \n",
    "    def __travel__(self, s, store):\n",
    "        if s not in self.graph:\n",
    "            return []\n",
    "\n",
    "        visited = []\n",
    "        now = s\n",
    "        store.push(s)\n",
    "        while not store.empty():\n",
    "            now = store.top()\n",
    "            add = store.top()\n",
    "            store.pop()\n",
    "            if add not in visited: #\n",
    "                visited.append(add)\n",
    "            for i in self.graph[now]:\n",
    "                if i not in visited and i not in store.data:\n",
    "                    store.push(i)\n",
    "        return visited\n",
    "\n",
    "    def BFS(self, s): \n",
    "        return self.__travel__(s,MyQueue())\n",
    "    \n",
    "    def DFS(self, s):\n",
    "        return self.__travel__(s,MinStack())\n",
    "        \n",
    "        \n",
    "class MinStack:\n",
    "    def __init__(self):\n",
    "        self.data = []\n",
    "    def push(self, x: int) -> None:\n",
    "        self.data.append(x)\n",
    "\n",
    "    def pop(self) -> None:\n",
    "        self.data=self.data[:-1]\n",
    "\n",
    "    def top(self) -> int:\n",
    "        if len(self.data)>=1:\n",
    "            return self.data[-1]\n",
    "        return None \n",
    "    def empty(self) -> bool:\n",
    "        if len(self.data)==0:\n",
    "            return True\n",
    "        else:\n",
    "            return False\n",
    "class MyQueue:\n",
    "    def __init__(self):\n",
    "        self.data=[]\n",
    "        self.data1=self.data[::-1]\n",
    "    def push(self, x: int) -> None:\n",
    "        self.data.append(x)\n",
    "    def pop(self) -> int: \n",
    "        self.data = self.data[1:]\n",
    "        #a =  self.data[0]\n",
    "        #return a\n",
    "    def top(self):\n",
    "        if len(self.data)>=1:\n",
    "            return self.data[0]\n",
    "        return \n",
    "    def empty(self) -> bool:\n",
    "        if len(self.data)==0:\n",
    "            return True\n",
    "        else:\n",
    "            return False"
   ]
  },
  {
   "cell_type": "code",
   "execution_count": 15,
   "metadata": {
    "slideshow": {
     "slide_type": "subslide"
    }
   },
   "outputs": [
    {
     "name": "stdout",
     "output_type": "stream",
     "text": [
      "True\n",
      "True\n",
      "True\n",
      "True\n",
      "True\n",
      "True\n",
      "True\n",
      "True\n"
     ]
    }
   ],
   "source": [
    "g = Graph()\n",
    "g.addEdge(0,1)\n",
    "g.addEdge(0,2)\n",
    "g.addEdge(1,2)\n",
    "g.addEdge(2,0)\n",
    "g.addEdge(2,3)\n",
    "g.addEdge(3,3)\n",
    "#print(g.graph)\n",
    "print(g.BFS(2)==[2, 0, 3, 1])\n",
    "print(g.DFS(2)==[2, 3, 0, 1])\n",
    "\n",
    "g = Graph()\n",
    "g.addEdge(0,1)\n",
    "g.addEdge(0,2)\n",
    "g.addEdge(1,2)\n",
    "g.addEdge(2,0)\n",
    "g.addEdge(2,3)\n",
    "g.addEdge(3,3)\n",
    "print(g.BFS(2)==[2, 0, 3, 1])\n",
    "print(g.DFS(2)==[2, 3, 0, 1])\n",
    "g = Graph()\n",
    "g.addEdge(0,2)\n",
    "g.addEdge(0,1)\n",
    "g.addEdge(1,2)\n",
    "g.addEdge(1,3)\n",
    "g.addEdge(2,3)\n",
    "g.addEdge(3,4)\n",
    "g.addEdge(4,0)\n",
    "g.addEdge(4,5)\n",
    "g.addEdge(5,5)\n",
    "#print(g.graph)\n",
    "print(g.BFS(0)==[0, 2, 1, 3, 4, 5])\n",
    "print(g.DFS(0)==[0,1,3,4,5,2])\n",
    "g = Graph()\n",
    "g.addEdge(1,2)\n",
    "g.addEdge(1,3)\n",
    "g.addEdge(1,4)\n",
    "\n",
    "g.addEdge(2,1)\n",
    "g.addEdge(2,5)\n",
    "\n",
    "g.addEdge(3,1)\n",
    "g.addEdge(3,5)\n",
    "g.addEdge(3,6)\n",
    "g.addEdge(3,7)\n",
    "g.addEdge(3,8)\n",
    "\n",
    "g.addEdge(4,1)\n",
    "g.addEdge(4,8)\n",
    "\n",
    "g.addEdge(5,2)\n",
    "g.addEdge(5,3)\n",
    "g.addEdge(5,6)\n",
    "\n",
    "g.addEdge(6,3)\n",
    "g.addEdge(6,5)\n",
    "g.addEdge(6,9)\n",
    "\n",
    "g.addEdge(7,3)\n",
    "g.addEdge(7,8)\n",
    "g.addEdge(7,9)\n",
    "\n",
    "g.addEdge(8,3)\n",
    "g.addEdge(8,4)\n",
    "g.addEdge(8,7)\n",
    "\n",
    "g.addEdge(9,6)\n",
    "g.addEdge(9,7)\n",
    "\n",
    "#print(g.graph)\n",
    "print(g.BFS(1)==[1, 2, 3, 4, 5, 6, 7, 8, 9])\n",
    "print(g.DFS(1)==[1,4,8,7,9,6,5,3,2])\n",
    "#print(g.DFS(1))"
   ]
  },
  {
   "cell_type": "markdown",
   "metadata": {
    "slideshow": {
     "slide_type": "subslide"
    }
   },
   "source": [
    "### 🔴最終程式碼"
   ]
  },
  {
   "cell_type": "code",
   "execution_count": 16,
   "metadata": {
    "slideshow": {
     "slide_type": "subslide"
    }
   },
   "outputs": [],
   "source": [
    "from collections import defaultdict \n",
    "class Graph:\n",
    "    def __init__(self): \n",
    "        self.graph = defaultdict(list) #預設為一個空的dict\n",
    "    def addEdge(self,u,v): \n",
    "        self.graph[u].append(v) #如果要新增adjacency list的話，dict會有資料\n",
    "        \n",
    "    \n",
    "    def __travel__(self, s, store):\n",
    "        if s not in self.graph:\n",
    "            return []\n",
    "\n",
    "        visited = []\n",
    "        now = s\n",
    "        store.push(s)\n",
    "        while not store.empty():\n",
    "            now = store.top()\n",
    "            add = store.top()\n",
    "            store.pop()\n",
    "            if add not in visited: #\n",
    "                visited.append(add)\n",
    "            for i in self.graph[now]:\n",
    "                if i not in visited and i not in store.data:\n",
    "                    store.push(i)\n",
    "        return visited\n",
    "\n",
    "    def BFS(self, s): \n",
    "        return self.__travel__(s,MyQueue())\n",
    "    \n",
    "    def DFS(self, s):\n",
    "        return self.__travel__(s,MinStack())\n",
    "        \n",
    "        \n",
    "class MinStack:\n",
    "    def __init__(self):\n",
    "        self.data = []\n",
    "    def push(self, x: int) -> None:\n",
    "        self.data.append(x)\n",
    "\n",
    "    def pop(self) -> None:\n",
    "        self.data=self.data[:-1]\n",
    "\n",
    "    def top(self) -> int:\n",
    "        if len(self.data)>=1:\n",
    "            return self.data[-1]\n",
    "        return None \n",
    "    def empty(self) -> bool:\n",
    "        if len(self.data)==0:\n",
    "            return True\n",
    "        else:\n",
    "            return False\n",
    "class MyQueue:\n",
    "    def __init__(self):\n",
    "        self.data=[]\n",
    "        self.data1=self.data[::-1]\n",
    "    def push(self, x: int) -> None:\n",
    "        self.data.append(x)\n",
    "    def pop(self) -> int: \n",
    "        self.data = self.data[1:]\n",
    "        #a =  self.data[0]\n",
    "        #return a\n",
    "    def top(self):\n",
    "        if len(self.data)>=1:\n",
    "            return self.data[0]\n",
    "        return \n",
    "    def empty(self) -> bool:\n",
    "        if len(self.data)==0:\n",
    "            return True\n",
    "        else:\n",
    "            return False"
   ]
  },
  {
   "cell_type": "markdown",
   "metadata": {
    "slideshow": {
     "slide_type": "subslide"
    }
   },
   "source": [
    "# 🔸參考資料\n",
    "* PowerPoints in class:\n",
    "    * [PowerPoints in class](https://docs.google.com/presentation/d/e/2PACX-1vTma_vOZyE70O23KWw4I4Y78aAaT5fJSTq7Mae912kCwka_u5ZMWPoo14D86-x-57kZPbb6hAGktSW4/pub?start=false&loop=false&delayms=3000&slide=id.g7aa022d8bc_2_5)\n",
    "\n",
    "* My Code and Notes:\n",
    "    * [My Queue](https://github.com/evaneversaydie/My_Study_Note/blob/master/leetcode/232%20Implement%20Queue%20using%20Stacks.md)\n",
    "    * [My Stack](https://github.com/evaneversaydie/My_Study_Note/blob/master/leetcode/155.%20Min%20Stack.md)\n",
    "    \n",
    "* How to use defaultdict? \n",
    "    * [collections雜談之一 ——— dict的key值存不存在乾我屁事](https://ithelp.ithome.com.tw/articles/10193094)\n",
    "    * [python中defaultdict和dict的區別與使用](https://www.itread01.com/content/1544414054.html)\n",
    "* BFS & DFS\n",
    "    * [Graph Traversal Algorithm](https://www.javatpoint.com/breadth-first-search-algorithm)\n",
    "    * [My Github:HW3](https://github.com/evaneversaydie/My_Study_Note/blob/master/HW3/My_Study.ipynb)\n",
    "    * 大話資料結構\n",
    "    * [Graph](http://www.csie.ntnu.edu.tw/~u91029/Graph.html)\n",
    "    * [BFS和DFS算法原理（通俗易懂版](https://blog.csdn.net/u011437229/article/details/53188837)\n",
    "    * [公開簡報](http://billor.chsh.chc.edu.tw/train/BFS&DFS.pptx)\n",
    "    * [圖的遍歷：DFS和BFS演算法](https://www.itread01.com/content/1549388200.html)\n",
    "    * [圖的廣度優先搜索遍歷的時間複雜度是多少？](https://www.quora.com/What-is-the-time-complexity-of-Breadth-First-Search-Traversal-of-a-graph)\n",
    "* My picture\n",
    "    * [flow chart](https://i.imgur.com/DMt7xix.jpg)\n",
    "    * [bug :flow chart](https://i.imgur.com/L7SOBsx.jpg)\n",
    "    * [BFS VS DFS](https://i.imgur.com/yNtOtOp.png)"
   ]
  }
 ],
 "metadata": {
  "kernelspec": {
   "display_name": "Python 3",
   "language": "python",
   "name": "python3"
  },
  "language_info": {
   "codemirror_mode": {
    "name": "ipython",
    "version": 3
   },
   "file_extension": ".py",
   "mimetype": "text/x-python",
   "name": "python",
   "nbconvert_exporter": "python",
   "pygments_lexer": "ipython3",
   "version": "3.7.3"
  }
 },
 "nbformat": 4,
 "nbformat_minor": 2
}
