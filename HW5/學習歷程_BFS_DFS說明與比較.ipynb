{
 "cells": [
  {
   "cell_type": "markdown",
   "metadata": {},
   "source": [
    "# HW5 學習歷程\n",
    "***巨資三 | 林依樺***\n",
    "<br>"
   ]
  },
  {
   "cell_type": "markdown",
   "metadata": {},
   "source": [
    "<font color=#9E7A7A>最近發現之前寫的筆記發現比較難複習</font>"
   ]
  },
  {
   "cell_type": "markdown",
   "metadata": {},
   "source": [
    "# 目錄\n",
    "- [BFS說明](#🔸)\n",
    "- [DFS說明](#🔸)\n",
    "- [BFS、DFS流程圖、程式碼學習歷程、原理比較]\n",
    "- [學習歷程](#🔸學習歷程)\n",
    "    - [程式碼撰寫(邏輯)](#🔸程式碼撰寫)\n",
    "    - [遇到的錯誤](#🔸遇到的錯誤)\n",
    "    - [最終程式碼](#🔸最終程式碼)\n",
    "- [參考資料](#🔸參考資料)"
   ]
  },
  {
   "cell_type": "markdown",
   "metadata": {},
   "source": []
  },
  {
   "cell_type": "markdown",
   "metadata": {},
   "source": [
    "# 🔸BFS說明、DFS說明\n",
    "# 🔸BFS、DFS流程圖、程式碼學習歷程、原理比較\n",
    "# 🔸學習歷程\n",
    "## 🔸程式碼撰寫(邏輯)\n",
    "### 🔸遇到的錯誤\n",
    "### 🔸最終程式碼\n",
    "# [參考資料](#🔸參考資料)"
   ]
  }
 ],
 "metadata": {
  "kernelspec": {
   "display_name": "Python 3",
   "language": "python",
   "name": "python3"
  },
  "language_info": {
   "codemirror_mode": {
    "name": "ipython",
    "version": 3
   },
   "file_extension": ".py",
   "mimetype": "text/x-python",
   "name": "python",
   "nbconvert_exporter": "python",
   "pygments_lexer": "ipython3",
   "version": "3.7.3"
  }
 },
 "nbformat": 4,
 "nbformat_minor": 2
}
