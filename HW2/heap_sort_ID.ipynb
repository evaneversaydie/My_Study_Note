{
 "cells": [
  {
   "cell_type": "markdown",
   "metadata": {},
   "source": [
    "# 參考資料:\n",
    "\n",
    "* [關於Python的類別(Class)...基本篇](https://medium.com/@weilihmen/%E9%97%9C%E6%96%BCpython%E7%9A%84%E9%A1%9E%E5%88%A5-class-%E5%9F%BA%E6%9C%AC%E7%AF%87-5468812c58f2)\n",
    "\n",
    "\n",
    "\n",
    "## heap sort概念複習與學習資源\n",
    "\n",
    "* Youtube: [Heap Sort | GeeksforGeeks](https://www.youtube.com/watch?v=MtQL_ll5KhQ)\n",
    "* Youtube: [Heaps and Heap Sort](https://www.youtube.com/watch?v=H5kAcmGOn4Q)\n",
    "* [Comparison Sort: Heap Sort(堆積排序法)](http://alrightchiu.github.io/SecondRound/comparison-sort-heap-sortdui-ji-pai-xu-fa.html)\n",
    "* [堆積排序 Heapsort](https://rust-algo.club/sorting/heapsort/)\n",
    "* \n",
    "* \n"
   ]
  },
  {
   "cell_type": "markdown",
   "metadata": {},
   "source": [
    "參考資料一:複習class與def的概念\n",
    "-----\n",
    "\n",
    "和class比較不熟，先查了參考資料1，複習class、def。\n",
    "class可以想像成物種，def是可以用來行、定義每個物種的屬性。像是貓咪或是狗狗。而def一定要放入參數，這樣我們可以使用這個屬性。反過來來說，class只是這些我們寫下來的屬性的集合。\n",
    "\n",
    "而python的自由度很高，我們不一定要在class把所有屬性打出來，可以在之後的主程式再加上去。\n",
    "\n",
    "#### 小結論\n",
    "因此我們也可以替換一下，比如說class是貓咪，然後我們可以說一隻貓咪有顏色、尾巴形狀長短、名字、性別、外號的屬性。\n",
    "現在來建立一個可以來貓咪的class，並創建youtube黃阿瑪的後宮生活裡其中幾隻貓咪。"
   ]
  },
  {
   "cell_type": "code",
   "execution_count": 21,
   "metadata": {},
   "outputs": [
    {
     "name": "stdout",
     "output_type": "stream",
     "text": [
      "麒麟尾\n",
      "口炎\n"
     ]
    }
   ],
   "source": [
    "class Cat(object):\n",
    "    def __init__(self, color,tail,name,gender,nickname):   #self是指class不用改\n",
    "        self.color = color\n",
    "        self.tail = tail\n",
    "        self.name = name\n",
    "        self.gender = gender\n",
    "        self.nickname = nickname\n",
    "\n",
    "#來看貓咪  \n",
    "黃阿瑪 = Cat('橘白色','長尾巴','黃阿瑪','雄','皇上')\n",
    "招弟 = Cat('灰棕色','長尾巴','招弟','雌','皇后')\n",
    "三腳 = Cat('橘白色','長尾巴','三腳','雌','腳妹')\n",
    "嚕嚕 = Cat('橘色','麒麟尾','嚕嚕','雄','王爺')\n",
    "袖子 = Cat('黑白','長尾巴','柚子','雄','')\n",
    "#接下來就可以看看這些貓咪的屬性了，像是看嚕嚕的尾巴是什麼\n",
    "print(嚕嚕.tail)\n",
    "\n",
    "#來新增三角的健康狀況:\n",
    "三腳.health=\"口炎\"\n",
    "print(三腳.health)\n",
    "#但這個方式其他沒有新增health屬性的貓咪就印不出來了"
   ]
  },
  {
   "cell_type": "markdown",
   "metadata": {},
   "source": [
    "# 關於Heap sort:\n",
    "整理上課與參考資料如下:\n",
    "\n",
    "* 是一種`Complete Tree`，除了最下面的那一層以外，一定要填滿滿的。會先填左邊的子節點再填右邊的。所以只有最下層的右邊可以有空缺。\n",
    "* 可以用array來顯示tree。\n",
    "* 有`Max Heap`和`Min Heap`兩種:\n",
    " * Max heap: root一定比葉子大，子樹也是一樣類推下去(父節點>小孩)。 \n",
    " * Min heap: root一定比葉子小，子樹也是一樣類推下去(父節點<小孩)。 \n",
    "* 試法將冊資形成Max Heap 或 Min Heap。因為只要一旦形成符合Max heap 或 Min heap 的結構。我們就可以移除root，並將最下層最右邊的節點移至root，並再次排成Heap Sort並繼續取出root，如此即可完成排序。其中這種將節點移置root的並再次將結構轉為Heapsort的過程稱為`sift-down`。\n",
    "\n",
    "\n",
    "\n",
    "# 流程圖:\n"
   ]
  },
  {
   "cell_type": "markdown",
   "metadata": {},
   "source": [
    "# 設計Heap Sort的想法:\n",
    "\n",
    "例子:test = [3,7,24,0,-1,99,7.1,80,30]\n",
    "\n",
    "1. 在HeapSort 裡面，需要的步驟:\n",
    " * 排成max heap或min heap。\n",
    " * 把ROOT和heap裡最後一個元素對調。(root這個值從這棵樹裡面消失了，繼續對其他沒有刪掉的元素做Heap Sort)\n",
    "\n",
    "2. 用list的index 來對照各元素在tree的位置。\n",
    "        這邊想了比較久，用tree可以畫出來排序過程但在想怎麼用程式寫的時候卡住了。尤其是怎麼知道誰是誰誰的父節點、知道一個節點之後怎麼知道他的小孩是哪兩個人。\n",
    "        \n",
    "    \n",
    "   \n",
    "   * 因為python 從索引從0開始。\n",
    "   * 對任一索引值i而言:\n",
    "       * 找到父節點: \n",
    "           *奇數:i//2\n",
    "           *偶數:i//2-1\n",
    "           ->同一個父節點的節點索引值(奇數、偶數)只差1，可以化簡為:(i-1)//2\n",
    "       * 找到左邊的小孩:2*i+1\n",
    "       * 找到右邊的小孩:2*i+2 \n",
    "       \n",
    "       對每一個節點而言，左邊小孩是奇數，右邊小孩都是偶數。\n"
   ]
  },
  {
   "cell_type": "markdown",
   "metadata": {},
   "source": []
  },
  {
   "cell_type": "code",
   "execution_count": 154,
   "metadata": {},
   "outputs": [],
   "source": [
    "##### heap_sort_ID.py\n",
    "class Solution(object):\n",
    "    def heap_sort(self, nums):\n",
    "        #alreadysort=[]\n",
    "        #nums1 = Solution.maxheap(nums)\n",
    "        #alreadysort.append(nums1[0])\n",
    "        #nums1.pop\n",
    "        return\n",
    "        \n",
    "        \n",
    "        \n",
    "    def swap( nums):\n",
    "        a = len(nums)-1\n",
    "        b = Solution.father(len(nums))    \n",
    "        \n",
    "        while nums[a]>nums[b]:\n",
    "            print(nums[a],nums[b])\n",
    "        \n",
    "            nums[a],nums[b]=nums[b],nums[a]\n",
    "            \n",
    "            a = Solution.father(a)\n",
    "            b = Solution.father(b)\n",
    "            \n",
    "            print('step',nums) \n",
    "        \n",
    "        return 'end',nums\n",
    "        #小孩比爸爸大就交換\n",
    "     \n",
    "            \n",
    "  \n",
    " #   def swiftdown(self,muns):\n",
    " #       return\n",
    "\n",
    "\n",
    "# 找父節點與小孩:\n",
    "    def father(i):\n",
    "        if i==0:\n",
    "            return 0\n",
    "        elif i<0:\n",
    "            return None\n",
    "        else:\n",
    "            return (i-1)//2\n",
    "    \n",
    "    def r(i):\n",
    "        if 2*i+1>len(nums):\n",
    "            return None\n",
    "        else:\n",
    "            return 2*i+1\n",
    "    \n",
    "    def l(i):\n",
    "         if 2*i+2>len(nums):\n",
    "            return None\n",
    "         else:\n",
    "            return 2*(i+1)\n"
   ]
  },
  {
   "cell_type": "code",
   "execution_count": 155,
   "metadata": {
    "scrolled": true
   },
   "outputs": [
    {
     "name": "stdout",
     "output_type": "stream",
     "text": [
      "8 6\n",
      "step [4, 5, 8, 7, 6]\n",
      "5 4\n",
      "step [5, 4, 8, 7, 6]\n"
     ]
    },
    {
     "data": {
      "text/plain": [
       "('end', [5, 4, 8, 7, 6])"
      ]
     },
     "execution_count": 155,
     "metadata": {},
     "output_type": "execute_result"
    }
   ],
   "source": [
    "b=[4,5,6,7,8]\n",
    "Solution.swap(b)\n",
    "\n",
    "#step:[4,8,6,7,5]\n",
    "#答案:[8,4,6,7,5]"
   ]
  },
  {
   "cell_type": "markdown",
   "metadata": {},
   "source": [
    "想先試試先把最尾巴的數字放到對位置。但是結果和在紙上畫出來不同。發現打作業下來常常設錯參數，b應該要len(nums)-1"
   ]
  },
  {
   "cell_type": "code",
   "execution_count": 162,
   "metadata": {},
   "outputs": [],
   "source": [
    "##### heap_sort_ID.py\n",
    "class Solution(object):\n",
    "\n",
    "    def swap( nums):\n",
    "        a = len(nums)-1\n",
    "        b = Solution.father(len(nums)-1)    \n",
    "        \n",
    "        while nums[a]>nums[b]:\n",
    "            print(nums[a],nums[b])\n",
    "        \n",
    "            nums[a],nums[b]=nums[b],nums[a]\n",
    "            \n",
    "            a = Solution.father(a)\n",
    "            b = Solution.father(b)\n",
    "            \n",
    "            print('step',nums) \n",
    "        \n",
    "        return 'end',nums\n",
    "        #小孩比爸爸大就交換\n",
    "     \n",
    "            \n",
    "\n",
    "# 找父節點與小孩:\n",
    "    def father(i):\n",
    "        if i==0:\n",
    "            return 0\n",
    "        elif i<0:\n",
    "            return None\n",
    "        else:\n",
    "            return (i-1)//2\n",
    "    \n",
    "    def r(i):\n",
    "        if 2*i+1>len(nums):\n",
    "            return None\n",
    "        else:\n",
    "            return 2*i+1\n",
    "    \n",
    "    def l(i):\n",
    "         if 2*i+2>len(nums):\n",
    "            return None\n",
    "         else:\n",
    "            return 2*(i+1)\n"
   ]
  },
  {
   "cell_type": "code",
   "execution_count": 163,
   "metadata": {},
   "outputs": [
    {
     "name": "stdout",
     "output_type": "stream",
     "text": [
      "8 5\n",
      "step [4, 8, 6, 7, 5]\n",
      "8 4\n",
      "step [8, 4, 6, 7, 5]\n"
     ]
    },
    {
     "data": {
      "text/plain": [
       "('end', [8, 4, 6, 7, 5])"
      ]
     },
     "execution_count": 163,
     "metadata": {},
     "output_type": "execute_result"
    }
   ],
   "source": [
    "b=[4,5,6,7,8]\n",
    "Solution.swap(b)\n",
    "#step:[4,8,6,7,5]\n",
    "#答案:[8,4,6,7,5]"
   ]
  },
  {
   "cell_type": "markdown",
   "metadata": {},
   "source": [
    "完成第一個檢查。"
   ]
  },
  {
   "cell_type": "code",
   "execution_count": null,
   "metadata": {},
   "outputs": [],
   "source": []
  }
 ],
 "metadata": {
  "kernelspec": {
   "display_name": "Python 3",
   "language": "python",
   "name": "python3"
  },
  "language_info": {
   "codemirror_mode": {
    "name": "ipython",
    "version": 3
   },
   "file_extension": ".py",
   "mimetype": "text/x-python",
   "name": "python",
   "nbconvert_exporter": "python",
   "pygments_lexer": "ipython3",
   "version": "3.6.5"
  }
 },
 "nbformat": 4,
 "nbformat_minor": 2
}
