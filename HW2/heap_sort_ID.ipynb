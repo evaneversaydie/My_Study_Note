{
 "cells": [
  {
   "cell_type": "markdown",
   "metadata": {},
   "source": [
    "# 參考資料:\n",
    "\n",
    "* [關於Python的類別(Class)...基本篇](https://medium.com/@weilihmen/%E9%97%9C%E6%96%BCpython%E7%9A%84%E9%A1%9E%E5%88%A5-class-%E5%9F%BA%E6%9C%AC%E7%AF%87-5468812c58f2)\n",
    "\n",
    "\n",
    "\n",
    "## heap sort概念複習與學習資源\n",
    "\n",
    "* Youtube: [Heap Sort | GeeksforGeeks](https://www.youtube.com/watch?v=MtQL_ll5KhQ)\n",
    "* Youtube: [Heaps and Heap Sort](https://www.youtube.com/watch?v=H5kAcmGOn4Q)\n",
    "* [Comparison Sort: Heap Sort(堆積排序法)](http://alrightchiu.github.io/SecondRound/comparison-sort-heap-sortdui-ji-pai-xu-fa.html)\n",
    "* [堆積排序 Heapsort](https://rust-algo.club/sorting/heapsort/)\n",
    "* [Heap Sort 的原理及Python實現](https://www.twblogs.net/a/5c7100f9bd9eee68dc3f1be8)\n",
    "* [維基百科](https://zh.wikipedia.org/wiki/%E5%A0%86%E6%8E%92%E5%BA%8F#Python)"
   ]
  },
  {
   "cell_type": "markdown",
   "metadata": {},
   "source": [
    "參考資料一:複習class與def的概念\n",
    "-----\n",
    "\n",
    "和class比較不熟，先查了參考資料1，複習class、def。\n",
    "class可以想像成物種，def是可以用來行、定義每個物種的屬性。像是貓咪或是狗狗。而def一定要放入參數，這樣我們可以使用這個屬性。反過來來說，class只是這些我們寫下來的屬性的集合。\n",
    "\n",
    "而python的自由度很高，我們不一定要在class把所有屬性打出來，可以在之後的主程式再加上去。\n",
    "\n",
    "#### 小結論\n",
    "因此我們也可以替換一下，比如說class是貓咪，然後我們可以說一隻貓咪有顏色、尾巴形狀長短、名字、性別、外號的屬性。\n",
    "現在來建立一個可以來貓咪的class，並創建youtube黃阿瑪的後宮生活裡其中幾隻貓咪。"
   ]
  },
  {
   "cell_type": "code",
   "execution_count": 167,
   "metadata": {},
   "outputs": [
    {
     "name": "stdout",
     "output_type": "stream",
     "text": [
      "麒麟尾\n",
      "口炎\n"
     ]
    }
   ],
   "source": [
    "class Cat(object):\n",
    "    def __init__(self, color,tail,name,gender,nickname):   #self是指class不用改\n",
    "        self.color = color\n",
    "        self.tail = tail\n",
    "        self.name = name\n",
    "        self.gender = gender\n",
    "        self.nickname = nickname\n",
    "\n",
    "#來看貓咪  \n",
    "黃阿瑪 = Cat('橘白色','長尾巴','黃阿瑪','雄','皇上')\n",
    "招弟 = Cat('灰棕色','長尾巴','招弟','雌','皇后')\n",
    "三腳 = Cat('橘白色','長尾巴','三腳','雌','腳妹')\n",
    "嚕嚕 = Cat('橘色','麒麟尾','嚕嚕','雄','王爺')\n",
    "袖子 = Cat('黑白','長尾巴','柚子','雄','')\n",
    "#接下來就可以看看這些貓咪的屬性了，像是看嚕嚕的尾巴是什麼\n",
    "print(嚕嚕.tail)\n",
    "\n",
    "#來新增三角的健康狀況:\n",
    "三腳.health=\"口炎\"\n",
    "print(三腳.health)\n",
    "#但這個方式其他沒有新增health屬性的貓咪就印不出來了"
   ]
  },
  {
   "cell_type": "markdown",
   "metadata": {},
   "source": [
    "# 關於Heap sort:\n",
    "整理上課與參考資料如下:\n",
    "\n",
    "* 是一種`Complete Tree`，除了最下面的那一層以外，一定要填滿滿的。會先填左邊的子節點再填右邊的。所以只有最下層的右邊可以有空缺。\n",
    "* 可以用array來顯示tree。\n",
    "* 有`Max Heap`和`Min Heap`兩種:\n",
    " * Max heap: root一定比葉子大，子樹也是一樣類推下去(父節點>小孩)。 \n",
    " * Min heap: root一定比葉子小，子樹也是一樣類推下去(父節點<小孩)。 \n",
    "* 試法將冊資形成Max Heap 或 Min Heap。因為只要一旦形成符合Max heap 或 Min heap 的結構。我們就可以移除root，並將最下層最右邊的節點移至root，並再次排成Heap Sort並繼續取出root，如此即可完成排序。其中這種將節點移置root的並再次將結構轉為Heapsort的過程稱為`sift-down`。\n"
   ]
  },
  {
   "cell_type": "markdown",
   "metadata": {},
   "source": [
    "# 設計Heap Sort的想法:\n",
    "\n",
    "例子:test = [3,7,24,0,-1,99,7.1,80,30]\n",
    "\n",
    "1. 在HeapSort 裡面，需要的步驟:\n",
    " * 排成max heap或min heap。\n",
    " * 把ROOT和heap裡最後一個元素對調。(root這個值從這棵樹裡面消失了，繼續對其他沒有刪掉的元素做Heap Sort)\n",
    "\n",
    "2. 用list的index 來對照各元素在tree的位置。\n",
    "        這邊想了比較久，用tree可以畫出來排序過程但在想怎麼用程式寫的時候卡住了。尤其是怎麼知道誰是誰誰的父節點、知道一個節點之後怎麼知道他的小孩是哪兩個人。\n",
    "        \n",
    "    \n",
    "   \n",
    "   * 因為python 從索引從0開始。\n",
    "   * 對任一索引值i而言:\n",
    "       * 找到父節點: \n",
    "           *奇數:i//2\n",
    "           *偶數:i//2-1\n",
    "           ->同一個父節點的節點索引值(奇數、偶數)只差1，可以化簡為:(i-1)//2\n",
    "       * 找到左邊的小孩:2*i+1\n",
    "       * 找到右邊的小孩:2*i+2 \n",
    "       \n",
    "       對每一個節點而言，左邊小孩是奇數，右邊小孩都是偶數。\n",
    "       <br>先這樣子找找找就把胎們變成max heap。\n"
   ]
  },
  {
   "cell_type": "code",
   "execution_count": 164,
   "metadata": {},
   "outputs": [],
   "source": [
    "##### heap_sort_ID.py\n",
    "class Solution(object):\n",
    "    def heap_sort(self, nums):\n",
    "        #alreadysort=[]\n",
    "        #nums1 = Solution.maxheap(nums)\n",
    "        #alreadysort.append(nums1[0])\n",
    "        #nums1.pop\n",
    "        return\n",
    "    \n",
    "      \n",
    "        \n",
    "    def swap( nums):\n",
    "        a = len(nums)-1\n",
    "        b = Solution.father(len(nums))    \n",
    "        \n",
    "        while nums[a]>nums[b]:\n",
    "            print(nums[a],nums[b])\n",
    "        \n",
    "            nums[a],nums[b]=nums[b],nums[a]\n",
    "            \n",
    "            a = Solution.father(a)\n",
    "            b = Solution.father(b)\n",
    "            \n",
    "            print('step',nums) \n",
    "        \n",
    "        return 'end',nums\n",
    "        #小孩比爸爸大就交換\n",
    "     \n",
    "            \n",
    "  \n",
    " #   def swiftdown(self,muns):\n",
    " #       return\n",
    "\n",
    "\n",
    "# 找父節點與小孩:\n",
    "    def father(i):\n",
    "        if i==0:\n",
    "            return 0\n",
    "        elif i<0:\n",
    "            return None\n",
    "        else:\n",
    "            return (i-1)//2\n",
    "    \n",
    "    def r(i):\n",
    "        if 2*i+1>len(nums):\n",
    "            return None\n",
    "        else:\n",
    "            return 2*i+1\n",
    "    \n",
    "    def l(i):\n",
    "         if 2*i+2>len(nums):\n",
    "            return None\n",
    "         else:\n",
    "            return 2*(i+1)\n"
   ]
  },
  {
   "cell_type": "code",
   "execution_count": 155,
   "metadata": {
    "scrolled": true
   },
   "outputs": [
    {
     "name": "stdout",
     "output_type": "stream",
     "text": [
      "8 6\n",
      "step [4, 5, 8, 7, 6]\n",
      "5 4\n",
      "step [5, 4, 8, 7, 6]\n"
     ]
    },
    {
     "data": {
      "text/plain": [
       "('end', [5, 4, 8, 7, 6])"
      ]
     },
     "execution_count": 155,
     "metadata": {},
     "output_type": "execute_result"
    }
   ],
   "source": [
    "b=[4,5,6,7,8]\n",
    "Solution.swap(b)\n",
    "\n",
    "#step:[4,8,6,7,5]\n",
    "#答案:[8,4,6,7,5]"
   ]
  },
  {
   "cell_type": "markdown",
   "metadata": {},
   "source": [
    "想先試試先把最尾巴的數字放到對位置。但是結果和在紙上畫出來不同。發現打作業下來常常設錯參數，b應該要len(nums)-1，不然的話就找錯爸爸了。"
   ]
  },
  {
   "cell_type": "code",
   "execution_count": 165,
   "metadata": {},
   "outputs": [],
   "source": [
    "##### heap_sort_ID.py\n",
    "class Solution(object):\n",
    "\n",
    "    def swap( nums):\n",
    "        a = len(nums)-1\n",
    "        b = Solution.father(len(nums)-1)    \n",
    "        \n",
    "        while nums[a]>nums[b]:\n",
    "            print(nums[a],nums[b])\n",
    "        \n",
    "            nums[a],nums[b]=nums[b],nums[a]\n",
    "            \n",
    "            a = Solution.father(a)\n",
    "            b = Solution.father(b)\n",
    "            \n",
    "            print('step',nums) \n",
    "        \n",
    "        return 'end',nums\n",
    "        #小孩比爸爸大就交換\n",
    "     \n",
    "            \n",
    "\n",
    "# 找父節點與小孩:\n",
    "    def father(i):\n",
    "        if i==0:\n",
    "            return 0\n",
    "        elif i<0:\n",
    "            return None\n",
    "        else:\n",
    "            return (i-1)//2\n",
    "    \n",
    "    def r(i):\n",
    "        if 2*i+1>len(nums):\n",
    "            return None\n",
    "        else:\n",
    "            return 2*i+1\n",
    "    \n",
    "    def l(i):\n",
    "         if 2*i+2>len(nums):\n",
    "            return None\n",
    "         else:\n",
    "            return 2*(i+1)\n"
   ]
  },
  {
   "cell_type": "code",
   "execution_count": 166,
   "metadata": {},
   "outputs": [
    {
     "name": "stdout",
     "output_type": "stream",
     "text": [
      "8 5\n",
      "step [4, 8, 6, 7, 5]\n",
      "8 4\n",
      "step [8, 4, 6, 7, 5]\n"
     ]
    },
    {
     "data": {
      "text/plain": [
       "('end', [8, 4, 6, 7, 5])"
      ]
     },
     "execution_count": 166,
     "metadata": {},
     "output_type": "execute_result"
    }
   ],
   "source": [
    "b=[4,5,6,7,8]\n",
    "Solution.swap(b)\n",
    "#step:[4,8,6,7,5]\n",
    "#答案:[8,4,6,7,5]"
   ]
  },
  {
   "cell_type": "markdown",
   "metadata": {},
   "source": [
    "完成第一個檢查。可是卡住了，要怎麼地回還有說要怎麼確定整個array是maxheapQAQ。\n",
    "先去寫Merge Sort好了QAQ"
   ]
  },
  {
   "cell_type": "markdown",
   "metadata": {},
   "source": [
    "把之前寫得先丟掉，先來確定一下這次要用幾個function好了。\n",
    "1. heap_sort(self, nums):作業呼叫格式。\n",
    "    <br>\n",
    "2. max_heap(nums):把nums變成max heap結構。\n",
    "    <br>可能需要之前打的找爸爸和找小孩的function。\n",
    "3. swap(nums):把root和沒有排好的最尾巴的元素對調。\n",
    "    <br>像是這樣子(|後面是排好的root)\n",
    "    <br>\n",
    "    <br>[O,O,O,O,O,O,O|]\n",
    "    <br>[O,O,O,O,O,O|,O]\n",
    "    <br>[O,O,O,O,O|,O,O]\n",
    "    <br>_ _ _ _ _ _ _^插入到這裡\n",
    "    <br>\n",
    "    <br>想要用之前一直想不懂的in-place版本QAQ，因為root的index是[0]所以可能需要用到1個變數(暫訂place):\n",
    "        <br>用來記得現在到底要交換的元素的位置(|前面的數字)\n",
    "\n",
    "<br>有點像這樣子:2->3->2->3......直到place==1->排好了\n",
    "<br>但是要怎麼變成max heap \\QAQ/"
   ]
  },
  {
   "cell_type": "code",
   "execution_count": 254,
   "metadata": {},
   "outputs": [],
   "source": [
    "#不管了先放入一個max heap然後來排序的吧!\n",
    "testdata = [19,15,7,10,9,4,3]"
   ]
  },
  {
   "cell_type": "code",
   "execution_count": 255,
   "metadata": {},
   "outputs": [],
   "source": [
    "class Solution(object):\n",
    "    def heap_sort(self, nums):\n",
    "        return\n",
    "    def max_heap(nums):\n",
    "        return nums\n",
    "    \n",
    "    \n",
    "    \n",
    "    \n",
    "    \n",
    "    \n",
    "    def swap(nums):\n",
    "        place=len(nums)\n",
    "        while place>0:\n",
    "            if nums[0:place]==Solution.max_heap(nums[:place]):\n",
    "                #符合maxheap且place>=1(不用作nums[0],nums[0]交換)\n",
    "                nums[0],nums[place-1]=nums[place-1],nums[0]\n",
    "                #換了就會破壞maxheap\n",
    "                place-=1\n",
    "            elif nums[:place] != Solution.max_heap(nums[:place]):\n",
    "                #不符合的就把nums[:place+1]變成maxheap\n",
    "                nums[:place],nums[place:] = Solution.max_heap(nums[:place]),nums[place:]\n",
    "        return nums"
   ]
  },
  {
   "cell_type": "code",
   "execution_count": 256,
   "metadata": {},
   "outputs": [
    {
     "data": {
      "text/plain": [
       "[15, 7, 10, 9, 4, 3, 19]"
      ]
     },
     "execution_count": 256,
     "metadata": {},
     "output_type": "execute_result"
    }
   ],
   "source": [
    "testdata = [19,15,7,10,9,4,3]\n",
    "Solution.swap(testdata)"
   ]
  },
  {
   "cell_type": "raw",
   "metadata": {},
   "source": [
    "檢查一下過程和想要的對不對(因為現在沒寫Solution.max_heap())"
   ]
  },
  {
   "cell_type": "code",
   "execution_count": 259,
   "metadata": {},
   "outputs": [
    {
     "name": "stdout",
     "output_type": "stream",
     "text": [
      "sli: [19, 15, 7, 10, 9, 4, 3]\n",
      "res: [3, 15, 7, 10, 9, 4, 19]\n",
      "sli: [3, 15, 7, 10, 9, 4]\n",
      "res: [4, 15, 7, 10, 9, 3, 19]\n",
      "sli: [4, 15, 7, 10, 9]\n",
      "res: [9, 15, 7, 10, 4, 3, 19]\n",
      "sli: [9, 15, 7, 10]\n",
      "res: [10, 15, 7, 9, 4, 3, 19]\n",
      "sli: [10, 15, 7]\n",
      "res: [7, 15, 10, 9, 4, 3, 19]\n",
      "sli: [7, 15]\n",
      "res: [15, 7, 10, 9, 4, 3, 19]\n",
      "sli: [15]\n",
      "res: [15, 7, 10, 9, 4, 3, 19]\n"
     ]
    }
   ],
   "source": [
    "nums=[19,15,7,10,9,4,3]\n",
    "place=len(nums)\n",
    "while place>0:\n",
    "    if nums[0:place]==Solution.max_heap(nums[:place]):\n",
    "        print('sli:',nums[0:place])\n",
    "        nums[0],nums[place-1]=nums[place-1],nums[0]\n",
    "        place-=1\n",
    "        print('res:',nums)"
   ]
  },
  {
   "cell_type": "markdown",
   "metadata": {},
   "source": [
    "去參考網路的程式程式碼，整理出以下邏輯:\n",
    "<br>像是用分治法一樣，先切成最小的問題=>只有兩層且全滿的樹:\n",
    "    1. 紀錄father、r、l哪一個最大，將最大的和father交換。\n",
    "    2. "
   ]
  },
  {
   "cell_type": "code",
   "execution_count": 273,
   "metadata": {},
   "outputs": [],
   "source": [
    "class Solution(object):\n",
    "    def heap_sort(self, nums):\n",
    "        self.nums=nums\n",
    "        return Solution.swap(nums)\n",
    "    \n",
    "    \n",
    "    \n",
    "    \n",
    "    def max_heap(nums):\n",
    "        for i in reversed(range((len(nums)-1)//2+1)):\n",
    "            Solution.let_max_heap(nums,i)\n",
    "        return nums\n",
    "    \n",
    "    def let_max_heap(nums,i):\n",
    "        max0=i\n",
    "        r=Solution.r(i)\n",
    "        l=Solution.l(i)\n",
    "        max1 = max(nums[i],nums[r],nums[l])\n",
    "        if max1 == nums[r]:\n",
    "            nums[r],nums[i]=nums[i],nums[r]\n",
    "            max0=r\n",
    "            Solution.let_max_heap(nums,max0)\n",
    "        elif max1 == nums[l]:\n",
    "            nums[l],nums[i]=nums[i],nums[l]\n",
    "            max0=l\n",
    "            Solution.let_max_heap(nums,max0)\n",
    "        \n",
    "        \n",
    "            \n",
    "    \n",
    "    \n",
    "    \n",
    "    def swap(nums):\n",
    "        place=len(nums)\n",
    "        while place>0:\n",
    "            if nums[0:place]==Solution.max_heap(nums[:place]):\n",
    "                #符合maxheap且place>=1(不用作nums[0],nums[0]交換)\n",
    "                nums[0],nums[place-1]=nums[place-1],nums[0]\n",
    "                #換了就會破壞maxheap\n",
    "                place-=1\n",
    "            elif nums[:place] != Solution.max_heap(nums[:place]):\n",
    "                #不符合的就把nums[:place+1]變成maxheap\n",
    "                nums[:place],nums[place:] = Solution.max_heap(nums[:place]),nums[place:]\n",
    "        return nums\n",
    "    \n",
    "    \n",
    "    \n",
    "    \n",
    "    \n",
    "# 找父節點與小孩:\n",
    "    def f(i):\n",
    "        if i>0:\n",
    "            return (i-1)//2\n",
    "    \n",
    "    def r(i):\n",
    "        if 2*i+1<=len(nums):\n",
    "            return 2*i+1\n",
    "    \n",
    "    def l(i):\n",
    "        if 2*i+2<len(nums):\n",
    "            return 2*(i+1)"
   ]
  },
  {
   "cell_type": "code",
   "execution_count": 274,
   "metadata": {},
   "outputs": [
    {
     "ename": "IndexError",
     "evalue": "list index out of range",
     "output_type": "error",
     "traceback": [
      "\u001b[1;31m---------------------------------------------------------------------------\u001b[0m",
      "\u001b[1;31mIndexError\u001b[0m                                Traceback (most recent call last)",
      "\u001b[1;32m<ipython-input-274-59f28e316579>\u001b[0m in \u001b[0;36m<module>\u001b[1;34m()\u001b[0m\n\u001b[1;32m----> 1\u001b[1;33m \u001b[0mSolution\u001b[0m\u001b[1;33m(\u001b[0m\u001b[1;33m)\u001b[0m\u001b[1;33m.\u001b[0m\u001b[0mheap_sort\u001b[0m\u001b[1;33m(\u001b[0m\u001b[0mnums\u001b[0m\u001b[1;33m)\u001b[0m\u001b[1;33m\u001b[0m\u001b[0m\n\u001b[0m",
      "\u001b[1;32m<ipython-input-273-1acdc5dd9dc3>\u001b[0m in \u001b[0;36mheap_sort\u001b[1;34m(self, nums)\u001b[0m\n\u001b[0;32m      2\u001b[0m     \u001b[1;32mdef\u001b[0m \u001b[0mheap_sort\u001b[0m\u001b[1;33m(\u001b[0m\u001b[0mself\u001b[0m\u001b[1;33m,\u001b[0m \u001b[0mnums\u001b[0m\u001b[1;33m)\u001b[0m\u001b[1;33m:\u001b[0m\u001b[1;33m\u001b[0m\u001b[0m\n\u001b[0;32m      3\u001b[0m         \u001b[0mself\u001b[0m\u001b[1;33m.\u001b[0m\u001b[0mnums\u001b[0m\u001b[1;33m=\u001b[0m\u001b[0mnums\u001b[0m\u001b[1;33m\u001b[0m\u001b[0m\n\u001b[1;32m----> 4\u001b[1;33m         \u001b[1;32mreturn\u001b[0m \u001b[0mSolution\u001b[0m\u001b[1;33m.\u001b[0m\u001b[0mswap\u001b[0m\u001b[1;33m(\u001b[0m\u001b[0mnums\u001b[0m\u001b[1;33m)\u001b[0m\u001b[1;33m\u001b[0m\u001b[0m\n\u001b[0m\u001b[0;32m      5\u001b[0m \u001b[1;33m\u001b[0m\u001b[0m\n\u001b[0;32m      6\u001b[0m \u001b[1;33m\u001b[0m\u001b[0m\n",
      "\u001b[1;32m<ipython-input-273-1acdc5dd9dc3>\u001b[0m in \u001b[0;36mswap\u001b[1;34m(nums)\u001b[0m\n\u001b[0;32m     34\u001b[0m         \u001b[0mplace\u001b[0m\u001b[1;33m=\u001b[0m\u001b[0mlen\u001b[0m\u001b[1;33m(\u001b[0m\u001b[0mnums\u001b[0m\u001b[1;33m)\u001b[0m\u001b[1;33m\u001b[0m\u001b[0m\n\u001b[0;32m     35\u001b[0m         \u001b[1;32mwhile\u001b[0m \u001b[0mplace\u001b[0m\u001b[1;33m>\u001b[0m\u001b[1;36m0\u001b[0m\u001b[1;33m:\u001b[0m\u001b[1;33m\u001b[0m\u001b[0m\n\u001b[1;32m---> 36\u001b[1;33m             \u001b[1;32mif\u001b[0m \u001b[0mnums\u001b[0m\u001b[1;33m[\u001b[0m\u001b[1;36m0\u001b[0m\u001b[1;33m:\u001b[0m\u001b[0mplace\u001b[0m\u001b[1;33m]\u001b[0m\u001b[1;33m==\u001b[0m\u001b[0mSolution\u001b[0m\u001b[1;33m.\u001b[0m\u001b[0mmax_heap\u001b[0m\u001b[1;33m(\u001b[0m\u001b[0mnums\u001b[0m\u001b[1;33m[\u001b[0m\u001b[1;33m:\u001b[0m\u001b[0mplace\u001b[0m\u001b[1;33m]\u001b[0m\u001b[1;33m)\u001b[0m\u001b[1;33m:\u001b[0m\u001b[1;33m\u001b[0m\u001b[0m\n\u001b[0m\u001b[0;32m     37\u001b[0m                 \u001b[1;31m#符合maxheap且place>=1(不用作nums[0],nums[0]交換)\u001b[0m\u001b[1;33m\u001b[0m\u001b[1;33m\u001b[0m\u001b[0m\n\u001b[0;32m     38\u001b[0m                 \u001b[0mnums\u001b[0m\u001b[1;33m[\u001b[0m\u001b[1;36m0\u001b[0m\u001b[1;33m]\u001b[0m\u001b[1;33m,\u001b[0m\u001b[0mnums\u001b[0m\u001b[1;33m[\u001b[0m\u001b[0mplace\u001b[0m\u001b[1;33m-\u001b[0m\u001b[1;36m1\u001b[0m\u001b[1;33m]\u001b[0m\u001b[1;33m=\u001b[0m\u001b[0mnums\u001b[0m\u001b[1;33m[\u001b[0m\u001b[0mplace\u001b[0m\u001b[1;33m-\u001b[0m\u001b[1;36m1\u001b[0m\u001b[1;33m]\u001b[0m\u001b[1;33m,\u001b[0m\u001b[0mnums\u001b[0m\u001b[1;33m[\u001b[0m\u001b[1;36m0\u001b[0m\u001b[1;33m]\u001b[0m\u001b[1;33m\u001b[0m\u001b[0m\n",
      "\u001b[1;32m<ipython-input-273-1acdc5dd9dc3>\u001b[0m in \u001b[0;36mmax_heap\u001b[1;34m(nums)\u001b[0m\n\u001b[0;32m      9\u001b[0m     \u001b[1;32mdef\u001b[0m \u001b[0mmax_heap\u001b[0m\u001b[1;33m(\u001b[0m\u001b[0mnums\u001b[0m\u001b[1;33m)\u001b[0m\u001b[1;33m:\u001b[0m\u001b[1;33m\u001b[0m\u001b[0m\n\u001b[0;32m     10\u001b[0m         \u001b[1;32mfor\u001b[0m \u001b[0mi\u001b[0m \u001b[1;32min\u001b[0m \u001b[0mreversed\u001b[0m\u001b[1;33m(\u001b[0m\u001b[0mrange\u001b[0m\u001b[1;33m(\u001b[0m\u001b[1;33m(\u001b[0m\u001b[0mlen\u001b[0m\u001b[1;33m(\u001b[0m\u001b[0mnums\u001b[0m\u001b[1;33m)\u001b[0m\u001b[1;33m-\u001b[0m\u001b[1;36m1\u001b[0m\u001b[1;33m)\u001b[0m\u001b[1;33m//\u001b[0m\u001b[1;36m2\u001b[0m\u001b[1;33m+\u001b[0m\u001b[1;36m1\u001b[0m\u001b[1;33m)\u001b[0m\u001b[1;33m)\u001b[0m\u001b[1;33m:\u001b[0m\u001b[1;33m\u001b[0m\u001b[0m\n\u001b[1;32m---> 11\u001b[1;33m             \u001b[0mSolution\u001b[0m\u001b[1;33m.\u001b[0m\u001b[0mlet_max_heap\u001b[0m\u001b[1;33m(\u001b[0m\u001b[0mnums\u001b[0m\u001b[1;33m,\u001b[0m\u001b[0mi\u001b[0m\u001b[1;33m)\u001b[0m\u001b[1;33m\u001b[0m\u001b[0m\n\u001b[0m\u001b[0;32m     12\u001b[0m         \u001b[1;32mreturn\u001b[0m \u001b[0mnums\u001b[0m\u001b[1;33m\u001b[0m\u001b[0m\n\u001b[0;32m     13\u001b[0m \u001b[1;33m\u001b[0m\u001b[0m\n",
      "\u001b[1;32m<ipython-input-273-1acdc5dd9dc3>\u001b[0m in \u001b[0;36mlet_max_heap\u001b[1;34m(nums, i)\u001b[0m\n\u001b[0;32m     16\u001b[0m         \u001b[0mr\u001b[0m\u001b[1;33m=\u001b[0m\u001b[0mSolution\u001b[0m\u001b[1;33m.\u001b[0m\u001b[0mr\u001b[0m\u001b[1;33m(\u001b[0m\u001b[0mi\u001b[0m\u001b[1;33m)\u001b[0m\u001b[1;33m\u001b[0m\u001b[0m\n\u001b[0;32m     17\u001b[0m         \u001b[0ml\u001b[0m\u001b[1;33m=\u001b[0m\u001b[0mSolution\u001b[0m\u001b[1;33m.\u001b[0m\u001b[0ml\u001b[0m\u001b[1;33m(\u001b[0m\u001b[0mi\u001b[0m\u001b[1;33m)\u001b[0m\u001b[1;33m\u001b[0m\u001b[0m\n\u001b[1;32m---> 18\u001b[1;33m         \u001b[0mmax1\u001b[0m \u001b[1;33m=\u001b[0m \u001b[0mmax\u001b[0m\u001b[1;33m(\u001b[0m\u001b[0mnums\u001b[0m\u001b[1;33m[\u001b[0m\u001b[0mi\u001b[0m\u001b[1;33m]\u001b[0m\u001b[1;33m,\u001b[0m\u001b[0mnums\u001b[0m\u001b[1;33m[\u001b[0m\u001b[0mr\u001b[0m\u001b[1;33m]\u001b[0m\u001b[1;33m,\u001b[0m\u001b[0mnums\u001b[0m\u001b[1;33m[\u001b[0m\u001b[0ml\u001b[0m\u001b[1;33m]\u001b[0m\u001b[1;33m)\u001b[0m\u001b[1;33m\u001b[0m\u001b[0m\n\u001b[0m\u001b[0;32m     19\u001b[0m         \u001b[1;32mif\u001b[0m \u001b[0mmax1\u001b[0m \u001b[1;33m==\u001b[0m \u001b[0mnums\u001b[0m\u001b[1;33m[\u001b[0m\u001b[0mr\u001b[0m\u001b[1;33m]\u001b[0m\u001b[1;33m:\u001b[0m\u001b[1;33m\u001b[0m\u001b[0m\n\u001b[0;32m     20\u001b[0m             \u001b[0mnums\u001b[0m\u001b[1;33m[\u001b[0m\u001b[0mr\u001b[0m\u001b[1;33m]\u001b[0m\u001b[1;33m,\u001b[0m\u001b[0mnums\u001b[0m\u001b[1;33m[\u001b[0m\u001b[0mi\u001b[0m\u001b[1;33m]\u001b[0m\u001b[1;33m=\u001b[0m\u001b[0mnums\u001b[0m\u001b[1;33m[\u001b[0m\u001b[0mi\u001b[0m\u001b[1;33m]\u001b[0m\u001b[1;33m,\u001b[0m\u001b[0mnums\u001b[0m\u001b[1;33m[\u001b[0m\u001b[0mr\u001b[0m\u001b[1;33m]\u001b[0m\u001b[1;33m\u001b[0m\u001b[0m\n",
      "\u001b[1;31mIndexError\u001b[0m: list index out of range"
     ]
    }
   ],
   "source": [
    "Solution().heap_sort(nums)"
   ]
  },
  {
   "cell_type": "code",
   "execution_count": null,
   "metadata": {},
   "outputs": [],
   "source": []
  }
 ],
 "metadata": {
  "kernelspec": {
   "display_name": "Python 3",
   "language": "python",
   "name": "python3"
  },
  "language_info": {
   "codemirror_mode": {
    "name": "ipython",
    "version": 3
   },
   "file_extension": ".py",
   "mimetype": "text/x-python",
   "name": "python",
   "nbconvert_exporter": "python",
   "pygments_lexer": "ipython3",
   "version": "3.6.5"
  }
 },
 "nbformat": 4,
 "nbformat_minor": 2
}
