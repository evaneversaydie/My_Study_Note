{
 "cells": [
  {
   "cell_type": "markdown",
   "metadata": {},
   "source": [
    "參考資料\n",
    "==\n",
    "#### Merge Sort\n",
    "* https://emn178.pixnet.net/blog/post/87965707\n",
    "* http://alrightchiu.github.io/SecondRound/comparison-sort-merge-sorthe-bing-pai-xu-fa.html\n",
    "* [合併排序法 - 使用Python(Merge sort)](https://newaurora.pixnet.net/blog/post/224658923-%E5%90%88%E4%BD%B5%E6%8E%92%E5%BA%8F%E6%B3%95---%E4%BD%BF%E7%94%A8python)\n",
    "* [Merge Sort - 合併排序](https://algorithm.yuanbin.me/zh-tw/basics_sorting/merge_sort.html)\n",
    "\n",
    "#### 隨機生成list\n",
    "* https://stackoverflow.com/questions/39379515/how-do-i-generate-a-random-list-in-python-with-duplicates-numbers\n",
    "* https://stackoverflow.com/questions/3559337/how-to-generate-a-random-list-of-fixed-length-of-values-from-given-range\n",
    "\n",
    "\n",
    "#### 檢查隨意的結果是否已經sort\n",
    "*  https://www.itread01.com/content/1550354967.html"
   ]
  },
  {
   "cell_type": "markdown",
   "metadata": {},
   "source": [
    "# MerageSort\n",
    "* 最佳時間複雜度：O(nlog n)\n",
    "* 平均時間複雜度：O(nlog n)\n",
    "* 最差時間複雜度：O(nlog n)\n",
    "\n",
    "Merage Sort是一種用分治法(大問題=>小問題=>解決小問題後就可以解決大問題)。\n",
    "方法為:\n",
    "1. `Divide`:把大list拆成小list(拆成len=1)\n",
    "2. `Conquer`:把小list排序成中list，再把中list排序。\n",
    "> Merge的大前提：若要由小數列合併出大數列，那麼各自的小數列必須「已經排好序」。\n",
    "\n"
   ]
  },
  {
   "cell_type": "markdown",
   "metadata": {},
   "source": [
    "# 學習歷程\n"
   ]
  },
  {
   "cell_type": "code",
   "execution_count": 209,
   "metadata": {},
   "outputs": [
    {
     "data": {
      "text/plain": [
       "[28, 8, 21, 9, 18, 0, 10, 11, 15, 29, 25, 20, 22, 7, 14, 12, 1, 26, 23, 24]"
      ]
     },
     "execution_count": 209,
     "metadata": {},
     "output_type": "execute_result"
    }
   ],
   "source": [
    "import random\n",
    "a = random.sample(range(30), 20)\n",
    "a"
   ]
  },
  {
   "cell_type": "code",
   "execution_count": 210,
   "metadata": {},
   "outputs": [],
   "source": [
    "###### merge_sort_ID.py\n",
    "class Solution(object):    \n",
    "    def merge_sort(nums):\n",
    "        return \n",
    "    \n",
    "    def Divide(nums):\n",
    "        if len(nums)<=1:\n",
    "            return nums\n",
    "     ####### maximum recursion depth exceeded ##########\n",
    "     #沒有設置遞迴的限制=>容易一直遞迴而沒有結果(無窮迴圈)\n",
    "     ###################################################\n",
    "        a = len(nums)//2\n",
    "        b = len(nums)-a\n",
    "        left=nums[:a]\n",
    "        right=nums[b:]       \n",
    "        c = list(Solution.Divide(left))\n",
    "        d = list(Solution.Divide(right))\n",
    "        \n",
    "        return c,d\n",
    "    #######################################################\n",
    "\n",
    "        \n",
    "\n",
    "        \n",
    "    def Conquer(r,l):\n",
    "        return"
   ]
  },
  {
   "cell_type": "code",
   "execution_count": 211,
   "metadata": {},
   "outputs": [
    {
     "data": {
      "text/plain": [
       "([[[[28], [8]], [[9], [18]]], [[[0], [10]], [[15], [29]]]],\n",
       " [[[[25], [20]], [[7], [14]]], [[[12], [1]], [[23], [24]]]])"
      ]
     },
     "execution_count": 211,
     "metadata": {},
     "output_type": "execute_result"
    }
   ],
   "source": [
    "Solution.Divide(a)\n",
    "#確認Divide可以切切切成小list"
   ]
  },
  {
   "cell_type": "code",
   "execution_count": 217,
   "metadata": {},
   "outputs": [],
   "source": [
    "class Solution(object):    \n",
    "    \n",
    "    def Conquer(r,l):\n",
    "        res =[] \n",
    "        if len(r)==0:\n",
    "            return r\n",
    "        \n",
    "        elif len(l)==0:\n",
    "            return l\n",
    "        \n",
    "        elif len(r)==1 and len(l) ==1 and r[0] > l[0]:\n",
    "            res.append(l[0])\n",
    "            res.append(r[0])\n",
    "            return res\n",
    "\n",
    "        elif l[0] < r[0]:\n",
    "            res=[l[0]] + Conquer(l[1:], r)\n",
    "            return res\n",
    "        \n",
    "        elif l[0] >= r[0]:\n",
    "            res = [l[0]] + Conquer(l, r[1:])\n",
    "\n",
    "            return res\n",
    "\n",
    "\n",
    "\n",
    "    def Divide(nums):\n",
    "        if len(nums)<=1:\n",
    "            return nums\n",
    "     ####### maximum recursion depth exceeded ##########\n",
    "     #沒有設置遞迴的限制=>容易一直遞迴而沒有結果(無窮迴圈)\n",
    "     ###################################################\n",
    "        a = len(nums)//2\n",
    "        b = len(nums)-a\n",
    "        left=nums[:a]\n",
    "        right=nums[b:]       \n",
    "        r = list(Solution.Divide(left))\n",
    "        l = list(Solution.Divide(right))\n",
    "        \n",
    "        returnData =Conquer(r,l)\n",
    "        ### 加一個:小問題都切好了開始排排站並合成大問題\n",
    "        return returnData\n",
    "    #######################################################\n",
    "\n",
    "\n",
    "    def merge_sort(self,nums):\n",
    "        self.nums=nums\n",
    "       # Conquer\n",
    "        if len(nums)<=1:\n",
    "            return nums\n",
    "        else:\n",
    "            return Solution.Divide(nums)\n",
    "  "
   ]
  },
  {
   "cell_type": "code",
   "execution_count": 218,
   "metadata": {},
   "outputs": [
    {
     "ename": "NameError",
     "evalue": "name 'Conquer' is not defined",
     "output_type": "error",
     "traceback": [
      "\u001b[1;31m---------------------------------------------------------------------------\u001b[0m",
      "\u001b[1;31mNameError\u001b[0m                                 Traceback (most recent call last)",
      "\u001b[1;32m<ipython-input-218-a60663063c70>\u001b[0m in \u001b[0;36m<module>\u001b[1;34m()\u001b[0m\n\u001b[0;32m      1\u001b[0m \u001b[1;33m\u001b[0m\u001b[0m\n\u001b[1;32m----> 2\u001b[1;33m \u001b[0mSolution\u001b[0m\u001b[1;33m(\u001b[0m\u001b[1;33m)\u001b[0m\u001b[1;33m.\u001b[0m\u001b[0mmerge_sort\u001b[0m\u001b[1;33m(\u001b[0m\u001b[0ma\u001b[0m\u001b[1;33m)\u001b[0m\u001b[1;33m\u001b[0m\u001b[0m\n\u001b[0m",
      "\u001b[1;32m<ipython-input-217-caf60a81dc0c>\u001b[0m in \u001b[0;36mmerge_sort\u001b[1;34m(self, nums)\u001b[0m\n\u001b[0;32m     50\u001b[0m             \u001b[1;32mreturn\u001b[0m \u001b[0mnums\u001b[0m\u001b[1;33m\u001b[0m\u001b[0m\n\u001b[0;32m     51\u001b[0m         \u001b[1;32melse\u001b[0m\u001b[1;33m:\u001b[0m\u001b[1;33m\u001b[0m\u001b[0m\n\u001b[1;32m---> 52\u001b[1;33m             \u001b[1;32mreturn\u001b[0m \u001b[0mSolution\u001b[0m\u001b[1;33m.\u001b[0m\u001b[0mDivide\u001b[0m\u001b[1;33m(\u001b[0m\u001b[0mnums\u001b[0m\u001b[1;33m)\u001b[0m\u001b[1;33m\u001b[0m\u001b[0m\n\u001b[0m\u001b[0;32m     53\u001b[0m \u001b[1;33m\u001b[0m\u001b[0m\n",
      "\u001b[1;32m<ipython-input-217-caf60a81dc0c>\u001b[0m in \u001b[0;36mDivide\u001b[1;34m(nums)\u001b[0m\n\u001b[0;32m     35\u001b[0m         \u001b[0mleft\u001b[0m\u001b[1;33m=\u001b[0m\u001b[0mnums\u001b[0m\u001b[1;33m[\u001b[0m\u001b[1;33m:\u001b[0m\u001b[0ma\u001b[0m\u001b[1;33m]\u001b[0m\u001b[1;33m\u001b[0m\u001b[0m\n\u001b[0;32m     36\u001b[0m         \u001b[0mright\u001b[0m\u001b[1;33m=\u001b[0m\u001b[0mnums\u001b[0m\u001b[1;33m[\u001b[0m\u001b[0mb\u001b[0m\u001b[1;33m:\u001b[0m\u001b[1;33m]\u001b[0m\u001b[1;33m\u001b[0m\u001b[0m\n\u001b[1;32m---> 37\u001b[1;33m         \u001b[0mr\u001b[0m \u001b[1;33m=\u001b[0m \u001b[0mlist\u001b[0m\u001b[1;33m(\u001b[0m\u001b[0mSolution\u001b[0m\u001b[1;33m.\u001b[0m\u001b[0mDivide\u001b[0m\u001b[1;33m(\u001b[0m\u001b[0mleft\u001b[0m\u001b[1;33m)\u001b[0m\u001b[1;33m)\u001b[0m\u001b[1;33m\u001b[0m\u001b[0m\n\u001b[0m\u001b[0;32m     38\u001b[0m         \u001b[0ml\u001b[0m \u001b[1;33m=\u001b[0m \u001b[0mlist\u001b[0m\u001b[1;33m(\u001b[0m\u001b[0mSolution\u001b[0m\u001b[1;33m.\u001b[0m\u001b[0mDivide\u001b[0m\u001b[1;33m(\u001b[0m\u001b[0mright\u001b[0m\u001b[1;33m)\u001b[0m\u001b[1;33m)\u001b[0m\u001b[1;33m\u001b[0m\u001b[0m\n\u001b[0;32m     39\u001b[0m \u001b[1;33m\u001b[0m\u001b[0m\n",
      "\u001b[1;32m<ipython-input-217-caf60a81dc0c>\u001b[0m in \u001b[0;36mDivide\u001b[1;34m(nums)\u001b[0m\n\u001b[0;32m     35\u001b[0m         \u001b[0mleft\u001b[0m\u001b[1;33m=\u001b[0m\u001b[0mnums\u001b[0m\u001b[1;33m[\u001b[0m\u001b[1;33m:\u001b[0m\u001b[0ma\u001b[0m\u001b[1;33m]\u001b[0m\u001b[1;33m\u001b[0m\u001b[0m\n\u001b[0;32m     36\u001b[0m         \u001b[0mright\u001b[0m\u001b[1;33m=\u001b[0m\u001b[0mnums\u001b[0m\u001b[1;33m[\u001b[0m\u001b[0mb\u001b[0m\u001b[1;33m:\u001b[0m\u001b[1;33m]\u001b[0m\u001b[1;33m\u001b[0m\u001b[0m\n\u001b[1;32m---> 37\u001b[1;33m         \u001b[0mr\u001b[0m \u001b[1;33m=\u001b[0m \u001b[0mlist\u001b[0m\u001b[1;33m(\u001b[0m\u001b[0mSolution\u001b[0m\u001b[1;33m.\u001b[0m\u001b[0mDivide\u001b[0m\u001b[1;33m(\u001b[0m\u001b[0mleft\u001b[0m\u001b[1;33m)\u001b[0m\u001b[1;33m)\u001b[0m\u001b[1;33m\u001b[0m\u001b[0m\n\u001b[0m\u001b[0;32m     38\u001b[0m         \u001b[0ml\u001b[0m \u001b[1;33m=\u001b[0m \u001b[0mlist\u001b[0m\u001b[1;33m(\u001b[0m\u001b[0mSolution\u001b[0m\u001b[1;33m.\u001b[0m\u001b[0mDivide\u001b[0m\u001b[1;33m(\u001b[0m\u001b[0mright\u001b[0m\u001b[1;33m)\u001b[0m\u001b[1;33m)\u001b[0m\u001b[1;33m\u001b[0m\u001b[0m\n\u001b[0;32m     39\u001b[0m \u001b[1;33m\u001b[0m\u001b[0m\n",
      "\u001b[1;32m<ipython-input-217-caf60a81dc0c>\u001b[0m in \u001b[0;36mDivide\u001b[1;34m(nums)\u001b[0m\n\u001b[0;32m     35\u001b[0m         \u001b[0mleft\u001b[0m\u001b[1;33m=\u001b[0m\u001b[0mnums\u001b[0m\u001b[1;33m[\u001b[0m\u001b[1;33m:\u001b[0m\u001b[0ma\u001b[0m\u001b[1;33m]\u001b[0m\u001b[1;33m\u001b[0m\u001b[0m\n\u001b[0;32m     36\u001b[0m         \u001b[0mright\u001b[0m\u001b[1;33m=\u001b[0m\u001b[0mnums\u001b[0m\u001b[1;33m[\u001b[0m\u001b[0mb\u001b[0m\u001b[1;33m:\u001b[0m\u001b[1;33m]\u001b[0m\u001b[1;33m\u001b[0m\u001b[0m\n\u001b[1;32m---> 37\u001b[1;33m         \u001b[0mr\u001b[0m \u001b[1;33m=\u001b[0m \u001b[0mlist\u001b[0m\u001b[1;33m(\u001b[0m\u001b[0mSolution\u001b[0m\u001b[1;33m.\u001b[0m\u001b[0mDivide\u001b[0m\u001b[1;33m(\u001b[0m\u001b[0mleft\u001b[0m\u001b[1;33m)\u001b[0m\u001b[1;33m)\u001b[0m\u001b[1;33m\u001b[0m\u001b[0m\n\u001b[0m\u001b[0;32m     38\u001b[0m         \u001b[0ml\u001b[0m \u001b[1;33m=\u001b[0m \u001b[0mlist\u001b[0m\u001b[1;33m(\u001b[0m\u001b[0mSolution\u001b[0m\u001b[1;33m.\u001b[0m\u001b[0mDivide\u001b[0m\u001b[1;33m(\u001b[0m\u001b[0mright\u001b[0m\u001b[1;33m)\u001b[0m\u001b[1;33m)\u001b[0m\u001b[1;33m\u001b[0m\u001b[0m\n\u001b[0;32m     39\u001b[0m \u001b[1;33m\u001b[0m\u001b[0m\n",
      "\u001b[1;32m<ipython-input-217-caf60a81dc0c>\u001b[0m in \u001b[0;36mDivide\u001b[1;34m(nums)\u001b[0m\n\u001b[0;32m     38\u001b[0m         \u001b[0ml\u001b[0m \u001b[1;33m=\u001b[0m \u001b[0mlist\u001b[0m\u001b[1;33m(\u001b[0m\u001b[0mSolution\u001b[0m\u001b[1;33m.\u001b[0m\u001b[0mDivide\u001b[0m\u001b[1;33m(\u001b[0m\u001b[0mright\u001b[0m\u001b[1;33m)\u001b[0m\u001b[1;33m)\u001b[0m\u001b[1;33m\u001b[0m\u001b[0m\n\u001b[0;32m     39\u001b[0m \u001b[1;33m\u001b[0m\u001b[0m\n\u001b[1;32m---> 40\u001b[1;33m         \u001b[0mreturnData\u001b[0m \u001b[1;33m=\u001b[0m\u001b[0mConquer\u001b[0m\u001b[1;33m(\u001b[0m\u001b[0mr\u001b[0m\u001b[1;33m,\u001b[0m\u001b[0ml\u001b[0m\u001b[1;33m)\u001b[0m\u001b[1;33m\u001b[0m\u001b[0m\n\u001b[0m\u001b[0;32m     41\u001b[0m         \u001b[1;31m### 加一個:小問題都切好了開始排排站並合成大問題\u001b[0m\u001b[1;33m\u001b[0m\u001b[1;33m\u001b[0m\u001b[0m\n\u001b[0;32m     42\u001b[0m         \u001b[1;32mreturn\u001b[0m \u001b[0mreturnData\u001b[0m\u001b[1;33m\u001b[0m\u001b[0m\n",
      "\u001b[1;31mNameError\u001b[0m: name 'Conquer' is not defined"
     ]
    }
   ],
   "source": [
    "\n",
    "Solution().merge_sort(a)"
   ]
  },
  {
   "cell_type": "markdown",
   "metadata": {},
   "source": [
    "網路上說會出現這個erro是因為變數名稱寫錯，但是這邊沒有，所以有其他的錯誤。<br>所以加上`Solution.`在Conquer前面。<br>可能是對Class要更多的了解QAQ"
   ]
  },
  {
   "cell_type": "code",
   "execution_count": 219,
   "metadata": {},
   "outputs": [],
   "source": [
    "class Solution(object):    \n",
    "    \n",
    "    def Conquer(r,l):\n",
    "        res =[] \n",
    "        if len(r)==0:\n",
    "            return r\n",
    "        \n",
    "        elif len(l)==0:\n",
    "            return l\n",
    "        \n",
    "        elif len(r)==1 and len(l) ==1 and r[0] > l[0]:\n",
    "            res.append(l[0])\n",
    "            res.append(r[0])\n",
    "            return res\n",
    "\n",
    "        elif l[0] < r[0]:\n",
    "            res=[l[0]] + Solution.Conquer(l[1:], r)\n",
    "            return res\n",
    "        \n",
    "        elif l[0] >= r[0]:\n",
    "            res = [l[0]] + Solution.Conquer(l, r[1:])\n",
    "\n",
    "            return res\n",
    "\n",
    "\n",
    "\n",
    "    def Divide(nums):\n",
    "        if len(nums)<=1:\n",
    "            return nums\n",
    "     ####### maximum recursion depth exceeded ##########\n",
    "     #沒有設置遞迴的限制=>容易一直遞迴而沒有結果(無窮迴圈)\n",
    "     ###################################################\n",
    "        a = len(nums)//2\n",
    "        b = len(nums)-a\n",
    "        left=nums[:a]\n",
    "        right=nums[b:]       \n",
    "        r = list(Solution.Divide(left))\n",
    "        l = list(Solution.Divide(right))\n",
    "        \n",
    "        returnData =Solution.Conquer(r,l)\n",
    "        ### 加一個:小問題都切好了開始排排站並合成大問題\n",
    "        return returnData\n",
    "    #######################################################\n",
    "\n",
    "\n",
    "    def merge_sort(self,nums):\n",
    "        self.nums=nums\n",
    "       # Conquer\n",
    "        if len(nums)<=1:\n",
    "            return nums\n",
    "        else:\n",
    "            return Solution.Divide(nums)\n",
    "  "
   ]
  },
  {
   "cell_type": "code",
   "execution_count": 220,
   "metadata": {},
   "outputs": [
    {
     "name": "stdout",
     "output_type": "stream",
     "text": [
      "[23, 3, 20, 0, 6, 12, 10, 8, 4, 19, 11, 27, 25, 5, 7, 21, 16, 15, 28, 26]\n",
      "[26, 23, 26, 23]\n"
     ]
    }
   ],
   "source": [
    "import random\n",
    "a = random.sample(range(30), 20)\n",
    "print(a)\n",
    "print(Solution().merge_sort(a))"
   ]
  },
  {
   "cell_type": "code",
   "execution_count": 230,
   "metadata": {},
   "outputs": [
    {
     "name": "stdout",
     "output_type": "stream",
     "text": [
      "[10, 13, 4, 28, 11]\n",
      "[11, 13, 28]\n"
     ]
    }
   ],
   "source": [
    "import random\n",
    "a = random.sample(range(30), 5)\n",
    "print(a)\n",
    "print(Solution.Divide(a))\n"
   ]
  },
  {
   "cell_type": "code",
   "execution_count": 239,
   "metadata": {},
   "outputs": [
    {
     "name": "stdout",
     "output_type": "stream",
     "text": [
      "[[28], [13]]\n"
     ]
    }
   ],
   "source": [
    "print(Solution.Conquer([[10], [13]], [[28], [11]]))"
   ]
  },
  {
   "cell_type": "markdown",
   "metadata": {},
   "source": [
    "怎麼這樣子我懷疑人生了。\n",
    "再從Divid開始看好了"
   ]
  },
  {
   "cell_type": "code",
   "execution_count": 252,
   "metadata": {},
   "outputs": [],
   "source": [
    "class Solution(object):    \n",
    "    def Divide(nums):\n",
    "        if len(nums)<=1:\n",
    "            return nums\n",
    "     ####### maximum recursion depth exceeded ##########\n",
    "     #沒有設置遞迴的限制=>容易一直遞迴而沒有結果(無窮迴圈)\n",
    "     ###################################################\n",
    "        a = len(nums)//2\n",
    "        b = len(nums)-a\n",
    "        left=nums[:a]\n",
    "        right=nums[b:]       \n",
    "        r = list(Solution.Divide(left))\n",
    "        l = list(Solution.Divide(right))\n",
    "        \n",
    "        return left,right   #改成left right看看\n",
    "    #######################################################"
   ]
  },
  {
   "cell_type": "code",
   "execution_count": 253,
   "metadata": {},
   "outputs": [
    {
     "name": "stdout",
     "output_type": "stream",
     "text": [
      "[3, 10, 11, 29, 0]\n",
      "[20, 0, 6, 24, 16, 10]\n",
      "([3, 10], [29, 0])\n",
      "([20, 0, 6], [24, 16, 10])\n"
     ]
    }
   ],
   "source": [
    "import random\n",
    "a = random.sample(range(30), 5)\n",
    "b = random.sample(range(30), 6)\n",
    "print(a)\n",
    "print(b)\n",
    "print(Solution.Divide(a))\n",
    "print(Solution.Divide(b))"
   ]
  },
  {
   "cell_type": "markdown",
   "metadata": {},
   "source": [
    "所以切的時候切錯了QAQ。\n",
    "遇到奇數長度的list就會因為只取商數的關係而有錯。\n",
    "<br>像是上面r=[:2]，l=[3:]，兩邊切片的起始點不同，再加上切片尾巴的index不包含在切的list裡面\n",
    "把right=nums[a:] \n",
    "不要b=len(nums)-a了。\n",
    "這樣子切片才可以一個不含第a個，一個含第a個。"
   ]
  },
  {
   "cell_type": "code",
   "execution_count": 262,
   "metadata": {},
   "outputs": [],
   "source": [
    "class Solution(object):    \n",
    "    def Divide(nums):\n",
    "        if len(nums)<=1:\n",
    "            return nums\n",
    "     ####### maximum recursion depth exceeded ##########\n",
    "     #沒有設置遞迴的限制=>容易一直遞迴而沒有結果(無窮迴圈)\n",
    "     ###################################################\n",
    "        a = len(nums)//2\n",
    "        left=nums[0:a]\n",
    "        right=nums[a:]        \n",
    "        r = list(Solution.Divide(left))\n",
    "        l = list(Solution.Divide(right))\n",
    "        return left,right\n",
    "    #######################################################"
   ]
  },
  {
   "cell_type": "code",
   "execution_count": 263,
   "metadata": {},
   "outputs": [
    {
     "name": "stdout",
     "output_type": "stream",
     "text": [
      "[0, 15, 18, 29, 10]\n",
      "[24, 8, 3, 9, 14, 6]\n",
      "([0, 15], [18, 29, 10])\n",
      "([24, 8, 3], [9, 14, 6])\n"
     ]
    }
   ],
   "source": [
    "import random\n",
    "a = random.sample(range(30), 5)\n",
    "b = random.sample(range(30), 6)\n",
    "print(a)\n",
    "print(b)\n",
    "print(Solution.Divide(a))\n",
    "print(Solution.Divide(b))"
   ]
  },
  {
   "cell_type": "code",
   "execution_count": 254,
   "metadata": {},
   "outputs": [],
   "source": [
    "class Solution(object):    \n",
    "    \n",
    "    def Conquer(r,l):\n",
    "        res =[] \n",
    "        if len(r)==0:\n",
    "            return r\n",
    "        \n",
    "        elif len(l)==0:\n",
    "            return l\n",
    "        \n",
    "        elif len(r)==1 and len(l) ==1 and r[0] > l[0]:\n",
    "            res.append(l[0])\n",
    "            res.append(r[0])\n",
    "            return res\n",
    "\n",
    "        elif l[0] < r[0]:\n",
    "            res=[l[0]] + Solution.Conquer(l[1:], r)\n",
    "            return res\n",
    "        \n",
    "        elif l[0] >= r[0]:\n",
    "            res = [l[0]] + Solution.Conquer(l, r[1:])\n",
    "\n",
    "            return res\n",
    "\n",
    "\n",
    "    def Divide(nums):\n",
    "        if len(nums)<=1:\n",
    "            return nums\n",
    "     ####### maximum recursion depth exceeded ##########\n",
    "     #沒有設置遞迴的限制=>容易一直遞迴而沒有結果(無窮迴圈)\n",
    "     ###################################################\n",
    "        a = len(nums)//2\n",
    "        left=nums[0:a]\n",
    "        right=nums[a:]    \n",
    "        r = list(Solution.Divide(left))\n",
    "        l = list(Solution.Divide(right))\n",
    "        \n",
    "        returnData =Solution.Conquer(r,l)\n",
    "        ### 加一個:小問題都切好了開始排排站並合成大問題\n",
    "        return returnData\n",
    "    #######################################################\\\n",
    "    \n",
    "    def merge_sort(self,nums):\n",
    "        self.nums=nums\n",
    "       # Conquer\n",
    "        if len(nums)<=1:\n",
    "            return nums\n",
    "        else:\n",
    "            return Solution.Divide(nums)\n",
    "  "
   ]
  },
  {
   "cell_type": "code",
   "execution_count": 255,
   "metadata": {},
   "outputs": [
    {
     "name": "stdout",
     "output_type": "stream",
     "text": [
      "[16, 19, 21, 9, 6]\n",
      "[16, 5, 4, 23, 10, 3]\n",
      "[6, 19, 21]\n",
      "[3, 4, 23]\n"
     ]
    }
   ],
   "source": [
    "import random\n",
    "a = random.sample(range(30), 5)\n",
    "b = random.sample(range(30), 6)\n",
    "print(a)\n",
    "print(b)\n",
    "print(Solution.Divide(a))\n",
    "print(Solution.Divide(b))"
   ]
  },
  {
   "cell_type": "markdown",
   "metadata": {},
   "source": [
    "Conquer寫錯了(因為把divide 的retrn改成要用到 Conquer)"
   ]
  },
  {
   "cell_type": "code",
   "execution_count": 265,
   "metadata": {},
   "outputs": [],
   "source": [
    "class Solution(object):    \n",
    "    \n",
    "    def Conquer(r,l):\n",
    "        res =[] \n",
    "        if len(r)==0:\n",
    "            return r\n",
    "        \n",
    "        elif len(l)==0:\n",
    "            return l\n",
    "        \n",
    "        elif len(r)==1 and len(l) ==1 and r[0] > l[0]:\n",
    "            res.append(l[0])\n",
    "            res.append(r[0])\n",
    "            return res\n",
    "\n",
    "        elif l[0] < r[0]:\n",
    "            res=[l[0]] + Solution.Conquer(l[1:], r)\n",
    "            return res\n",
    "        \n",
    "        elif l[0] >= r[0]:\n",
    "            res = [l[0]] + Solution.Conquer(l, r[1:])\n",
    "\n",
    "            return res\n"
   ]
  },
  {
   "cell_type": "code",
   "execution_count": 266,
   "metadata": {},
   "outputs": [
    {
     "name": "stdout",
     "output_type": "stream",
     "text": [
      "[]\n",
      "[2, 4, 3, 4]\n",
      "[1, 2, 3, 4, 5]\n",
      "[0, 2]\n"
     ]
    }
   ],
   "source": [
    "print(Solution.Conquer([],[2]))\n",
    "print(Solution.Conquer([1,4],[2,3]))\n",
    "print(Solution.Conquer([2,4],[1,3,5]))\n",
    "print(Solution.Conquer([2],[0]))"
   ]
  },
  {
   "cell_type": "code",
   "execution_count": 312,
   "metadata": {},
   "outputs": [],
   "source": [
    "class Solution(object):    \n",
    "    \n",
    "    def Conquer(r,l):\n",
    "        res =[] \n",
    "#====================================================\n",
    "#這邊這樣不合理，改成return要return另一個不是自己\n",
    "        if len(r)==0:\n",
    "            return l\n",
    "        \n",
    "        elif len(l)==0:\n",
    "            return r\n",
    "#====================================================   \n",
    "#OK\n",
    "        elif len(r)==1 and len(l) ==1 and r[0] > l[0]:\n",
    "            res.append(l[0])\n",
    "            res.append(r[0])\n",
    "            return res\n",
    "#=======================================================\n",
    "#改這邊:\n",
    "        elif l[0] < r[0]:\n",
    "            res=[l[0]] + Solution.Conquer(l[1:], r)\n",
    "            return res\n",
    "        \n",
    "        elif l[0] >= r[0]:\n",
    "            res = [r[0]] + Solution.Conquer(l, r[1:])\n",
    "                #本來打錯了!!是R比較小要取出來呀\n",
    "            return res\n"
   ]
  },
  {
   "cell_type": "code",
   "execution_count": 313,
   "metadata": {},
   "outputs": [
    {
     "name": "stdout",
     "output_type": "stream",
     "text": [
      "[2]\n",
      "[1, 2, 3, 4]\n",
      "[1, 2, 3, 4, 5]\n",
      "[0, 2]\n"
     ]
    }
   ],
   "source": [
    "print(Solution.Conquer([],[2]))\n",
    "print(Solution.Conquer([1,4],[2,3]))\n",
    "print(Solution.Conquer([2,4],[1,3,5]))\n",
    "print(Solution.Conquer([2],[0]))"
   ]
  },
  {
   "cell_type": "code",
   "execution_count": 319,
   "metadata": {},
   "outputs": [],
   "source": [
    "class Solution(object):    \n",
    "    \n",
    "    def Conquer(r,l):\n",
    "        res =[] \n",
    "#====================================================\n",
    "        if len(r)==0:\n",
    "            return l\n",
    "        \n",
    "        elif len(l)==0:\n",
    "            return r\n",
    "#====================================================        \n",
    "        elif len(r)==1 and len(l) ==1 and r[0] > l[0]:\n",
    "            res.append(l[0])\n",
    "            res.append(r[0])\n",
    "            return res\n",
    "#====================================================\n",
    "#排序:把r[0]、l[0]比較小的抓出來，剩下的再繼續排序\n",
    "    \n",
    "        elif l[0] < r[0]:\n",
    "            res=[l[0]] + Solution.Conquer(l[1:], r)\n",
    "            return res\n",
    "        \n",
    "        elif l[0] >= r[0]:\n",
    "            res = [r[0]] + Solution.Conquer(l, r[1:])\n",
    "            return res\n",
    "#====================================================\n",
    "\n",
    "    def Divide(nums):\n",
    "        if len(nums)<=1:\n",
    "            return nums\n",
    "     ####### maximum recursion depth exceeded ##########\n",
    "     #沒有設置遞迴的限制=>容易一直遞迴而沒有結果(無窮迴圈)\n",
    "     ###################################################\n",
    "        a = len(nums)//2\n",
    "        left=nums[0:a]\n",
    "        right=nums[a:]    \n",
    "        r = Solution.Divide(left)\n",
    "        l = Solution.Divide(right)\n",
    "        ### 加一個:小問題都切好了開始排排站並合成大問題\n",
    "        return Solution.Conquer(r,l)\n",
    "    #######################################################\\\n",
    "    \n",
    "    \n",
    "    \n",
    "    #把這兩個def併在作業規範中\n",
    "    def merge_sort(self,nums):\n",
    "        self.nums=nums #這樣才可以用Solution().merge_sort()呼叫!!!!\n",
    "        if len(nums)<=1:\n",
    "            return nums\n",
    "        else:\n",
    "            return Solution.Divide(nums)\n",
    "  "
   ]
  },
  {
   "cell_type": "code",
   "execution_count": 320,
   "metadata": {},
   "outputs": [
    {
     "name": "stdout",
     "output_type": "stream",
     "text": [
      "[28, 18, 25, 2, 3]\n",
      "[2, 3, 18, 25, 28]\n",
      "[20, 15, 28, 18, 3, 16]\n",
      "[3, 15, 16, 18, 20, 28]\n"
     ]
    }
   ],
   "source": [
    "import random\n",
    "a = random.sample(range(30), 5)\n",
    "b = random.sample(range(30), 6)\n",
    "print(a)\n",
    "print(Solution().merge_sort(a))\n",
    "print(b)\n",
    "print(Solution().merge_sort(b))\n"
   ]
  },
  {
   "cell_type": "markdown",
   "metadata": {},
   "source": [
    "開心!!!!!!!!!!!!!!!\n",
    "引用檢查的程式碼再跑一次!!\n"
   ]
  },
  {
   "cell_type": "code",
   "execution_count": 321,
   "metadata": {},
   "outputs": [
    {
     "name": "stdout",
     "output_type": "stream",
     "text": [
      "True\n"
     ]
    }
   ],
   "source": [
    "a = [random.randint(0,1000) for _ in range(100)] # 生成長度為100的整型陣列,元素大小為(0,1000]\n",
    "print(bool(Solution().merge_sort(a) == sorted(a)))"
   ]
  },
  {
   "cell_type": "markdown",
   "metadata": {},
   "source": [
    "試試看助教說的如果有負數和小數點行不行。"
   ]
  },
  {
   "cell_type": "code",
   "execution_count": 322,
   "metadata": {},
   "outputs": [
    {
     "name": "stdout",
     "output_type": "stream",
     "text": [
      "[-4.3, -4.2, -1, 0, 1, 4.2, 4.3, 9]\n"
     ]
    }
   ],
   "source": [
    "a = [9,4.3,-1,-4.3,1,4.2,0,-4.2]\n",
    "print(Solution().merge_sort(a))"
   ]
  },
  {
   "cell_type": "markdown",
   "metadata": {},
   "source": [
    "終於!!!!!!!!!!!!!!!!!!!!!!!!!!!\n",
    "<br>希望下次可以裝spider或pychram練習debugmode  QAQ\n",
    "<br>再heap sort 先複習了class後卡卡的就先過來寫MergeSort。但過程中發現自己對物件還是不熟啊!\n",
    "<br>如果def中間有self，那呼叫的時候要有`class名稱`+ `().`+`def(看裡面有幾個變數)`才可以用，不然就不可以運行了。\n",
    "\n",
    "<br>可能是py比較自由的關係，不一定要有self，等等有寫完Heap Sort有時間的話要趕快來研究。"
   ]
  }
 ],
 "metadata": {
  "kernelspec": {
   "display_name": "Python 3",
   "language": "python",
   "name": "python3"
  },
  "language_info": {
   "codemirror_mode": {
    "name": "ipython",
    "version": 3
   },
   "file_extension": ".py",
   "mimetype": "text/x-python",
   "name": "python",
   "nbconvert_exporter": "python",
   "pygments_lexer": "ipython3",
   "version": "3.6.5"
  }
 },
 "nbformat": 4,
 "nbformat_minor": 2
}
