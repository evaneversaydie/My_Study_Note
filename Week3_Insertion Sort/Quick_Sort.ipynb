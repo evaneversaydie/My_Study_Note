{
 "cells": [
  {
   "cell_type": "markdown",
   "metadata": {},
   "source": [
    "# Quick Sort\n",
    "    Quick Sort為排序的一種方法。\n",
    "    在輸入的list中隨機指定一個pivot(本次作業pivot為[::-1])，並依據pivot之值，將list分為:\n",
    "     * 所有元素之值都大於pivot的list_r或皆小於pivot的list_l。list_r、list_l裡面元素暫未排序。\n",
    "     * 回傳的值:list_r+pivot+list_l\n",
    "         * 可以試著額外宣告一個list來回傳。\n",
    "         * 或直接用tuple將元素換位置。\n",
    "     * 將1ist_l、list_r視為list，重複指定pivot來排序大小，直到分出來的list為null停止。"
   ]
  },
  {
   "cell_type": "markdown",
   "metadata": {},
   "source": [
    "![QuickSort](QuickSort.jpg)\n",
    "\n",
    "![QuickSort](Quicksort_d.jpg)"
   ]
  },
  {
   "cell_type": "code",
   "execution_count": 1,
   "metadata": {},
   "outputs": [],
   "source": [
    "def Quicksort_run(alist,left,right):\n",
    "    \n",
    "    if left>=right:   #如果頭>=尾巴，就碰到邊界條件\n",
    "        return alist\n",
    "    \n",
    "    pivot=alist[left] #每次都先piovt設定為最左邊的值\n",
    "    l=left #l、r為檢查、排序時需要用到的變數\n",
    "    r=right\n",
    "    while l != r:\n",
    "        while alist[r]>=pivot and l<r: #由尾巴往前檢查\n",
    "            r-=1\n",
    "        while alist[l]<=pivot and l<r: #由前往後檢查\n",
    "            l+=1\n",
    "        if l<r: \n",
    "            alist[l],alist[r]=alist[r],alist[l]\n",
    "    alist[left],alist[l]=alist[l],alist[left] #第一輪檢查完成:pivot換位置\n",
    "    \n",
    "    Quicksort_run(alist,left,l-1) #檢查比pivot大的list(pivot右邊)之排序，piivot已經檢查過，故兩行地回都不需包含pivot\n",
    "    Quicksort_run(alist,r+1,right) #檢查比pivot小的list(pivot左邊)之排序\n",
    "    return alist\n",
    "\n",
    "def Quicksort(alist):\n",
    "    return Quicksort_run(alist,0,len(alist)-1)\n",
    "    #由於測資只有list，因此寫這個函式。讓測資跑進去後，能產生正確的left、right來遞迴\n",
    "    \n"
   ]
  },
  {
   "cell_type": "code",
   "execution_count": 2,
   "metadata": {},
   "outputs": [
    {
     "name": "stdout",
     "output_type": "stream",
     "text": [
      "[1, 2, 3, 4, 5, 6, 8, 25, 35]\n"
     ]
    }
   ],
   "source": [
    "#放入測資\n",
    "Alist =[35,1,5,4,6,2,3,25,8]\n",
    "print(Quicksort(Alist))\n"
   ]
  },
  {
   "cell_type": "markdown",
   "metadata": {},
   "source": [
    "# 時間複雜度:Time Complexities\n",
    "* 最好的情形:O(Nlog(N))\n",
    "    * 即使全部都由小到大，最少仍會需要全部跑一次才可以確定\n",
    "* 平均起來: O(Nlog(N))\n",
    "* 最壞的情形: O(N^2)\n",
    "    * 指定到的pivot都為該次排序的最大或最小值。\n",
    "    * 若都是已經排序好的資料，的複雜度。"
   ]
  },
  {
   "cell_type": "code",
   "execution_count": 20,
   "metadata": {},
   "outputs": [],
   "source": []
  },
  {
   "cell_type": "code",
   "execution_count": null,
   "metadata": {},
   "outputs": [],
   "source": []
  }
 ],
 "metadata": {
  "kernelspec": {
   "display_name": "Python 3",
   "language": "python",
   "name": "python3"
  },
  "language_info": {
   "codemirror_mode": {
    "name": "ipython",
    "version": 3
   },
   "file_extension": ".py",
   "mimetype": "text/x-python",
   "name": "python",
   "nbconvert_exporter": "python",
   "pygments_lexer": "ipython3",
   "version": "3.6.5"
  }
 },
 "nbformat": 4,
 "nbformat_minor": 2
}
