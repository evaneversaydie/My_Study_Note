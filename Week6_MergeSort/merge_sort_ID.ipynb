{
 "cells": [
  {
   "cell_type": "code",
   "execution_count": 1,
   "metadata": {},
   "outputs": [],
   "source": [
    "class Solution(object):    \n",
    "    \n",
    "    def Conquer(r,l):\n",
    "        res =[] \n",
    "#====================================================\n",
    "        if len(r)==0:\n",
    "            return l\n",
    "        \n",
    "        elif len(l)==0:\n",
    "            return r\n",
    "#====================================================        \n",
    "        elif len(r)==1 and len(l) ==1 and r[0] > l[0]:\n",
    "            res.append(l[0])\n",
    "            res.append(r[0])\n",
    "            return res\n",
    "#====================================================\n",
    "#排序:把r[0]、l[0]比較小的抓出來，剩下的再繼續排序\n",
    "    \n",
    "        elif l[0] < r[0]:\n",
    "            res=[l[0]] + Solution.Conquer(l[1:], r)\n",
    "            return res\n",
    "        \n",
    "        elif l[0] >= r[0]:\n",
    "            res = [r[0]] + Solution.Conquer(l, r[1:])\n",
    "            return res\n",
    "#====================================================\n",
    "\n",
    "    def Divide(nums):\n",
    "        if len(nums)<=1:\n",
    "            return nums\n",
    "     ####### maximum recursion depth exceeded ##########\n",
    "     #沒有設置遞迴的限制=>容易一直遞迴而沒有結果(無窮迴圈)\n",
    "     ###################################################\n",
    "        a = len(nums)//2\n",
    "        left=nums[0:a]\n",
    "        right=nums[a:]    \n",
    "        r = Solution.Divide(left)\n",
    "        l = Solution.Divide(right)\n",
    "        ### 加一個:小問題都切好了開始排排站並合成大問題\n",
    "        return Solution.Conquer(r,l)\n",
    "    #######################################################\\\n",
    "    \n",
    "    \n",
    "    \n",
    "    #把這兩個def併在作業規範中\n",
    "    def merge_sort(self,nums):\n",
    "        self.nums=nums #這樣才可以用Solution().merge_sort()呼叫!!!!\n",
    "        if len(nums)<=1:\n",
    "            return nums\n",
    "        else:\n",
    "            return Solution.Divide(nums)\n",
    "  "
   ]
  },
  {
   "cell_type": "code",
   "execution_count": 2,
   "metadata": {},
   "outputs": [
    {
     "name": "stdout",
     "output_type": "stream",
     "text": [
      "[-4.3, -4.2, -1, 0, 1, 4.2, 4.3, 9]\n"
     ]
    }
   ],
   "source": [
    "a = [9,4.3,-1,-4.3,1,4.2,0,-4.2]\n",
    "print(Solution().merge_sort(a))"
   ]
  },
  {
   "cell_type": "code",
   "execution_count": null,
   "metadata": {},
   "outputs": [],
   "source": []
  }
 ],
 "metadata": {
  "kernelspec": {
   "display_name": "Python 3",
   "language": "python",
   "name": "python3"
  },
  "language_info": {
   "codemirror_mode": {
    "name": "ipython",
    "version": 3
   },
   "file_extension": ".py",
   "mimetype": "text/x-python",
   "name": "python",
   "nbconvert_exporter": "python",
   "pygments_lexer": "ipython3",
   "version": "3.6.5"
  }
 },
 "nbformat": 4,
 "nbformat_minor": 2
}
