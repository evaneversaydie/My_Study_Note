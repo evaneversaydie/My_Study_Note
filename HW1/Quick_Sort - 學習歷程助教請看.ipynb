{
 "cells": [
  {
   "cell_type": "markdown",
   "metadata": {},
   "source": [
    "# Quick Sort\n",
    "\n",
    "## 第一版:\n",
    "> 查詢的資料:\n",
    "http://alrightchiu.github.io/SecondRound/comparison-sort-quick-sortkuai-su-pai-xu-fa.html\n",
    "\n",
    ">程式碼參考資料資料:\n",
    "https://ithelp.ithome.com.tw/articles/10202330?sc=iThelpR\n",
    "\n",
    "整理了這些文章的運作情形。\n",
    "\n",
    "   > 在輸入的list中隨機指定一個pivot(本次作業pivot為[::-1])，並依據pivot之值，將list分為:\n",
    "     * 所有元素之值都大於pivot的list_r或皆小於pivot的list_l。list_r、list_l裡面元素暫未排序。\n",
    "     * 回傳的值:list_r+pivot+list_l\n",
    "         * 可以試著額外宣告一個list來回傳。\n",
    "         * 或直接用tuple將元素換位置。\n",
    "     * 將1ist_l、list_r視為list，重複指定pivot來排序大小，直到分出來的list為null停止。\n",
    "  \n",
    "*  流程圖為參考圖中的網址，改成自己的測資繪製而成。"
   ]
  },
  {
   "cell_type": "markdown",
   "metadata": {},
   "source": [
    "![QuickSort](QuickSort.jpg)\n",
    "\n",
    "![QuickSort](Quicksort_d.jpg)"
   ]
  },
  {
   "cell_type": "markdown",
   "metadata": {},
   "source": [
    "\n",
    "# 心得:\n",
    "網路上的資料多為C語言居多，多半使用`swap()`函數來實現將pivot與比較的置換。\n",
    "在python裡的方式想到的是用`alist[left],alist[l]=alist[l],alist[left]`的方式交換位置。(應該是 `tuple`)\n",
    "遞迴多半是在function裡呼叫自己，老師上課時提供的程式碼是在第一次分類(> or < pivot)後，更改Quicksort檢驗排序的範圍完成遞迴。\n",
    "\n",
    "## 嘗試但錯誤的程式碼:\n",
    "### 本來的想法：\n",
    "* 因為對於遞迴的概念不熟，所以著重想的是如何重複檢查「和pivot比大小和分類『>pivot』與『<pivot』」的動作?這個動作必需要重複的條件是什麼?\n",
    "       * 在自己的概念中必須使用while迴圈，for迴圈需要參數的設置可能需要多個以上是自己比較不受的部分(需要再加強)，因此先用while迴圈。並使用老師上課提供的程式碼的遞迴方式。\n",
    "            * 既然利用while迴圈，那麼停止的條件是?\n",
    "   \n",
    "*  在參考文章中，程式pivot是最尾端的程式碼，而上課資料是quicksort是隨機指定pivot就可以實現，本來想要以import random來試試看，但想先從把pivot改成最開頭的左邊開始。是先寫出過一次可以分成>pivot、<pivot的程式在把它改成def，但一改成def、加上遞迴便會錯。出現的錯誤有:\n",
    "    * 本來只有設置left、right，而沒有l、r，但這樣子在遞迴的時候left、right都會出現錯誤(因為值一直變)\n",
    "    * 巢狀迴圈裡面的小while，沒有加上`l!=r`兩個條件就跑不出來。\n",
    "    * 註解有 % 的地方本來是想要打 `if alist[l]<alist[r]`(直接從值比較)，但出現錯誤。\n",
    "    * 如果是「單一一個值」、「空的list」的話，無法return出任何資料。=>用Quicksort()加上`if`寫出例外情形。\n",
    "* 但是，改完後仍出現錯誤:\n",
    "    * list排序大小是錯的。\n",
    "    * 本來是將pivot=alist[right]，除了pivot的修改外，和最終IT幫的程式碼不同的地方是註解的%%處兩個while迴圈是對調的。\n",
    "\n",
    "### 嘗試但錯誤的程式碼的版本(還有一些地方沒有釐清):"
   ]
  },
  {
   "cell_type": "code",
   "execution_count": 7,
   "metadata": {},
   "outputs": [],
   "source": [
    "def Quicksort_run(alist,left,right):\n",
    "    if left>=right:   #如果頭>=尾巴，就碰到邊界條件\n",
    "        return alist\n",
    "    \n",
    "    pivot=alist[left] #每次都先piovt設定為最左邊的值\n",
    "    while left > right : #兩個值不重複\n",
    "        while alist[left]<=pivot: #由前往後檢查，右邊的是比較小的 %%\n",
    "            left+=1\n",
    "        while alist[right]>=pivot: #由尾巴往前檢查，左邊的是比pivot大的 %%\n",
    "            right-=1\n",
    "        if alist[left]>alist[right]: # %\n",
    "            alist[left],alist[right]=alist[right],alist[left]\n",
    "\n",
    "    Quicksort_run(alist,left+1,len(alist)-1) #檢查比pivot大的list(pivot右邊)之排序，piivot已經檢查過，故兩行地回都不需包含pivot\n",
    "    Quicksort_run(alist,0,right) #檢查比pivot小的list(pivot左邊)之排序\n",
    "    return alist\n",
    "\n",
    "def Quicksort(alist):\n",
    "    if len(alist)<=1:\n",
    "        return alist\n",
    "    return Quicksort_run(alist,0,len(alist)-1)\n",
    "    #由於測資只有list，因此寫這個函式。讓測資跑進去後，能產生正確的left、right來遞迴"
   ]
  },
  {
   "cell_type": "code",
   "execution_count": 8,
   "metadata": {},
   "outputs": [
    {
     "name": "stdout",
     "output_type": "stream",
     "text": [
      "[]\n",
      "[0]\n"
     ]
    }
   ],
   "source": [
    "list1=[]\n",
    "list2=[0]\n",
    "Alist =[35,1,5,4]#,6,2,3,25,8]\n",
    "Alist1 =[1,5,1,6]#,2,3,2,25,8]\n",
    "\n",
    "print(Quicksort(list1))\n",
    "print(Quicksort(list2))\n",
    "#修過幾次會跑很久才跑出/卡住/\n",
    "#print(Quicksort(Alist))\n",
    "#print(Quicksort(Alist1))\n",
    "#是參數的地方出錯了(無法跟著遞迴更動)"
   ]
  },
  {
   "cell_type": "markdown",
   "metadata": {},
   "source": [
    "# 根據文章的程式結構而打的程式碼\n",
    "發現不會有自己打的程式碼的錯誤(list 是空的也會好好的傳值、一樣的測資可以好好的排序。)"
   ]
  },
  {
   "cell_type": "code",
   "execution_count": 9,
   "metadata": {},
   "outputs": [],
   "source": [
    "def Quicksort_run(alist,left,right):\n",
    "    \n",
    "    if left>=right:   #如果頭>=尾巴，就碰到邊界條件\n",
    "        return alist\n",
    "    \n",
    "    pivot=alist[left] #每次都先piovt設定為最左邊的值\n",
    "    l=left #l、r為檢查、排序時需要用到的變數\n",
    "    r=right\n",
    "    while l != r:\n",
    "        while alist[r]>=pivot and l<r: #由尾巴往前檢查 %%\n",
    "            r-=1\n",
    "        while alist[l]<=pivot and l<r: #由前往後檢查 %%\n",
    "            l+=1\n",
    "        if l<r: \n",
    "            alist[l],alist[r]=alist[r],alist[l]\n",
    "    alist[left],alist[l]=alist[l],alist[left] #第一輪檢查完成:pivot換位置\n",
    "    \n",
    "    Quicksort_run(alist,left,l-1) #檢查比pivot大的list(pivot右邊)之排序，piivot已經檢查過，故兩行地回都不需包含pivot\n",
    "    Quicksort_run(alist,r+1,right) #檢查比pivot小的list(pivot左邊)之排序\n",
    "    return alist\n",
    "\n",
    "def Quicksort(alist):\n",
    "    return Quicksort_run(alist,0,len(alist)-1)\n",
    "    #由於測資只有list，因此寫這個函式。讓測資跑進去後，能產生正確的left、right來遞迴"
   ]
  },
  {
   "cell_type": "code",
   "execution_count": 10,
   "metadata": {},
   "outputs": [
    {
     "name": "stdout",
     "output_type": "stream",
     "text": [
      "[]\n",
      "[0]\n",
      "[1, 2, 3, 4, 5, 6, 8, 25, 35]\n",
      "[1, 1, 2, 2, 3, 5, 6, 8, 25]\n"
     ]
    }
   ],
   "source": [
    "#放入測資\n",
    "list1=[]\n",
    "list2=[0]\n",
    "Alist =[35,1,5,4,6,2,3,25,8]\n",
    "Alist1 =[1,5,1,6,2,3,2,25,8]\n",
    "\n",
    "print(Quicksort(list1))\n",
    "print(Quicksort(list2))\n",
    "print(Quicksort(Alist))\n",
    "print(Quicksort(Alist1))\n"
   ]
  },
  {
   "cell_type": "markdown",
   "metadata": {},
   "source": [
    "# 上課後和助教討論:\n",
    "不要看網路上的參考資料，用自己的想法與理解直接打成程式碼。\n",
    "* 可以將quicksort步驟拆解，如:`PARTITION`獨立成一個function\n",
    "\n"
   ]
  },
  {
   "cell_type": "markdown",
   "metadata": {},
   "source": [
    "## 第二個:初步的想法\n",
    "所以先把小於指定值的pivot存在一個list，反之亦然。用while包起來，最後把所有list加起來。\n",
    "* 不能只用samll或big。\n",
    "* 想成遞迴就是對small 和big 再做一次，如果len()值=1才停止，每個框框都是一次的Quciksort。\n"
   ]
  },
  {
   "cell_type": "markdown",
   "metadata": {},
   "source": [
    "![QuickSort2](QickSort2.jpg)"
   ]
  },
  {
   "cell_type": "code",
   "execution_count": 11,
   "metadata": {},
   "outputs": [],
   "source": [
    "def Quicksort(inputlist):\n",
    "\n",
    "\n",
    "    if len(inputlist)<=1:\n",
    "        return inputlist\n",
    "\n",
    "\n",
    "    pivot=inputlist[0] #pivot為第一個值\n",
    "    right = len(inputlist)-1\n",
    "    small=[]\n",
    "    big=[]\n",
    "    pivots=[]\n",
    "    \n",
    "    while right>=0:\n",
    "        #print(right)\n",
    "        \n",
    "        if inputlist[right] > pivot:\n",
    "            big.append(inputlist[right])\n",
    "            right-=1\n",
    "        elif inputlist[right] == pivot:\n",
    "            pivots.append(inputlist[right])\n",
    "            right-=1\n",
    "        elif inputlist[right]<pivot:\n",
    "            small.append(inputlist[right])\n",
    "            right-=1\n",
    "\n",
    "        #print('s:',small,'p',pivots,'b',big)\n",
    "    \n",
    "    small=Quicksort(small)\n",
    "    big = Quicksort(big)\n",
    "    listresult=small+ pivots+big\n",
    "    #print('res:',listresult)\n",
    "    return listresult\n",
    "    \n",
    "    \n",
    "\n",
    "    "
   ]
  },
  {
   "cell_type": "code",
   "execution_count": 12,
   "metadata": {},
   "outputs": [
    {
     "name": "stdout",
     "output_type": "stream",
     "text": [
      "[]\n",
      "[0]\n",
      "[1, 2, 3, 4, 5, 6, 8, 25, 35]\n",
      "[1, 1, 2, 2, 3, 5, 6, 8, 25]\n",
      "[1, 2, 2, 3, 5, 6, 8, 25]\n"
     ]
    }
   ],
   "source": [
    "#放入測資\n",
    "#list1=[]\n",
    "#list2=[0]\n",
    "Alist =[35,1,5,4,6,2,3,25,8]\n",
    "Alist1 =[1,5,1,6,2,3,2,25,8]\n",
    "Alist2 = [5,1,6,2,3,2,25,8]\n",
    "\n",
    "print(Quicksort(list1))\n",
    "print(Quicksort(list2))\n",
    "print(Quicksort(Alist))\n",
    "print(Quicksort(Alist1))\n",
    "print(Quicksort(Alist2))"
   ]
  },
  {
   "cell_type": "markdown",
   "metadata": {},
   "source": [
    "# 關於Quick_Sort的時間複雜度:Time Complexities\n",
    "* 最好的情形:O(Nlog(N))\n",
    "    * 即使全部都由小到大，最少仍會需要全部跑一次才可以確定\n",
    "* 平均起來: O(Nlog(N))\n",
    "* 最壞的情形: O(N^2)\n",
    "    * 指定到的pivot都為該次排序的最大或最小值。\n",
    "    * 若都是已經排序好的資料(像是一元樹)。"
   ]
  },
  {
   "cell_type": "markdown",
   "metadata": {},
   "source": [
    "# 2希望:\n",
    "\n",
    "希望可以改成只利用一個`Quicksort()`只有一個功能:把參數改成三個，並且每一個。\n",
    "想試試看用一的def就可以完成"
   ]
  }
 ],
 "metadata": {
  "kernelspec": {
   "display_name": "Python 3",
   "language": "python",
   "name": "python3"
  },
  "language_info": {
   "codemirror_mode": {
    "name": "ipython",
    "version": 3
   },
   "file_extension": ".py",
   "mimetype": "text/x-python",
   "name": "python",
   "nbconvert_exporter": "python",
   "pygments_lexer": "ipython3",
   "version": "3.6.5"
  }
 },
 "nbformat": 4,
 "nbformat_minor": 2
}
