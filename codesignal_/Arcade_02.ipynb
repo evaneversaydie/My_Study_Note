{
 "cells": [
  {
   "cell_type": "markdown",
   "metadata": {},
   "source": [
    "[題目練習](https://app.codesignal.com/arcade/intro/level-1/egbueTZRRL5Mm4TXN)"
   ]
  },
  {
   "cell_type": "markdown",
   "metadata": {},
   "source": [
    "Given a year, return the century it is in. The first century spans from the year 1 up to and including the year 100, the second - from the year 101 up to and including the year 200, etc.\n",
    "\n",
    "# Example\n",
    "\n",
    "> For year = 1905, the output should be\n",
    "centuryFromYear(year) = 20;\n",
    "For year = 1700, the output should be\n",
    "centuryFromYear(year) = 17.\n",
    "Input/Output\n",
    "\n",
    "* [execution time limit] 4 seconds (py3)\n",
    "\n",
    "* [input] integer year\n",
    "    * A positive integer, designating the year.\n",
    "    * Guaranteed constraints: 1 ≤ year ≤ 2005.\n",
    "\n",
    "* [output] integer\n",
    "    * The number of the century the year is in.\n",
    "\n",
    "# [Python3] Syntax Tips\n",
    "\n",
    "#Prints help message to the console\n",
    "#Returns a string\n",
    ">def helloWorld(name):\n",
    "    print(\"This prints to the console when you Run Tests\")\n",
    "    return \"Hello, \" + name"
   ]
  },
  {
   "cell_type": "code",
   "execution_count": null,
   "metadata": {},
   "outputs": [],
   "source": [
    "def centuryFromYear(year):\n",
    "    if year%100 != 0:\n",
    "        n = int(year/100)+1\n",
    "    if year%100 == 0:\n",
    "        n = year//100\n",
    "    return n \n",
    "\"\"\"\n",
    "找回python 中，數字運算的語法:\n",
    "1.%:餘數\n",
    "2.//:整除的商(一定是int)\n",
    "\"\"\""
   ]
  }
 ],
 "metadata": {
  "kernelspec": {
   "display_name": "Python 3",
   "language": "python",
   "name": "python3"
  },
  "language_info": {
   "codemirror_mode": {
    "name": "ipython",
    "version": 3
   },
   "file_extension": ".py",
   "mimetype": "text/x-python",
   "name": "python",
   "nbconvert_exporter": "python",
   "pygments_lexer": "ipython3",
   "version": "3.6.5"
  }
 },
 "nbformat": 4,
 "nbformat_minor": 2
}
